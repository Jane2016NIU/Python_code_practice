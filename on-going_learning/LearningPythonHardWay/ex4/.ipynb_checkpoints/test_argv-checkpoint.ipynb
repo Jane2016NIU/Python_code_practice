{
 "cells": [
  {
   "cell_type": "code",
   "execution_count": 5,
   "metadata": {},
   "outputs": [
    {
     "name": "stdout",
     "output_type": "stream",
     "text": [
      "There are:  3 arguments\n",
      "['C:\\\\Users\\\\ljia\\\\Miniconda3\\\\envs\\\\test\\\\lib\\\\site-packages\\\\ipykernel_launcher.py', '-f', 'C:\\\\Users\\\\ljia\\\\AppData\\\\Roaming\\\\jupyter\\\\runtime\\\\kernel-c2255219-012f-459f-8446-1ab5bdbc41b7.json']\n"
     ]
    }
   ],
   "source": [
    "import sys\n",
    "\n",
    "print(\"There are: \", len(sys.argv), \"arguments\")\n",
    "print(sys.argv)"
   ]
  },
  {
   "cell_type": "code",
   "execution_count": null,
   "metadata": {},
   "outputs": [],
   "source": []
  }
 ],
 "metadata": {
  "kernelspec": {
   "display_name": "Python 3",
   "language": "python",
   "name": "python3"
  },
  "language_info": {
   "codemirror_mode": {
    "name": "ipython",
    "version": 3
   },
   "file_extension": ".py",
   "mimetype": "text/x-python",
   "name": "python",
   "nbconvert_exporter": "python",
   "pygments_lexer": "ipython3",
   "version": "3.9.1"
  }
 },
 "nbformat": 4,
 "nbformat_minor": 4
}
