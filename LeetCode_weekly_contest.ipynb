{
 "cells": [
  {
   "cell_type": "code",
   "execution_count": 24,
   "id": "commercial-parking",
   "metadata": {},
   "outputs": [],
   "source": [
    "class Solution:\n",
    "    def targetIndices(self, nums: list[int], target: int) -> list[int]:\n",
    "        # sort nums list\n",
    "        list1 = nums\n",
    "        list1.sort()\n",
    "        result = []\n",
    "        for i in range(len(nums)):\n",
    "            if list1[i] == target:\n",
    "                result.append(i)\n",
    "        return result"
   ]
  },
  {
   "cell_type": "code",
   "execution_count": null,
   "id": "adaptive-neighbor",
   "metadata": {},
   "outputs": [],
   "source": []
  },
  {
   "cell_type": "code",
   "execution_count": null,
   "id": "cubic-grill",
   "metadata": {},
   "outputs": [],
   "source": []
  },
  {
   "cell_type": "code",
   "execution_count": null,
   "id": "hawaiian-highway",
   "metadata": {},
   "outputs": [],
   "source": []
  },
  {
   "cell_type": "code",
   "execution_count": 25,
   "id": "sunrise-nirvana",
   "metadata": {},
   "outputs": [],
   "source": [
    "s = Solution()"
   ]
  },
  {
   "cell_type": "code",
   "execution_count": 26,
   "id": "taken-outreach",
   "metadata": {},
   "outputs": [],
   "source": [
    "L1 = [1,2,5,2,3]"
   ]
  },
  {
   "cell_type": "code",
   "execution_count": 27,
   "id": "psychological-processing",
   "metadata": {},
   "outputs": [],
   "source": [
    "li = L1.sort()"
   ]
  },
  {
   "cell_type": "code",
   "execution_count": 28,
   "id": "musical-charge",
   "metadata": {},
   "outputs": [
    {
     "data": {
      "text/plain": [
       "NoneType"
      ]
     },
     "execution_count": 28,
     "metadata": {},
     "output_type": "execute_result"
    }
   ],
   "source": [
    "type(li)"
   ]
  },
  {
   "cell_type": "code",
   "execution_count": 29,
   "id": "caroline-tunnel",
   "metadata": {},
   "outputs": [
    {
     "name": "stdout",
     "output_type": "stream",
     "text": [
      "1, 2, 2, 3, 5\n"
     ]
    }
   ],
   "source": [
    "print(str(L1)[1:-1])"
   ]
  },
  {
   "cell_type": "code",
   "execution_count": 30,
   "id": "academic-trinity",
   "metadata": {},
   "outputs": [],
   "source": [
    "target = 2"
   ]
  },
  {
   "cell_type": "code",
   "execution_count": 31,
   "id": "infrared-integrity",
   "metadata": {},
   "outputs": [
    {
     "name": "stdout",
     "output_type": "stream",
     "text": [
      "0\n",
      "1, 2, 2, 3, 5\n",
      "1\n",
      "1, 2, 2, 3, 5\n",
      "2\n",
      "1, 2, 2, 3, 5\n",
      "3\n",
      "1, 2, 2, 3, 5\n",
      "4\n",
      "1, 2, 2, 3, 5\n"
     ]
    }
   ],
   "source": [
    "re = s.targetIndices(L1,2)"
   ]
  },
  {
   "cell_type": "code",
   "execution_count": null,
   "id": "bridal-shooting",
   "metadata": {},
   "outputs": [],
   "source": [
    "print(str(re)[1:-1])"
   ]
  },
  {
   "cell_type": "markdown",
   "id": "artistic-retro",
   "metadata": {},
   "source": [
    "2090. K Radius Subarray Averages\n",
    "You are given a 0-indexed array nums of n integers, and an integer k.\n",
    "\n",
    "The k-radius average for a subarray of nums centered at some index i with the radius k is the average of all elements in nums between the indices i - k and i + k (inclusive). If there are less than k elements before or after the index i, then the k-radius average is -1.\n",
    "\n",
    "Build and return an array avgs of length n where avgs[i] is the k-radius average for the subarray centered at index i.\n",
    "\n",
    "The average of x elements is the sum of the x elements divided by x, using integer division. The integer division truncates toward zero, which means losing its fractional part.\n",
    "\n",
    "For example, the average of four elements 2, 3, 1, and 5 is (2 + 3 + 1 + 5) / 4 = 11 / 4 = 2.75, which truncates to 2.\n",
    "Link: https://leetcode.com/problems/k-radius-subarray-averages/"
   ]
  },
  {
   "cell_type": "code",
   "execution_count": null,
   "id": "familiar-disney",
   "metadata": {},
   "outputs": [],
   "source": [
    "#solution didn't pass bulk testing because of efficiency.\n",
    "class Solution:\n",
    "    def getAverages(self, nums: List[int], k: int) -> List[int]:\n",
    "        result = []\n",
    "        length = len(nums)\n",
    "        # k element logic:\n",
    "        if k == 0: \n",
    "            result = nums\n",
    "        else:\n",
    "            for i in range(length):\n",
    "                total = 0\n",
    "                if i < k:\n",
    "                    result.append(-1)\n",
    "                elif length - i -1 < k: \n",
    "                    result.append(-1)\n",
    "                else:\n",
    "                    for j in range(i - k, i + k + 1):\n",
    "                        total += nums[j]\n",
    "                    result.append( total // (2 * k + 1)) \n",
    "        return result"
   ]
  },
  {
   "cell_type": "code",
   "execution_count": null,
   "id": "shared-vehicle",
   "metadata": {},
   "outputs": [],
   "source": [
    "# n-sized sliding window"
   ]
  },
  {
   "cell_type": "code",
   "execution_count": null,
   "id": "correct-messenger",
   "metadata": {},
   "outputs": [],
   "source": [
    "class Solution:\n",
    "    def getAverages(self, nums: List[int], k: int) -> List[int]:\n",
    "        \n",
    "        length = len(nums)\n",
    "        result = [-1] * length\n",
    "        size = 2 * k + 1\n",
    "        \n",
    "        # define total for the temp result of adding elements\n",
    "        total = 0\n",
    "        for i in range(length):\n",
    "            total += nums[i]\n",
    "            if i - size >= 0: \n",
    "                total -= nums[i - size]\n",
    "            if i - 2 * k >= 0:\n",
    "                result[i - k] = total // size\n",
    "        return result"
   ]
  },
  {
   "cell_type": "markdown",
   "id": "governmental-apartment",
   "metadata": {},
   "source": [
    "2021-12-4 Question (1)\n",
    "\n",
    "2094. Finding 3-Digit Even Numbers\n",
    "\n",
    "You are given an integer array digits, where each element is a digit. The array may contain duplicates.\n",
    "\n",
    "You need to find all the unique integers that follow the given requirements:\n",
    "\n",
    "The integer consists of the concatenation of three elements from digits in any arbitrary order.\n",
    "The integer does not have leading zeros.\n",
    "The integer is even.\n",
    "For example, if the given digits were [1, 2, 3], integers 132 and 312 follow the requirements.\n",
    "\n",
    "Return a sorted array of the unique integers.\n"
   ]
  },
  {
   "cell_type": "code",
   "execution_count": null,
   "id": "arranged-importance",
   "metadata": {},
   "outputs": [],
   "source": [
    "class Solution:\n",
    "    def findEvenNumbers(self, digits: List[int]) -> List[int]:\n",
    "        li = digits\n",
    "        li.sort()\n",
    "        \n",
    "        result = set()\n",
    "        \n",
    "        for i in range(len(li)):\n",
    "            if li[i] == 0:\n",
    "                continue\n",
    "            temp = li.copy()\n",
    "            temp.pop(i)\n",
    "            for j in range(len(temp)): \n",
    "                temp1=temp.copy()\n",
    "                temp1.pop(j)\n",
    "                for k in temp1: \n",
    "                    \n",
    "                    if (k % 2 == 0):\n",
    "                        result.add(li[i] * 100 + temp[j] * 10 + k)\n",
    "        result = list(result)\n",
    "        result.sort()               \n",
    "        return result"
   ]
  },
  {
   "cell_type": "markdown",
   "id": "racial-fossil",
   "metadata": {},
   "source": [
    "2021-12-4 Question(2)\n",
    "\n",
    "You are given the head of a linked list. Delete the middle node, and return the head of the modified linked list.\n",
    "\n",
    "The middle node of a linked list of size n is the ⌊n / 2⌋th node from the start using 0-based indexing, where ⌊x⌋ denotes the largest integer less than or equal to x.\n",
    "\n",
    "For n = 1, 2, 3, 4, and 5, the middle nodes are 0, 1, 1, 2, and 2, respectively."
   ]
  },
  {
   "cell_type": "code",
   "execution_count": null,
   "id": "protective-auditor",
   "metadata": {},
   "outputs": [],
   "source": [
    "# Definition for singly-linked list.\n",
    "# class ListNode:\n",
    "#     def __init__(self, val=0, next=None):\n",
    "#         self.val = val\n",
    "#         self.next = next\n",
    "class Solution:\n",
    "    def deleteMiddle(self, head: Optional[ListNode]) -> Optional[ListNode]:\n",
    "        if not head: return head\n",
    "        if head and head.next == None: return None\n",
    "        \n",
    "        slow_slow = slow = fast = head\n",
    "        \n",
    "        while fast and fast.next:\n",
    "            slow_slow = slow\n",
    "            slow = slow.next\n",
    "            fast = fast.next.next\n",
    "        \n",
    "        slow_slow.next = slow.next\n",
    "        return head"
   ]
  },
  {
   "cell_type": "code",
   "execution_count": null,
   "id": "alternative-moral",
   "metadata": {},
   "outputs": [],
   "source": []
  },
  {
   "cell_type": "code",
   "execution_count": null,
   "id": "hundred-brunei",
   "metadata": {},
   "outputs": [],
   "source": [
    "test case: \n",
    "[1,3,4,7,1,2,6]\n",
    "[1,2,3,4]\n",
    "[2,1]\n",
    "\n",
    "expect:\n",
    "[1,3,4,1,2,6]\n",
    "[1,2,4]\n",
    "[2]"
   ]
  },
  {
   "cell_type": "markdown",
   "id": "cordless-evening",
   "metadata": {},
   "source": [
    "2096. Step-By-Step Directions From a Binary Tree Node to Another\n",
    "You are given the root of a binary tree with n nodes. Each node is uniquely assigned a value from 1 to n. You are also given an integer startValue representing the value of the start node s, and a different integer destValue representing the value of the destination node t.\n",
    "\n",
    "Find the shortest path starting from node s and ending at node t. Generate step-by-step directions of such path as a string consisting of only the uppercase letters 'L', 'R', and 'U'. Each letter indicates a specific direction:\n",
    "\n",
    "'L' means to go from a node to its left child node.\n",
    "'R' means to go from a node to its right child node.\n",
    "'U' means to go from a node to its parent node.\n",
    "Return the step-by-step directions of the shortest path from node s to node t.\n",
    "\n"
   ]
  },
  {
   "cell_type": "markdown",
   "id": "municipal-reform",
   "metadata": {},
   "source": [
    "#12-11-2021\n",
    "5952. Rings and Rods\n",
    "User Accepted:3873\n",
    "User Tried:4022\n",
    "Total Accepted:3922\n",
    "Total Submissions:4600\n",
    "Difficulty:Easy\n",
    "There are n rings and each ring is either red, green, or blue. The rings are distributed across ten rods labeled from 0 to 9.\n",
    "\n",
    "You are given a string rings of length 2n that describes the n rings that are placed onto the rods. Every two characters in rings forms a color-position pair that is used to describe each ring where:\n",
    "\n",
    "The first character of the ith pair denotes the ith ring's color ('R', 'G', 'B').\n",
    "The second character of the ith pair denotes the rod that the ith ring is placed on ('0' to '9').\n",
    "For example, \"R3G2B1\" describes n == 3 rings: a red ring placed onto the rod labeled 3, a green ring placed onto the rod labeled 2, and a blue ring placed onto the rod labeled 1.\n",
    "\n",
    "Return the number of rods that have all three colors of rings on them."
   ]
  },
  {
   "cell_type": "code",
   "execution_count": null,
   "id": "former-wrapping",
   "metadata": {},
   "outputs": [],
   "source": [
    "class Solution:\n",
    "    def countPoints(self, rings: str) -> int:\n",
    "        # color set ('R','G','B')\n",
    "        # list to have all 3 colors\n",
    "        result ={}\n",
    "        for i in range(len(rings)//2):\n",
    "            ran"
   ]
  },
  {
   "cell_type": "code",
   "execution_count": 4,
   "id": "uniform-inside",
   "metadata": {},
   "outputs": [
    {
     "name": "stdout",
     "output_type": "stream",
     "text": [
      "['A', 'BC', 'DEF']\n"
     ]
    }
   ],
   "source": [
    "def breakRNA(seqRNA, *breakPoint):\n",
    "    seqRNAList = []\n",
    "    noOfBreakPoints = len(breakPoint)\n",
    "    for breakPt in range(noOfBreakPoints):\n",
    "        for index in breakPoint:\n",
    "            seqRNAList.append(seqRNA[:index])\n",
    "            seqRNA = seqRNA[index:]\n",
    "        break\n",
    "    return seqRNAList\n",
    "\n",
    "test = breakRNA('ABCDEFGHIJKTTTTTGGGGGGGGCCCCCCCCCC', 1, 2, 3)\n",
    "print(test)\n"
   ]
  },
  {
   "cell_type": "markdown",
   "id": "assumed-begin",
   "metadata": {},
   "source": [
    "2109. Adding Spaces to a String\n",
    "User Accepted:5379\n",
    "User Tried:6178\n",
    "Total Accepted:5497\n",
    "Total Submissions:10559\n",
    "Difficulty:Medium\n",
    "You are given a 0-indexed string s and a 0-indexed integer array spaces that describes the indices in the original string where spaces will be added. Each space should be inserted before the character at the given index.\n",
    "\n",
    "For example, given s = \"EnjoyYourCoffee\" and spaces = [5, 9], we place spaces before 'Y' and 'C', which are at indices 5 and 9 respectively. Thus, we obtain \"Enjoy Your Coffee\".\n",
    "Return the modified string after the spaces have been added.\n",
    "\n"
   ]
  },
  {
   "cell_type": "code",
   "execution_count": 19,
   "id": "physical-directive",
   "metadata": {},
   "outputs": [],
   "source": [
    "class Solution:\n",
    "    def addSpaces(self, s: str, spaces: list[int]) -> str:\n",
    "        strList = []\n",
    "        start = 0\n",
    "        for i in spaces:\n",
    "            substr = s[start:i]\n",
    "\n",
    "            strList.append(substr)\n",
    "            start = i\n",
    "        \n",
    "        return \" \".join(strList)"
   ]
  },
  {
   "cell_type": "code",
   "execution_count": 20,
   "id": "dental-masters",
   "metadata": {},
   "outputs": [],
   "source": [
    "s=\"LeetcodeHelpsMeLearn\"\n",
    "spaces = [8,13,15]"
   ]
  },
  {
   "cell_type": "code",
   "execution_count": 21,
   "id": "continued-browser",
   "metadata": {},
   "outputs": [
    {
     "data": {
      "text/plain": [
       "'Leetcode Helps Me'"
      ]
     },
     "execution_count": 21,
     "metadata": {},
     "output_type": "execute_result"
    }
   ],
   "source": [
    "solu= Solution()\n",
    "solu.addSpaces(s,spaces)"
   ]
  },
  {
   "cell_type": "markdown",
   "id": "hired-memory",
   "metadata": {},
   "source": [
    "https://leetcode.com/contest/weekly-contest-271/problems/rings-and-rods/\n",
    "\n",
    "5952. Rings and Rods\n",
    "User Accepted:3873\n",
    "User Tried:4022\n",
    "Total Accepted:3922\n",
    "Total Submissions:4600\n",
    "Difficulty:Easy\n",
    "There are n rings and each ring is either red, green, or blue. The rings are distributed across ten rods labeled from 0 to 9.\n",
    "\n",
    "You are given a string rings of length 2n that describes the n rings that are placed onto the rods. Every two characters in rings forms a color-position pair that is used to describe each ring where:\n",
    "\n",
    "The first character of the ith pair denotes the ith ring's color ('R', 'G', 'B').\n",
    "The second character of the ith pair denotes the rod that the ith ring is placed on ('0' to '9').\n",
    "For example, \"R3G2B1\" describes n == 3 rings: a red ring placed onto the rod labeled 3, a green ring placed onto the rod labeled 2, and a blue ring placed onto the rod labeled 1.\n",
    "\n",
    "Return the number of rods that have all three colors of rings on them.\n",
    "\n",
    " \n",
    "\n",
    "Example 1:\n",
    "\n"
   ]
  },
  {
   "cell_type": "markdown",
   "id": "mental-library",
   "metadata": {},
   "source": [
    "My solution: is very slow takes 50 ms to run only faster than 12% other programs\n"
   ]
  },
  {
   "cell_type": "code",
   "execution_count": null,
   "id": "thousand-amplifier",
   "metadata": {},
   "outputs": [],
   "source": []
  },
  {
   "cell_type": "code",
   "execution_count": null,
   "id": "coastal-fetish",
   "metadata": {},
   "outputs": [],
   "source": [
    "class Solution:\n",
    "    def countPoints(self, rings: str) -> int:\n",
    "        # color set ('R','G','B')\n",
    "        # list to have all 3 colors\n",
    "        # with format: key: value from 0 - 9\n",
    "        result ={}\n",
    "        for i in range(10):\n",
    "            result[i] = set()\n",
    "        count = 0\n",
    "        #key->0-9 value is a set ()\n",
    "        # get color and put it to right position: \n",
    "        for i in range(len(rings)//2):\n",
    "            \n",
    "            position = int(rings[2 * i + 1])\n",
    "            result[position].add(rings[2 * i])\n",
    "            \n",
    "        for i in range(10):\n",
    "            if len(result[i]) == 3:\n",
    "                count += 1\n",
    "        return count\n",
    "            "
   ]
  },
  {
   "cell_type": "markdown",
   "id": "paperback-behavior",
   "metadata": {},
   "source": [
    "Biweekly:\n",
    "    5946. Maximum Number of Words Found in Sentences\n",
    "User Accepted:0\n",
    "User Tried:0\n",
    "Total Accepted:0\n",
    "Total Submissions:0\n",
    "Difficulty:Easy\n",
    "A sentence is a list of words that are separated by a single space with no leading or trailing spaces.\n",
    "\n",
    "You are given an array of strings sentences, where each sentences[i] represents a single sentence.\n",
    "\n",
    "Return the maximum number of words that appear in a single sentence."
   ]
  },
  {
   "cell_type": "code",
   "execution_count": null,
   "id": "fluid-excellence",
   "metadata": {},
   "outputs": [],
   "source": [
    "class Solution:\n",
    "    def countPoints(self, rings: str) -> int:\n",
    "        # color set ('R','G','B')\n",
    "        # list to have all 3 colors\n",
    "        # with format: key: value from 0 - 9\n",
    "        result ={}\n",
    "        for i in range(10):\n",
    "            result[i] = set()\n",
    "        count = 0\n",
    "        #key->0-9 value is a set ()\n",
    "        # get color and put it to right position: \n",
    "        for i in range(len(rings)//2):\n",
    "            \n",
    "            position = int(rings[2 * i + 1])\n",
    "            result[position].add(rings[2 * i])\n",
    "            \n",
    "        for i in range(10):\n",
    "            if len(result[i]) == 3:\n",
    "                count += 1\n",
    "        return count\n",
    "            "
   ]
  },
  {
   "cell_type": "markdown",
   "id": "extraordinary-depression",
   "metadata": {},
   "source": [
    "5976. Check if Every Row and Column Contains All Numbers (Jan. 8, 2022)\n",
    "User Accepted:14\n",
    "User Tried:23\n",
    "Total Accepted:14\n",
    "Total Submissions:23\n",
    "Difficulty:Easy\n",
    "An n x n matrix is valid if every row and every column contains all the integers from 1 to n (inclusive).\n",
    "\n",
    "Given an n x n integer matrix matrix, return true if the matrix is valid. Otherwise, return false.\n",
    "\n",
    "Input: matrix = [[1,2,3],[3,1,2],[2,3,1]]\n",
    "Output: true\n",
    "Explanation: In this case, n = 3, and every row and column contains the numbers 1, 2, and 3.\n",
    "Hence, we return true."
   ]
  },
  {
   "cell_type": "code",
   "execution_count": null,
   "id": "residential-holocaust",
   "metadata": {},
   "outputs": [],
   "source": [
    "class Solution:\n",
    "    def column(self, matrix: List[List[int]], i: int) -> List[int]:\n",
    "        return [row[i] for row in matrix]\n",
    "    \n",
    "    def checkValid(self, matrix: List[List[int]]) -> bool:\n",
    "        # make sure all numbers are included that means count unique is n \n",
    "        # check all row:\n",
    "        for i in matrix: \n",
    "            if len(list(set(i))) != len(i): \n",
    "                return False\n",
    "        for i in range(len(matrix[0])):\n",
    "            temp = self.column(matrix, i)\n",
    "            if len(temp) != len(list(set(temp))):\n",
    "                return False\n",
    "        return True"
   ]
  },
  {
   "cell_type": "code",
   "execution_count": null,
   "id": "substantial-bikini",
   "metadata": {},
   "outputs": [],
   "source": []
  },
  {
   "cell_type": "code",
   "execution_count": null,
   "id": "timely-raising",
   "metadata": {},
   "outputs": [],
   "source": []
  }
 ],
 "metadata": {
  "kernelspec": {
   "display_name": "Python 3",
   "language": "python",
   "name": "python3"
  },
  "language_info": {
   "codemirror_mode": {
    "name": "ipython",
    "version": 3
   },
   "file_extension": ".py",
   "mimetype": "text/x-python",
   "name": "python",
   "nbconvert_exporter": "python",
   "pygments_lexer": "ipython3",
   "version": "3.9.2"
  }
 },
 "nbformat": 4,
 "nbformat_minor": 5
}
