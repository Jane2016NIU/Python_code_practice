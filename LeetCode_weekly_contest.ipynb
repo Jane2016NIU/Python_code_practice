{
 "cells": [
  {
   "cell_type": "code",
   "execution_count": 24,
   "id": "expected-subject",
   "metadata": {},
   "outputs": [],
   "source": [
    "class Solution:\n",
    "    def targetIndices(self, nums: list[int], target: int) -> list[int]:\n",
    "        # sort nums list\n",
    "        list1 = nums\n",
    "        list1.sort()\n",
    "        result = []\n",
    "        for i in range(len(nums)):\n",
    "            if list1[i] == target:\n",
    "                result.append(i)\n",
    "        return result"
   ]
  },
  {
   "cell_type": "code",
   "execution_count": null,
   "id": "blessed-correlation",
   "metadata": {},
   "outputs": [],
   "source": []
  },
  {
   "cell_type": "code",
   "execution_count": null,
   "id": "substantial-vision",
   "metadata": {},
   "outputs": [],
   "source": []
  },
  {
   "cell_type": "code",
   "execution_count": null,
   "id": "informed-morocco",
   "metadata": {},
   "outputs": [],
   "source": []
  },
  {
   "cell_type": "code",
   "execution_count": 25,
   "id": "arranged-flood",
   "metadata": {},
   "outputs": [],
   "source": [
    "s = Solution()"
   ]
  },
  {
   "cell_type": "code",
   "execution_count": 26,
   "id": "bigger-praise",
   "metadata": {},
   "outputs": [],
   "source": [
    "L1 = [1,2,5,2,3]"
   ]
  },
  {
   "cell_type": "code",
   "execution_count": 27,
   "id": "tested-crazy",
   "metadata": {},
   "outputs": [],
   "source": [
    "li = L1.sort()"
   ]
  },
  {
   "cell_type": "code",
   "execution_count": 28,
   "id": "round-opera",
   "metadata": {},
   "outputs": [
    {
     "data": {
      "text/plain": [
       "NoneType"
      ]
     },
     "execution_count": 28,
     "metadata": {},
     "output_type": "execute_result"
    }
   ],
   "source": [
    "type(li)"
   ]
  },
  {
   "cell_type": "code",
   "execution_count": 29,
   "id": "disabled-stake",
   "metadata": {},
   "outputs": [
    {
     "name": "stdout",
     "output_type": "stream",
     "text": [
      "1, 2, 2, 3, 5\n"
     ]
    }
   ],
   "source": [
    "print(str(L1)[1:-1])"
   ]
  },
  {
   "cell_type": "code",
   "execution_count": 30,
   "id": "steady-republican",
   "metadata": {},
   "outputs": [],
   "source": [
    "target = 2"
   ]
  },
  {
   "cell_type": "code",
   "execution_count": 31,
   "id": "adjusted-flower",
   "metadata": {},
   "outputs": [
    {
     "name": "stdout",
     "output_type": "stream",
     "text": [
      "0\n",
      "1, 2, 2, 3, 5\n",
      "1\n",
      "1, 2, 2, 3, 5\n",
      "2\n",
      "1, 2, 2, 3, 5\n",
      "3\n",
      "1, 2, 2, 3, 5\n",
      "4\n",
      "1, 2, 2, 3, 5\n"
     ]
    }
   ],
   "source": [
    "re = s.targetIndices(L1,2)"
   ]
  },
  {
   "cell_type": "code",
   "execution_count": null,
   "id": "continent-liberal",
   "metadata": {},
   "outputs": [],
   "source": [
    "print(str(re)[1:-1])"
   ]
  },
  {
   "cell_type": "markdown",
   "id": "social-swaziland",
   "metadata": {},
   "source": [
    "2090. K Radius Subarray Averages\n",
    "You are given a 0-indexed array nums of n integers, and an integer k.\n",
    "\n",
    "The k-radius average for a subarray of nums centered at some index i with the radius k is the average of all elements in nums between the indices i - k and i + k (inclusive). If there are less than k elements before or after the index i, then the k-radius average is -1.\n",
    "\n",
    "Build and return an array avgs of length n where avgs[i] is the k-radius average for the subarray centered at index i.\n",
    "\n",
    "The average of x elements is the sum of the x elements divided by x, using integer division. The integer division truncates toward zero, which means losing its fractional part.\n",
    "\n",
    "For example, the average of four elements 2, 3, 1, and 5 is (2 + 3 + 1 + 5) / 4 = 11 / 4 = 2.75, which truncates to 2.\n",
    "Link: https://leetcode.com/problems/k-radius-subarray-averages/"
   ]
  },
  {
   "cell_type": "code",
   "execution_count": null,
   "id": "documentary-cable",
   "metadata": {},
   "outputs": [],
   "source": [
    "#solution didn't pass bulk testing because of efficiency.\n",
    "class Solution:\n",
    "    def getAverages(self, nums: List[int], k: int) -> List[int]:\n",
    "        result = []\n",
    "        length = len(nums)\n",
    "        # k element logic:\n",
    "        if k == 0: \n",
    "            result = nums\n",
    "        else:\n",
    "            for i in range(length):\n",
    "                total = 0\n",
    "                if i < k:\n",
    "                    result.append(-1)\n",
    "                elif length - i -1 < k: \n",
    "                    result.append(-1)\n",
    "                else:\n",
    "                    for j in range(i - k, i + k + 1):\n",
    "                        total += nums[j]\n",
    "                    result.append( total // (2 * k + 1)) \n",
    "        return result"
   ]
  },
  {
   "cell_type": "code",
   "execution_count": null,
   "id": "rolled-absolute",
   "metadata": {},
   "outputs": [],
   "source": [
    "# n-sized sliding window"
   ]
  },
  {
   "cell_type": "code",
   "execution_count": null,
   "id": "contemporary-laptop",
   "metadata": {},
   "outputs": [],
   "source": [
    "class Solution:\n",
    "    def getAverages(self, nums: List[int], k: int) -> List[int]:\n",
    "        \n",
    "        length = len(nums)\n",
    "        result = [-1] * length\n",
    "        size = 2 * k + 1\n",
    "        \n",
    "        # define total for the temp result of adding elements\n",
    "        total = 0\n",
    "        for i in range(length):\n",
    "            total += nums[i]\n",
    "            if i - size >= 0: \n",
    "                total -= nums[i - size]\n",
    "            if i - 2 * k >= 0:\n",
    "                result[i - k] = total // size\n",
    "        return result"
   ]
  },
  {
   "cell_type": "markdown",
   "id": "rational-rally",
   "metadata": {},
   "source": [
    "2021-12-4 Question (1)\n",
    "\n",
    "2094. Finding 3-Digit Even Numbers\n",
    "\n",
    "You are given an integer array digits, where each element is a digit. The array may contain duplicates.\n",
    "\n",
    "You need to find all the unique integers that follow the given requirements:\n",
    "\n",
    "The integer consists of the concatenation of three elements from digits in any arbitrary order.\n",
    "The integer does not have leading zeros.\n",
    "The integer is even.\n",
    "For example, if the given digits were [1, 2, 3], integers 132 and 312 follow the requirements.\n",
    "\n",
    "Return a sorted array of the unique integers.\n"
   ]
  },
  {
   "cell_type": "code",
   "execution_count": null,
   "id": "animal-saying",
   "metadata": {},
   "outputs": [],
   "source": [
    "class Solution:\n",
    "    def findEvenNumbers(self, digits: List[int]) -> List[int]:\n",
    "        li = digits\n",
    "        li.sort()\n",
    "        \n",
    "        result = set()\n",
    "        \n",
    "        for i in range(len(li)):\n",
    "            if li[i] == 0:\n",
    "                continue\n",
    "            temp = li.copy()\n",
    "            temp.pop(i)\n",
    "            for j in range(len(temp)): \n",
    "                temp1=temp.copy()\n",
    "                temp1.pop(j)\n",
    "                for k in temp1: \n",
    "                    \n",
    "                    if (k % 2 == 0):\n",
    "                        result.add(li[i] * 100 + temp[j] * 10 + k)\n",
    "        result = list(result)\n",
    "        result.sort()               \n",
    "        return result"
   ]
  },
  {
   "cell_type": "markdown",
   "id": "suspected-specialist",
   "metadata": {},
   "source": [
    "2021-12-4 Question(2)\n",
    "\n",
    "You are given the head of a linked list. Delete the middle node, and return the head of the modified linked list.\n",
    "\n",
    "The middle node of a linked list of size n is the ⌊n / 2⌋th node from the start using 0-based indexing, where ⌊x⌋ denotes the largest integer less than or equal to x.\n",
    "\n",
    "For n = 1, 2, 3, 4, and 5, the middle nodes are 0, 1, 1, 2, and 2, respectively."
   ]
  },
  {
   "cell_type": "code",
   "execution_count": null,
   "id": "hungry-cleaner",
   "metadata": {},
   "outputs": [],
   "source": [
    "# Definition for singly-linked list.\n",
    "# class ListNode:\n",
    "#     def __init__(self, val=0, next=None):\n",
    "#         self.val = val\n",
    "#         self.next = next\n",
    "class Solution:\n",
    "    def deleteMiddle(self, head: Optional[ListNode]) -> Optional[ListNode]:\n",
    "        if not head: return head\n",
    "        if head and head.next == None: return None\n",
    "        \n",
    "        slow_slow = slow = fast = head\n",
    "        \n",
    "        while fast and fast.next:\n",
    "            slow_slow = slow\n",
    "            slow = slow.next\n",
    "            fast = fast.next.next\n",
    "        \n",
    "        slow_slow.next = slow.next\n",
    "        return head"
   ]
  },
  {
   "cell_type": "code",
   "execution_count": null,
   "id": "missing-collaboration",
   "metadata": {},
   "outputs": [],
   "source": [
    "test case: \n",
    "[1,3,4,7,1,2,6]\n",
    "[1,2,3,4]\n",
    "[2,1]\n",
    "\n",
    "expect:\n",
    "[1,3,4,1,2,6]\n",
    "[1,2,4]\n",
    "[2]"
   ]
  }
 ],
 "metadata": {
  "kernelspec": {
   "display_name": "Python 3",
   "language": "python",
   "name": "python3"
  },
  "language_info": {
   "codemirror_mode": {
    "name": "ipython",
    "version": 3
   },
   "file_extension": ".py",
   "mimetype": "text/x-python",
   "name": "python",
   "nbconvert_exporter": "python",
   "pygments_lexer": "ipython3",
   "version": "3.9.2"
  }
 },
 "nbformat": 4,
 "nbformat_minor": 5
}
