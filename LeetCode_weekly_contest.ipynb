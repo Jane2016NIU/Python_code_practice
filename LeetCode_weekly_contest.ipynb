{
 "cells": [
  {
   "cell_type": "code",
   "execution_count": null,
   "id": "bigger-sullivan",
   "metadata": {},
   "outputs": [],
   "source": []
  },
  {
   "cell_type": "markdown",
   "id": "therapeutic-announcement",
   "metadata": {},
   "source": [
    "2293. Min Max Game\n",
    "User Accepted:11213\n",
    "User Tried:11973\n",
    "Total Accepted:11510\n",
    "Total Submissions:19051\n",
    "Difficulty:Easy\n",
    "You are given a 0-indexed integer array nums whose length is a power of 2.\n",
    "\n",
    "Apply the following algorithm on nums:\n",
    "\n",
    "Let n be the length of nums. If n == 1, end the process. Otherwise, create a new 0-indexed integer array newNums of length n / 2.\n",
    "For every even index i where 0 <= i < n / 2, assign the value of newNums[i] as min(nums[2 * i], nums[2 * i + 1]).\n",
    "For every odd index i where 0 <= i < n / 2, assign the value of newNums[i] as max(nums[2 * i], nums[2 * i + 1]).\n",
    "Replace the array nums with newNums.\n",
    "Repeat the entire process starting from step 1.\n",
    "Return the last number that remains in nums after applying the algorithm.\n",
    "\n",
    "Example1:\n",
    "Input: nums = [1,3,5,2,4,8,2,2]\n",
    "Output: 1\n",
    "Explanation: The following arrays are the results of applying the algorithm repeatedly.\n",
    "First: nums = [1,5,4,2]\n",
    "Second: nums = [1,4]\n",
    "Third: nums = [1]\n",
    "1 is the last remaining number, so we return 1.\n",
    "\n",
    "Example 2:\n",
    "Input: nums = [3]\n",
    "Output: 3\n",
    "Explanation: 3 is already the last remaining number, so we return 3."
   ]
  },
  {
   "cell_type": "code",
   "execution_count": null,
   "id": "bronze-hotel",
   "metadata": {},
   "outputs": [],
   "source": []
  },
  {
   "cell_type": "code",
   "execution_count": null,
   "id": "through-venezuela",
   "metadata": {},
   "outputs": [],
   "source": []
  },
  {
   "cell_type": "code",
   "execution_count": null,
   "id": "short-theology",
   "metadata": {},
   "outputs": [],
   "source": []
  },
  {
   "cell_type": "code",
   "execution_count": null,
   "id": "horizontal-partner",
   "metadata": {},
   "outputs": [],
   "source": []
  },
  {
   "cell_type": "code",
   "execution_count": null,
   "id": "ignored-ordering",
   "metadata": {},
   "outputs": [],
   "source": []
  },
  {
   "cell_type": "code",
   "execution_count": null,
   "id": "revolutionary-crawford",
   "metadata": {},
   "outputs": [],
   "source": []
  },
  {
   "cell_type": "code",
   "execution_count": null,
   "id": "strategic-spray",
   "metadata": {},
   "outputs": [],
   "source": []
  },
  {
   "cell_type": "code",
   "execution_count": null,
   "id": "intensive-omega",
   "metadata": {},
   "outputs": [],
   "source": []
  },
  {
   "cell_type": "code",
   "execution_count": null,
   "id": "cordless-flour",
   "metadata": {},
   "outputs": [],
   "source": []
  },
  {
   "cell_type": "code",
   "execution_count": 24,
   "id": "explicit-arctic",
   "metadata": {},
   "outputs": [],
   "source": [
    "class Solution:\n",
    "    def targetIndices(self, nums: list[int], target: int) -> list[int]:\n",
    "        # sort nums list\n",
    "        list1 = nums\n",
    "        list1.sort()\n",
    "        result = []\n",
    "        for i in range(len(nums)):\n",
    "            if list1[i] == target:\n",
    "                result.append(i)\n",
    "        return result"
   ]
  },
  {
   "cell_type": "code",
   "execution_count": 25,
   "id": "original-extension",
   "metadata": {},
   "outputs": [],
   "source": [
    "s = Solution()"
   ]
  },
  {
   "cell_type": "code",
   "execution_count": 26,
   "id": "expanded-rabbit",
   "metadata": {},
   "outputs": [],
   "source": [
    "L1 = [1,2,5,2,3]"
   ]
  },
  {
   "cell_type": "code",
   "execution_count": 27,
   "id": "nonprofit-bachelor",
   "metadata": {},
   "outputs": [],
   "source": [
    "li = L1.sort()"
   ]
  },
  {
   "cell_type": "code",
   "execution_count": 28,
   "id": "royal-notebook",
   "metadata": {},
   "outputs": [
    {
     "data": {
      "text/plain": [
       "NoneType"
      ]
     },
     "execution_count": 28,
     "metadata": {},
     "output_type": "execute_result"
    }
   ],
   "source": [
    "type(li)"
   ]
  },
  {
   "cell_type": "code",
   "execution_count": 29,
   "id": "vulnerable-grocery",
   "metadata": {},
   "outputs": [
    {
     "name": "stdout",
     "output_type": "stream",
     "text": [
      "1, 2, 2, 3, 5\n"
     ]
    }
   ],
   "source": [
    "print(str(L1)[1:-1])"
   ]
  },
  {
   "cell_type": "code",
   "execution_count": 30,
   "id": "frequent-envelope",
   "metadata": {},
   "outputs": [],
   "source": [
    "target = 2"
   ]
  },
  {
   "cell_type": "code",
   "execution_count": 31,
   "id": "lovely-boutique",
   "metadata": {},
   "outputs": [
    {
     "name": "stdout",
     "output_type": "stream",
     "text": [
      "0\n",
      "1, 2, 2, 3, 5\n",
      "1\n",
      "1, 2, 2, 3, 5\n",
      "2\n",
      "1, 2, 2, 3, 5\n",
      "3\n",
      "1, 2, 2, 3, 5\n",
      "4\n",
      "1, 2, 2, 3, 5\n"
     ]
    }
   ],
   "source": [
    "re = s.targetIndices(L1,2)"
   ]
  },
  {
   "cell_type": "code",
   "execution_count": null,
   "id": "medium-wellington",
   "metadata": {},
   "outputs": [],
   "source": [
    "print(str(re)[1:-1])"
   ]
  },
  {
   "cell_type": "markdown",
   "id": "literary-routine",
   "metadata": {},
   "source": [
    "2090. K Radius Subarray Averages\n",
    "You are given a 0-indexed array nums of n integers, and an integer k.\n",
    "\n",
    "The k-radius average for a subarray of nums centered at some index i with the radius k is the average of all elements in nums between the indices i - k and i + k (inclusive). If there are less than k elements before or after the index i, then the k-radius average is -1.\n",
    "\n",
    "Build and return an array avgs of length n where avgs[i] is the k-radius average for the subarray centered at index i.\n",
    "\n",
    "The average of x elements is the sum of the x elements divided by x, using integer division. The integer division truncates toward zero, which means losing its fractional part.\n",
    "\n",
    "For example, the average of four elements 2, 3, 1, and 5 is (2 + 3 + 1 + 5) / 4 = 11 / 4 = 2.75, which truncates to 2.\n",
    "Link: https://leetcode.com/problems/k-radius-subarray-averages/"
   ]
  },
  {
   "cell_type": "code",
   "execution_count": null,
   "id": "great-saudi",
   "metadata": {},
   "outputs": [],
   "source": [
    "#solution didn't pass bulk testing because of efficiency.\n",
    "class Solution:\n",
    "    def getAverages(self, nums: List[int], k: int) -> List[int]:\n",
    "        result = []\n",
    "        length = len(nums)\n",
    "        # k element logic:\n",
    "        if k == 0: \n",
    "            result = nums\n",
    "        else:\n",
    "            for i in range(length):\n",
    "                total = 0\n",
    "                if i < k:\n",
    "                    result.append(-1)\n",
    "                elif length - i -1 < k: \n",
    "                    result.append(-1)\n",
    "                else:\n",
    "                    for j in range(i - k, i + k + 1):\n",
    "                        total += nums[j]\n",
    "                    result.append( total // (2 * k + 1)) \n",
    "        return result"
   ]
  },
  {
   "cell_type": "code",
   "execution_count": null,
   "id": "gothic-spirituality",
   "metadata": {},
   "outputs": [],
   "source": [
    "# n-sized sliding window"
   ]
  },
  {
   "cell_type": "code",
   "execution_count": null,
   "id": "about-software",
   "metadata": {},
   "outputs": [],
   "source": [
    "class Solution:\n",
    "    def getAverages(self, nums: List[int], k: int) -> List[int]:\n",
    "        \n",
    "        length = len(nums)\n",
    "        result = [-1] * length\n",
    "        size = 2 * k + 1\n",
    "        \n",
    "        # define total for the temp result of adding elements\n",
    "        total = 0\n",
    "        for i in range(length):\n",
    "            total += nums[i]\n",
    "            if i - size >= 0: \n",
    "                total -= nums[i - size]\n",
    "            if i - 2 * k >= 0:\n",
    "                result[i - k] = total // size\n",
    "        return result"
   ]
  },
  {
   "cell_type": "markdown",
   "id": "diverse-edmonton",
   "metadata": {},
   "source": [
    "2021-12-4 Question (1)\n",
    "\n",
    "2094. Finding 3-Digit Even Numbers\n",
    "\n",
    "You are given an integer array digits, where each element is a digit. The array may contain duplicates.\n",
    "\n",
    "You need to find all the unique integers that follow the given requirements:\n",
    "\n",
    "The integer consists of the concatenation of three elements from digits in any arbitrary order.\n",
    "The integer does not have leading zeros.\n",
    "The integer is even.\n",
    "For example, if the given digits were [1, 2, 3], integers 132 and 312 follow the requirements.\n",
    "\n",
    "Return a sorted array of the unique integers.\n"
   ]
  },
  {
   "cell_type": "code",
   "execution_count": null,
   "id": "material-waters",
   "metadata": {},
   "outputs": [],
   "source": [
    "class Solution:\n",
    "    def findEvenNumbers(self, digits: List[int]) -> List[int]:\n",
    "        li = digits\n",
    "        li.sort()\n",
    "        \n",
    "        result = set()\n",
    "        \n",
    "        for i in range(len(li)):\n",
    "            if li[i] == 0:\n",
    "                continue\n",
    "            temp = li.copy()\n",
    "            temp.pop(i)\n",
    "            for j in range(len(temp)): \n",
    "                temp1=temp.copy()\n",
    "                temp1.pop(j)\n",
    "                for k in temp1: \n",
    "                    \n",
    "                    if (k % 2 == 0):\n",
    "                        result.add(li[i] * 100 + temp[j] * 10 + k)\n",
    "        result = list(result)\n",
    "        result.sort()               \n",
    "        return result"
   ]
  },
  {
   "cell_type": "markdown",
   "id": "inappropriate-michael",
   "metadata": {},
   "source": [
    "2021-12-4 Question(2)\n",
    "\n",
    "You are given the head of a linked list. Delete the middle node, and return the head of the modified linked list.\n",
    "\n",
    "The middle node of a linked list of size n is the ⌊n / 2⌋th node from the start using 0-based indexing, where ⌊x⌋ denotes the largest integer less than or equal to x.\n",
    "\n",
    "For n = 1, 2, 3, 4, and 5, the middle nodes are 0, 1, 1, 2, and 2, respectively."
   ]
  },
  {
   "cell_type": "code",
   "execution_count": null,
   "id": "legendary-plate",
   "metadata": {},
   "outputs": [],
   "source": [
    "# Definition for singly-linked list.\n",
    "# class ListNode:\n",
    "#     def __init__(self, val=0, next=None):\n",
    "#         self.val = val\n",
    "#         self.next = next\n",
    "class Solution:\n",
    "    def deleteMiddle(self, head: Optional[ListNode]) -> Optional[ListNode]:\n",
    "        if not head: return head\n",
    "        if head and head.next == None: return None\n",
    "        \n",
    "        slow_slow = slow = fast = head\n",
    "        \n",
    "        while fast and fast.next:\n",
    "            slow_slow = slow\n",
    "            slow = slow.next\n",
    "            fast = fast.next.next\n",
    "        \n",
    "        slow_slow.next = slow.next\n",
    "        return head"
   ]
  },
  {
   "cell_type": "code",
   "execution_count": null,
   "id": "skilled-memorabilia",
   "metadata": {},
   "outputs": [],
   "source": []
  },
  {
   "cell_type": "code",
   "execution_count": null,
   "id": "liked-myanmar",
   "metadata": {},
   "outputs": [],
   "source": [
    "test case: \n",
    "[1,3,4,7,1,2,6]\n",
    "[1,2,3,4]\n",
    "[2,1]\n",
    "\n",
    "expect:\n",
    "[1,3,4,1,2,6]\n",
    "[1,2,4]\n",
    "[2]"
   ]
  },
  {
   "cell_type": "markdown",
   "id": "sunrise-session",
   "metadata": {},
   "source": [
    "2096. Step-By-Step Directions From a Binary Tree Node to Another\n",
    "You are given the root of a binary tree with n nodes. Each node is uniquely assigned a value from 1 to n. You are also given an integer startValue representing the value of the start node s, and a different integer destValue representing the value of the destination node t.\n",
    "\n",
    "Find the shortest path starting from node s and ending at node t. Generate step-by-step directions of such path as a string consisting of only the uppercase letters 'L', 'R', and 'U'. Each letter indicates a specific direction:\n",
    "\n",
    "'L' means to go from a node to its left child node.\n",
    "'R' means to go from a node to its right child node.\n",
    "'U' means to go from a node to its parent node.\n",
    "Return the step-by-step directions of the shortest path from node s to node t.\n",
    "\n"
   ]
  },
  {
   "cell_type": "markdown",
   "id": "incredible-cancer",
   "metadata": {},
   "source": [
    "#12-11-2021\n",
    "5952. Rings and Rods\n",
    "User Accepted:3873\n",
    "User Tried:4022\n",
    "Total Accepted:3922\n",
    "Total Submissions:4600\n",
    "Difficulty:Easy\n",
    "There are n rings and each ring is either red, green, or blue. The rings are distributed across ten rods labeled from 0 to 9.\n",
    "\n",
    "You are given a string rings of length 2n that describes the n rings that are placed onto the rods. Every two characters in rings forms a color-position pair that is used to describe each ring where:\n",
    "\n",
    "The first character of the ith pair denotes the ith ring's color ('R', 'G', 'B').\n",
    "The second character of the ith pair denotes the rod that the ith ring is placed on ('0' to '9').\n",
    "For example, \"R3G2B1\" describes n == 3 rings: a red ring placed onto the rod labeled 3, a green ring placed onto the rod labeled 2, and a blue ring placed onto the rod labeled 1.\n",
    "\n",
    "Return the number of rods that have all three colors of rings on them."
   ]
  },
  {
   "cell_type": "code",
   "execution_count": null,
   "id": "extreme-sponsorship",
   "metadata": {},
   "outputs": [],
   "source": [
    "class Solution:\n",
    "    def countPoints(self, rings: str) -> int:\n",
    "        # color set ('R','G','B')\n",
    "        # list to have all 3 colors\n",
    "        result ={}\n",
    "        for i in range(len(rings)//2):\n",
    "            ran"
   ]
  },
  {
   "cell_type": "code",
   "execution_count": 4,
   "id": "fabulous-sauce",
   "metadata": {},
   "outputs": [
    {
     "name": "stdout",
     "output_type": "stream",
     "text": [
      "['A', 'BC', 'DEF']\n"
     ]
    }
   ],
   "source": [
    "def breakRNA(seqRNA, *breakPoint):\n",
    "    seqRNAList = []\n",
    "    noOfBreakPoints = len(breakPoint)\n",
    "    for breakPt in range(noOfBreakPoints):\n",
    "        for index in breakPoint:\n",
    "            seqRNAList.append(seqRNA[:index])\n",
    "            seqRNA = seqRNA[index:]\n",
    "        break\n",
    "    return seqRNAList\n",
    "\n",
    "test = breakRNA('ABCDEFGHIJKTTTTTGGGGGGGGCCCCCCCCCC', 1, 2, 3)\n",
    "print(test)\n"
   ]
  },
  {
   "cell_type": "markdown",
   "id": "imported-deficit",
   "metadata": {},
   "source": [
    "2109. Adding Spaces to a String\n",
    "User Accepted:5379\n",
    "User Tried:6178\n",
    "Total Accepted:5497\n",
    "Total Submissions:10559\n",
    "Difficulty:Medium\n",
    "You are given a 0-indexed string s and a 0-indexed integer array spaces that describes the indices in the original string where spaces will be added. Each space should be inserted before the character at the given index.\n",
    "\n",
    "For example, given s = \"EnjoyYourCoffee\" and spaces = [5, 9], we place spaces before 'Y' and 'C', which are at indices 5 and 9 respectively. Thus, we obtain \"Enjoy Your Coffee\".\n",
    "Return the modified string after the spaces have been added.\n",
    "\n"
   ]
  },
  {
   "cell_type": "code",
   "execution_count": 19,
   "id": "black-trainer",
   "metadata": {},
   "outputs": [],
   "source": [
    "class Solution:\n",
    "    def addSpaces(self, s: str, spaces: list[int]) -> str:\n",
    "        strList = []\n",
    "        start = 0\n",
    "        for i in spaces:\n",
    "            substr = s[start:i]\n",
    "\n",
    "            strList.append(substr)\n",
    "            start = i\n",
    "        \n",
    "        return \" \".join(strList)"
   ]
  },
  {
   "cell_type": "code",
   "execution_count": 20,
   "id": "identical-adult",
   "metadata": {},
   "outputs": [],
   "source": [
    "s=\"LeetcodeHelpsMeLearn\"\n",
    "spaces = [8,13,15]"
   ]
  },
  {
   "cell_type": "code",
   "execution_count": 21,
   "id": "synthetic-appearance",
   "metadata": {},
   "outputs": [
    {
     "data": {
      "text/plain": [
       "'Leetcode Helps Me'"
      ]
     },
     "execution_count": 21,
     "metadata": {},
     "output_type": "execute_result"
    }
   ],
   "source": [
    "solu= Solution()\n",
    "solu.addSpaces(s,spaces)"
   ]
  },
  {
   "cell_type": "markdown",
   "id": "filled-placement",
   "metadata": {},
   "source": [
    "https://leetcode.com/contest/weekly-contest-271/problems/rings-and-rods/\n",
    "\n",
    "5952. Rings and Rods\n",
    "User Accepted:3873\n",
    "User Tried:4022\n",
    "Total Accepted:3922\n",
    "Total Submissions:4600\n",
    "Difficulty:Easy\n",
    "There are n rings and each ring is either red, green, or blue. The rings are distributed across ten rods labeled from 0 to 9.\n",
    "\n",
    "You are given a string rings of length 2n that describes the n rings that are placed onto the rods. Every two characters in rings forms a color-position pair that is used to describe each ring where:\n",
    "\n",
    "The first character of the ith pair denotes the ith ring's color ('R', 'G', 'B').\n",
    "The second character of the ith pair denotes the rod that the ith ring is placed on ('0' to '9').\n",
    "For example, \"R3G2B1\" describes n == 3 rings: a red ring placed onto the rod labeled 3, a green ring placed onto the rod labeled 2, and a blue ring placed onto the rod labeled 1.\n",
    "\n",
    "Return the number of rods that have all three colors of rings on them.\n",
    "\n",
    " \n",
    "\n",
    "Example 1:\n",
    "\n"
   ]
  },
  {
   "cell_type": "markdown",
   "id": "vital-lighter",
   "metadata": {},
   "source": [
    "My solution: is very slow takes 50 ms to run only faster than 12% other programs\n"
   ]
  },
  {
   "cell_type": "code",
   "execution_count": null,
   "id": "complicated-porter",
   "metadata": {},
   "outputs": [],
   "source": []
  },
  {
   "cell_type": "code",
   "execution_count": null,
   "id": "spatial-disclosure",
   "metadata": {},
   "outputs": [],
   "source": [
    "class Solution:\n",
    "    def countPoints(self, rings: str) -> int:\n",
    "        # color set ('R','G','B')\n",
    "        # list to have all 3 colors\n",
    "        # with format: key: value from 0 - 9\n",
    "        result ={}\n",
    "        for i in range(10):\n",
    "            result[i] = set()\n",
    "        count = 0\n",
    "        #key->0-9 value is a set ()\n",
    "        # get color and put it to right position: \n",
    "        for i in range(len(rings)//2):\n",
    "            \n",
    "            position = int(rings[2 * i + 1])\n",
    "            result[position].add(rings[2 * i])\n",
    "            \n",
    "        for i in range(10):\n",
    "            if len(result[i]) == 3:\n",
    "                count += 1\n",
    "        return count\n",
    "            "
   ]
  },
  {
   "cell_type": "markdown",
   "id": "australian-honor",
   "metadata": {},
   "source": [
    "Biweekly:\n",
    "    5946. Maximum Number of Words Found in Sentences\n",
    "User Accepted:0\n",
    "User Tried:0\n",
    "Total Accepted:0\n",
    "Total Submissions:0\n",
    "Difficulty:Easy\n",
    "A sentence is a list of words that are separated by a single space with no leading or trailing spaces.\n",
    "\n",
    "You are given an array of strings sentences, where each sentences[i] represents a single sentence.\n",
    "\n",
    "Return the maximum number of words that appear in a single sentence."
   ]
  },
  {
   "cell_type": "code",
   "execution_count": null,
   "id": "clean-merit",
   "metadata": {},
   "outputs": [],
   "source": [
    "class Solution:\n",
    "    def countPoints(self, rings: str) -> int:\n",
    "        # color set ('R','G','B')\n",
    "        # list to have all 3 colors\n",
    "        # with format: key: value from 0 - 9\n",
    "        result ={}\n",
    "        for i in range(10):\n",
    "            result[i] = set()\n",
    "        count = 0\n",
    "        #key->0-9 value is a set ()\n",
    "        # get color and put it to right position: \n",
    "        for i in range(len(rings)//2):\n",
    "            \n",
    "            position = int(rings[2 * i + 1])\n",
    "            result[position].add(rings[2 * i])\n",
    "            \n",
    "        for i in range(10):\n",
    "            if len(result[i]) == 3:\n",
    "                count += 1\n",
    "        return count\n",
    "            "
   ]
  },
  {
   "cell_type": "markdown",
   "id": "sought-toyota",
   "metadata": {},
   "source": [
    "5976. Check if Every Row and Column Contains All Numbers (Jan. 8, 2022)\n",
    "User Accepted:14\n",
    "User Tried:23\n",
    "Total Accepted:14\n",
    "Total Submissions:23\n",
    "Difficulty:Easy\n",
    "An n x n matrix is valid if every row and every column contains all the integers from 1 to n (inclusive).\n",
    "\n",
    "Given an n x n integer matrix matrix, return true if the matrix is valid. Otherwise, return false.\n",
    "\n",
    "Input: matrix = [[1,2,3],[3,1,2],[2,3,1]]\n",
    "Output: true\n",
    "Explanation: In this case, n = 3, and every row and column contains the numbers 1, 2, and 3.\n",
    "Hence, we return true."
   ]
  },
  {
   "cell_type": "code",
   "execution_count": null,
   "id": "considerable-documentation",
   "metadata": {},
   "outputs": [],
   "source": [
    "class Solution:\n",
    "    def column(self, matrix: List[List[int]], i: int) -> List[int]:\n",
    "        return [row[i] for row in matrix]\n",
    "    \n",
    "    def checkValid(self, matrix: List[List[int]]) -> bool:\n",
    "        # make sure all numbers are included that means count unique is n \n",
    "        # check all row:\n",
    "        for i in matrix: \n",
    "            if len(list(set(i))) != len(i): \n",
    "                return False\n",
    "        for i in range(len(matrix[0])):\n",
    "            temp = self.column(matrix, i)\n",
    "            if len(temp) != len(list(set(temp))):\n",
    "                return False\n",
    "        return True"
   ]
  },
  {
   "cell_type": "code",
   "execution_count": null,
   "id": "acceptable-command",
   "metadata": {},
   "outputs": [],
   "source": [
    "5977. Minimum Swaps to Group All 1's Together II\n",
    "User Accepted:982\n",
    "User Tried:1689\n",
    "Total Accepted:985\n",
    "Total Submissions:2476\n",
    "Difficulty:Medium\n",
    "A swap is defined as taking two distinct positions in an array and swapping the values in them.\n",
    "\n",
    "A circular array is defined as an array where we consider the first element and the last element to be adjacent.\n",
    "\n",
    "Given a binary circular array nums, return the minimum number of swaps required to group all 1's present in the array together at any location."
   ]
  },
  {
   "cell_type": "code",
   "execution_count": null,
   "id": "found-amber",
   "metadata": {},
   "outputs": [],
   "source": [
    "5980. Divide a String Into Groups of Size k\n",
    "User Accepted:196\n",
    "User Tried:222\n",
    "Total Accepted:197\n",
    "Total Submissions:237\n",
    "Difficulty:Easy\n",
    "A string s can be partitioned into groups of size k using the following procedure:\n",
    "\n",
    "The first group consists of the first k characters of the string, the second group consists of the next k characters of the string, and so on. Each character can be a part of exactly one group.\n",
    "For the last group, if the string does not have k characters remaining, a character fill is used to complete the group.\n",
    "Note that the partition is done so that after removing the fill character from the last group (if it exists) and concatenating all the groups in order, the resultant string should be s.\n",
    "\n",
    "Given the string s, the size of each group k and the character fill, return a string array denoting the composition of every group s has been divided into, using the above procedure."
   ]
  },
  {
   "cell_type": "code",
   "execution_count": 20,
   "id": "animated-change",
   "metadata": {},
   "outputs": [],
   "source": [
    "class Solution:\n",
    "    def divideString(self, s: str, k: int, fill: str) -> list[str]:\n",
    "        i = 0\n",
    "        arr = []\n",
    "        while i + k -1 < len(s):\n",
    "            arr.append(s[i:i+k])\n",
    "            i += k\n",
    "            print(i)\n",
    "        if i != len(s):\n",
    "            substring_last = s[i:]\n",
    "            \n",
    "            for j in range(k - (len(s) - i)):\n",
    "                substring_last += fill\n",
    "                print(j)\n",
    "            arr.append(substring_last)\n",
    "        return arr"
   ]
  },
  {
   "cell_type": "code",
   "execution_count": 21,
   "id": "ready-uruguay",
   "metadata": {},
   "outputs": [],
   "source": [
    "s = \"abcdefghij\"\n",
    "k=3\n",
    "fill = 'x'"
   ]
  },
  {
   "cell_type": "code",
   "execution_count": 22,
   "id": "covered-benefit",
   "metadata": {},
   "outputs": [],
   "source": [
    "solu = Solution()"
   ]
  },
  {
   "cell_type": "code",
   "execution_count": 23,
   "id": "oriented-nylon",
   "metadata": {},
   "outputs": [
    {
     "name": "stdout",
     "output_type": "stream",
     "text": [
      "3\n",
      "6\n",
      "9\n",
      "0\n",
      "1\n"
     ]
    },
    {
     "data": {
      "text/plain": [
       "['abc', 'def', 'ghi', 'jxx']"
      ]
     },
     "execution_count": 23,
     "metadata": {},
     "output_type": "execute_result"
    }
   ],
   "source": [
    "solu.divideString(s,k,fill)"
   ]
  },
  {
   "cell_type": "code",
   "execution_count": null,
   "id": "natural-grammar",
   "metadata": {},
   "outputs": [],
   "source": []
  },
  {
   "cell_type": "code",
   "execution_count": null,
   "id": "common-reporter",
   "metadata": {},
   "outputs": [],
   "source": [
    "class Solution:\n",
    "    def minimumCost(self, cost: list[int]) -> int:\n",
    "        \n",
    "        total = 0\n",
    "        cost.sort()\n",
    "        length = len(cost)\n",
    "#         print (cost)\n",
    "        def cal_total_evenly_divided_by_3 (num: list[int]):\n",
    "            result = 0\n",
    "            for i in range(len(num)//3): \n",
    "                result += num[i * 3 + 1] + num[i * 3 + 2]\n",
    "#                 print(num[i*3+1], num[i*3+2], result)\n",
    "            return result\n",
    "                \n",
    "        if length < 3:\n",
    "            for i in cost:\n",
    "                total += i\n",
    "            return total\n",
    "        \n",
    "        elif (length % 3) == 0:\n",
    "            total = cal_total_evenly_divided_by_3(cost)\n",
    "            return total\n",
    "        else:\n",
    "            multiple = length // 3\n",
    "            temp = cost[length - 1:]\n",
    "            total += cal_total_evenlyA_divided_by_3(temp)\n",
    "            for i in range(length - multiple):\n",
    "                total += cost[i]\n",
    "            return total\n",
    "                "
   ]
  },
  {
   "cell_type": "code",
   "execution_count": null,
   "id": "extreme-perfume",
   "metadata": {},
   "outputs": [],
   "source": [
    "s = Solution()"
   ]
  },
  {
   "cell_type": "code",
   "execution_count": null,
   "id": "personal-shape",
   "metadata": {},
   "outputs": [],
   "source": [
    "# cost = [1,2,3]\n",
    "cost = [10,5,9,4,1,9,10,2,10,8]\n",
    "# cost = [6,5,7,9,2,2]\n",
    "print (s.minimumCost(cost))"
   ]
  },
  {
   "cell_type": "code",
   "execution_count": null,
   "id": "accepted-adjustment",
   "metadata": {},
   "outputs": [],
   "source": [
    "# cost = [6,5,7,9,2,2]\n",
    "# cost = [5, 5]"
   ]
  },
  {
   "cell_type": "markdown",
   "id": "closing-posting",
   "metadata": {},
   "source": [
    "week 1-29-2022\n",
    "5993. Keep Multiplying Found Values by Two\n",
    "User Accepted:8203\n",
    "User Tried:8560\n",
    "Total Accepted:8331\n",
    "Total Submissions:10987\n",
    "Difficulty:Easy\n",
    "You are given an array of integers nums. You are also given an integer original which is the first number that needs to be searched for in nums.\n",
    "\n",
    "You then do the following steps:\n",
    "\n",
    "If original is found in nums, multiply it by two (i.e., set original = 2 * original).\n",
    "Otherwise, stop the process.\n",
    "Repeat this process with the new number as long as you keep finding the number.\n",
    "Return the final value of original.\n",
    "\n",
    "Input: nums = [5,3,6,1,12], original = 3\n",
    "Output: 24\n",
    "Explanation: \n",
    "- 3 is found in nums. 3 is multiplied by 2 to obtain 6.\n",
    "- 6 is found in nums. 6 is multiplied by 2 to obtain 12.\n",
    "- 12 is found in nums. 12 is multiplied by 2 to obtain 24.\n",
    "- 24 is not found in nums. Thus, 24 is returned.\n",
    "\n",
    "Input: nums = [2,7,9], original = 4\n",
    "Output: 4\n",
    "Explanation:\n",
    "- 4 is not found in nums. Thus, 4 is returned."
   ]
  },
  {
   "cell_type": "code",
   "execution_count": 36,
   "id": "temporal-story",
   "metadata": {},
   "outputs": [],
   "source": [
    "class Solution:\n",
    "    def findFinalValue(self, nums: list[int], original: int) -> int:\n",
    "        \n",
    "        looking = original\n",
    "        flag = True\n",
    "        while flag:\n",
    "            try:\n",
    "                if nums.index(looking): \n",
    "#                     print(looking)\n",
    "                    looking = 2 * looking\n",
    "#                     print(looking)\n",
    "\n",
    "            except ValueError:\n",
    "                flag = False\n",
    "        return looking\n",
    "        "
   ]
  },
  {
   "cell_type": "code",
   "execution_count": 37,
   "id": "heavy-chemical",
   "metadata": {},
   "outputs": [],
   "source": [
    "s = Solution()\n",
    "nums = [5,3,6,1,12]\n",
    "original = 3\n",
    "# [2,7,9]\n",
    "# 4"
   ]
  },
  {
   "cell_type": "code",
   "execution_count": 38,
   "id": "athletic-summer",
   "metadata": {},
   "outputs": [
    {
     "name": "stdout",
     "output_type": "stream",
     "text": [
      "24\n"
     ]
    }
   ],
   "source": [
    "print(s.findFinalValue(nums, original))"
   ]
  },
  {
   "cell_type": "code",
   "execution_count": null,
   "id": "ordinary-beach",
   "metadata": {},
   "outputs": [
    {
     "name": "stdin",
     "output_type": "stream",
     "text": [
      "Please enter a number:  ss\n"
     ]
    },
    {
     "name": "stdout",
     "output_type": "stream",
     "text": [
      "Oops!  That was no valid number.  Try again...\n"
     ]
    }
   ],
   "source": [
    "while True:\n",
    "    try:\n",
    "        x = int(input(\"Please enter a number: \"))\n",
    "        break\n",
    "    except ValueError:\n",
    "        print(\"Oops!  That was no valid number.  Try again...\")\n"
   ]
  },
  {
   "cell_type": "markdown",
   "id": "accessible-convention",
   "metadata": {},
   "source": [
    "Sort Even and Odd Indices Independently\n",
    "\n",
    "You are given a 0-indexed integer array nums. Rearrange the values of nums according to the following rules:\n",
    "\n",
    "Sort the values at odd indices of nums in non-increasing order.\n",
    "For example, if nums = [4,1,2,3] before this step, it becomes [4,3,2,1] after. The values at odd indices 1 and 3 are sorted in non-increasing order.\n",
    "Sort the values at even indices of nums in non-decreasing order.\n",
    "For example, if nums = [4,1,2,3] before this step, it becomes [2,1,4,3] after. The values at even indices 0 and 2 are sorted in non-decreasing order.\n",
    "Return the array formed after rearranging the values of nums."
   ]
  },
  {
   "cell_type": "code",
   "execution_count": null,
   "id": "sharing-designer",
   "metadata": {},
   "outputs": [],
   "source": [
    "class Solution:\n",
    "    def sortEvenOdd(self, nums: List[int]) -> List[int]:\n",
    "        odd = [nums[i] for i in range(1,len(nums),2)]\n",
    "        even = [nums[i] for i in range(0,len(nums),2)]\n",
    "        # print(odd, even)\n",
    "        odd.sort()\n",
    "        even.sort()\n",
    "        result = list()\n",
    "        for i in range(len(nums)):\n",
    "            if not (i%2):\n",
    "                result.append(even[i//2])\n",
    "            else:\n",
    "                result.append(odd[i//2 - 1])\n",
    "        return result"
   ]
  },
  {
   "cell_type": "markdown",
   "id": "metropolitan-produce",
   "metadata": {},
   "source": [
    "Smallest Value of the Rearranged Number\n",
    "User Accepted:5347\n",
    "User Tried:6058\n",
    "Total Accepted:5456\n",
    "Total Submissions:10302\n",
    "Difficulty:Medium\n",
    "You are given an integer num. Rearrange the digits of num such that its value is minimized and it does not contain any leading zeros.\n",
    "\n",
    "Return the rearranged number with minimal value.\n",
    "\n",
    "Note that the sign of the number does not change after rearranging the digits."
   ]
  },
  {
   "cell_type": "markdown",
   "id": "public-shoot",
   "metadata": {},
   "source": [
    "Input: num = 310\n",
    "Output: 103\n",
    "Explanation: The possible arrangements for the digits of 310 are 013, 031, 103, 130, 301, 310. \n",
    "The arrangement with the smallest value that does not contain any leading zeros is 103.\n"
   ]
  },
  {
   "cell_type": "markdown",
   "id": "wound-chile",
   "metadata": {},
   "source": [
    "Input: num = -7605\n",
    "Output: -7650\n",
    "Explanation: Some possible arrangements for the digits of -7605 are -7650, -6705, -5076, -0567.\n",
    "The arrangement with the smallest value that does not contain any leading zeros is -7650.\n"
   ]
  },
  {
   "cell_type": "code",
   "execution_count": 1,
   "id": "stunning-milan",
   "metadata": {},
   "outputs": [],
   "source": [
    "class Solution:\n",
    "    def smallestNumber(self, num: int) -> int:\n",
    "        result = 0\n",
    "        # if the number > 0 then it will sort by numbers, put 0 after non-zero number\n",
    "        if num > 0:\n",
    "            temp = [int(i) for i in str(num)]\n",
    "            \n",
    "            temp.sort()\n",
    "            \n",
    "            if temp[0] > 0:\n",
    "                for i in range(len(temp)):\n",
    "                    result += temp[i] * 10**(len(temp) - i - 1)\n",
    "            else:\n",
    "                index = temp.index(next(filter(lambda x: x != 0,temp)))\n",
    "                temp[0], temp[index] = temp[index], temp[0]\n",
    "                for i in range(len(temp)):\n",
    "                    result += temp[i] * 10**(len(temp) - i -1)\n",
    "                \n",
    "            return result   \n",
    "            \n",
    "            # if zero in the beginning then swap zero with first non zero number then done\n",
    "\n",
    " \n",
    "        \n",
    "        # if number < 0 same put 0 after non-zero number and put the number from big to small \n",
    "        \n",
    "        elif num == 0: \n",
    "            return num\n",
    "        else: \n",
    "            \n",
    "            temp = [int(i) for i in str(abs(num))]\n",
    "            \n",
    "            temp.sort(reverse = True) \n",
    "            \n",
    "            for i in range(len(temp)):\n",
    "                result += temp[i] * 10**(len(temp) - i - 1)\n",
    "\n",
    "            return result*(-1)"
   ]
  },
  {
   "cell_type": "code",
   "execution_count": 3,
   "id": "vertical-freeware",
   "metadata": {},
   "outputs": [
    {
     "data": {
      "text/plain": [
       "103"
      ]
     },
     "execution_count": 3,
     "metadata": {},
     "output_type": "execute_result"
    }
   ],
   "source": [
    "s= Solution()\n",
    "num = 310 #-7605\n",
    "s.smallestNumber(num)"
   ]
  },
  {
   "cell_type": "markdown",
   "id": "active-hepatitis",
   "metadata": {},
   "source": [
    "6005. Minimum Operations to Make the Array Alternating\n",
    "User Accepted:2235\n",
    "User Tried:4904\n",
    "Total Accepted:2250\n",
    "Total Submissions:9579\n",
    "Difficulty:Medium\n",
    "You are given a 0-indexed array nums consisting of n positive integers.\n",
    "\n",
    "The array nums is called alternating if:\n",
    "\n",
    "nums[i - 2] == nums[i], where 2 <= i <= n - 1.\n",
    "nums[i - 1] != nums[i], where 1 <= i <= n - 1.\n",
    "In one operation, you can choose an index i and change nums[i] into any positive integer.\n",
    "\n",
    "Return the minimum number of operations required to make the array alternating.\n",
    "\n",
    "Example 1:\n",
    "Input: nums = [3,1,3,2,4,3]\n",
    "Output: 3\n",
    "Explanation:\n",
    "One way to make the array alternating is by converting it to [3,1,3,1,3,1].\n",
    "The number of operations required in this case is 3.\n",
    "It can be proven that it is not possible to make the array alternating in less than 3 operations. \n",
    "\n",
    "Example 2:\n",
    "Input: nums = [1,2,2,2,2]\n",
    "Output: 2\n",
    "Explanation:\n",
    "One way to make the array alternating is by converting it to [1,2,1,2,1].\n",
    "The number of operations required in this case is 2.\n",
    "Note that the array cannot be converted to [2,2,2,2,2] because in this case nums[0] == nums[1] which violates the conditions of an alternating array."
   ]
  },
  {
   "cell_type": "markdown",
   "id": "gothic-bridal",
   "metadata": {},
   "source": [
    "6012. Count Integers With Even Digit Sum\n",
    "User Accepted:7829\n",
    "User Tried:8520\n",
    "Total Accepted:7941\n",
    "Total Submissions:11501\n",
    "Difficulty:Easy\n",
    "Given a positive integer num, return the number of positive integers less than or equal to num whose digit sums are even.\n",
    "\n",
    "The digit sum of a positive integer is the sum of all its digits.\n",
    "\n",
    " Example 1:\n",
    " Input: num = 4\n",
    "Output: 2\n",
    "Explanation:\n",
    "The only integers less than or equal to 4 whose digit sums are even are 2 and 4.    \n",
    "Example 2:\n",
    "Input: num = 30\n",
    "Output: 14\n",
    "Explanation:\n",
    "The 14 integers less than or equal to 30 whose digit sums are even are\n",
    "2, 4, 6, 8, 11, 13, 15, 17, 19, 20, 22, 24, 26, and 28."
   ]
  },
  {
   "cell_type": "code",
   "execution_count": null,
   "id": "fifth-trauma",
   "metadata": {},
   "outputs": [],
   "source": []
  },
  {
   "cell_type": "code",
   "execution_count": null,
   "id": "later-choice",
   "metadata": {},
   "outputs": [],
   "source": []
  },
  {
   "cell_type": "markdown",
   "id": "daily-northwest",
   "metadata": {},
   "source": [
    "2185. Counting Words With a Given Prefix\n",
    "You are given an array of strings words and a string pref.\n",
    "Return the number of strings in words that contain pref as a prefix.\n",
    "A prefix of a string s is any leading contiguous substring of s.\n",
    "\n",
    "Example 1:\n",
    "    Input: words = [\"pay\",\"attention\",\"practice\",\"attend\"], pref = \"at\"\n",
    "Output: 2\n",
    "Explanation: The 2 strings that contain \"at\" as a prefix are: \"attention\" and \"attend\".\n",
    "\n",
    "Example 2:\n",
    "    Input: words = [\"leetcode\",\"win\",\"loops\",\"success\"], pref = \"code\"\n",
    "Output: 0\n",
    "Explanation: There are no strings that contain \"code\" as a prefix."
   ]
  },
  {
   "cell_type": "code",
   "execution_count": null,
   "id": "muslim-helicopter",
   "metadata": {},
   "outputs": [],
   "source": []
  },
  {
   "cell_type": "markdown",
   "id": "spoken-turner",
   "metadata": {},
   "source": [
    "6055. Minimum Number of Operations to Convert Time\n",
    "User Accepted:0\n",
    "User Tried:0\n",
    "Total Accepted:0\n",
    "Total Submissions:0\n",
    "Difficulty:Easy\n",
    "You are given two strings current and correct representing two 24-hour times.\n",
    "\n",
    "24-hour times are formatted as \"HH:MM\", where HH is between 00 and 23, and MM is between 00 and 59. The earliest 24-hour time is 00:00, and the latest is 23:59.\n",
    "\n",
    "In one operation you can increase the time current by 1, 5, 15, or 60 minutes. You can perform this operation any number of times.\n",
    "\n",
    "Return the minimum number of operations needed to convert current to correct.\n",
    "\n",
    " "
   ]
  },
  {
   "cell_type": "markdown",
   "id": "valued-brand",
   "metadata": {},
   "source": [
    "6037. Largest Number After Digit Swaps by Parity\n",
    "User Accepted:0\n",
    "User Tried:0\n",
    "Total Accepted:0\n",
    "Total Submissions:0\n",
    "Difficulty:Easy\n",
    "You are given a positive integer num. You may swap any two digits of num that have the same parity (i.e. both odd digits or both even digits).\n",
    "\n",
    "Return the largest possible value of num after any number of swaps.\n",
    "Example 1:\n",
    "\n",
    "Input: num = 1234\n",
    "Output: 3412\n",
    "Explanation: Swap the digit 3 with the digit 1, this results in the number 3214.\n",
    "Swap the digit 2 with the digit 4, this results in the number 3412.\n",
    "Note that there may be other sequences of swaps but it can be shown that 3412 is the largest possible number.\n",
    "Also note that we may not swap the digit 4 with the digit 1 since they are of different parities.\n",
    "Example 2:\n",
    "\n",
    "Input: num = 65875\n",
    "Output: 87655\n",
    "Explanation: Swap the digit 8 with the digit 6, this results in the number 85675.\n",
    "Swap the first digit 5 with the digit 7, this results in the number 87655.\n",
    "Note that there may be other sequences of swaps but it can be shown that 87655 is the largest possible number."
   ]
  },
  {
   "cell_type": "code",
   "execution_count": 1,
   "id": "promotional-office",
   "metadata": {},
   "outputs": [],
   "source": [
    "class Solution:\n",
    "    def largestInteger(self, num: int) -> int:\n",
    "        # check if even, then put smallest even number on the digit \n",
    "        is_even = True if num % 2 == 0 else False\n",
    "        print(is_even)\n",
    "        li = [int(a) for a in str(num)]\n",
    "        print(li)\n",
    "        # find smallest even number and put it in the last\n",
    "        \n",
    "        even = []\n",
    "        odd = []\n",
    "        last_digit = 0\n",
    "        \n",
    "        new_li = []\n",
    "        \n",
    "        for i in li: \n",
    "            if i % 2 == 0:\n",
    "                even.append(i)\n",
    "            else:\n",
    "                odd.append(i)\n",
    "        print(even)\n",
    "        print(odd)\n",
    "        if is_even == True:\n",
    "            even.sort()\n",
    "            \n",
    "            last_digit = even[0]\n",
    "            \n",
    "            even.pop(0)\n",
    "            new_li = even + odd\n",
    "        else:\n",
    "            odd.sort()\n",
    "            last_digit = odd[0]\n",
    "            odd.pop(0)\n",
    "            new_li = even + odd\n",
    "        print(even)\n",
    "        print(odd)\n",
    "        print(last_digit)\n",
    "        \n",
    "        new_li.sort(reverse = True)\n",
    "        \n",
    "        string_temp = ''\n",
    "        \n",
    "        for i in new_li:\n",
    "            string_temp += str(i)\n",
    "        \n",
    "        result = int(string_temp) * 10 + last_digit\n",
    "        return result\n",
    "            "
   ]
  },
  {
   "cell_type": "code",
   "execution_count": 2,
   "id": "arbitrary-ranch",
   "metadata": {},
   "outputs": [
    {
     "name": "stdout",
     "output_type": "stream",
     "text": [
      "True\n",
      "[1, 2, 3, 4]\n",
      "[2, 4]\n",
      "[1, 3]\n",
      "[4]\n",
      "[1, 3]\n",
      "2\n"
     ]
    }
   ],
   "source": [
    "s = Solution()\n",
    "r = s.largestInteger(1234)"
   ]
  },
  {
   "cell_type": "code",
   "execution_count": 3,
   "id": "uniform-communication",
   "metadata": {},
   "outputs": [
    {
     "name": "stdout",
     "output_type": "stream",
     "text": [
      "4312\n"
     ]
    }
   ],
   "source": [
    "print(r)"
   ]
  },
  {
   "cell_type": "code",
   "execution_count": 4,
   "id": "banner-bacon",
   "metadata": {},
   "outputs": [],
   "source": [
    "class Solution:\n",
    "    def largestInteger(self, num: int) -> int:\n",
    "        \n",
    "        li = [int(a) for a in str(num)]\n",
    "        \n",
    "        # put index as key and number as value\n",
    "        dic = {}\n",
    "        \n",
    "        for i in range(len(li)):\n",
    "            \n",
    "            dic[i] = li[i]\n",
    "        \n",
    "        # for all even digit sort them and put them in specific index\n",
    "        print(dic)\n",
    "        \n",
    "        even_dic = {}\n",
    "        odd_dic  = {}\n",
    "        \n",
    "        for key, value in dic.items():\n",
    "            \n",
    "            if value %2 == 0:\n",
    "                even_dic[key] = value\n",
    "            else:\n",
    "                odd_dic[key] = value\n",
    "        print(even_dic, odd_dic)\n",
    "        \n",
    "        #put value in desc and key in aesc\n",
    "        even_key = list(even_dic.keys())\n",
    "        even_value = list(even_dic.values())\n",
    "        even_value.sort(reverse = True)\n",
    "        \n",
    "        odd_key = list(odd_dic.keys())\n",
    "        odd_value = list(odd_dic.values())\n",
    "        odd_value.sort(reverse = True)\n",
    "        \n",
    "        even_dic = {}\n",
    "        odd_dic = {}\n",
    "        \n",
    "        for i in range(len(even_key)):\n",
    "            even_dic[even_key[i]] = even_value[i]\n",
    "        print(even_dic)\n",
    "        \n",
    "        for i in range(len(odd_key)):\n",
    "            odd_dic[odd_key[i]] = odd_value[i]\n",
    "        print(odd_dic)\n",
    "        \n",
    "        res_dic = even_dic | odd_dic\n",
    "        print(res_dic)\n",
    "        \n",
    "        result = []\n",
    "        for i in sorted(res_dic):\n",
    "            result.append(res_dic[i])\n",
    "        string_result = ''\n",
    "        for i in result:\n",
    "            string_result += str(i)\n",
    "            \n",
    "        print(string_result)\n",
    "        \n",
    "        return int(string_result)\n",
    "            \n",
    "        \n",
    "        \n",
    "            "
   ]
  },
  {
   "cell_type": "code",
   "execution_count": 5,
   "id": "imported-security",
   "metadata": {},
   "outputs": [
    {
     "name": "stdout",
     "output_type": "stream",
     "text": [
      "{0: 1, 1: 2, 2: 3, 3: 4}\n",
      "{1: 2, 3: 4} {0: 1, 2: 3}\n",
      "{1: 4, 3: 2}\n",
      "{0: 3, 2: 1}\n",
      "{1: 4, 3: 2, 0: 3, 2: 1}\n",
      "3412\n",
      "{0: 6, 1: 5, 2: 8, 3: 7, 4: 5}\n",
      "{0: 6, 2: 8} {1: 5, 3: 7, 4: 5}\n",
      "{0: 8, 2: 6}\n",
      "{1: 7, 3: 5, 4: 5}\n",
      "{0: 8, 2: 6, 1: 7, 3: 5, 4: 5}\n",
      "87655\n"
     ]
    }
   ],
   "source": [
    "s = Solution()\n",
    "r = s.largestInteger(1234)\n",
    "t = s.largestInteger(65875)"
   ]
  },
  {
   "cell_type": "code",
   "execution_count": 6,
   "id": "comfortable-disclosure",
   "metadata": {},
   "outputs": [
    {
     "name": "stdout",
     "output_type": "stream",
     "text": [
      "1234 3412\n",
      "65875 87655\n"
     ]
    }
   ],
   "source": [
    "print(1234, r)\n",
    "print(65875, t)"
   ]
  },
  {
   "cell_type": "markdown",
   "id": "varied-figure",
   "metadata": {},
   "source": [
    "4-19-2022 Missed weekly Contest\n",
    "\n",
    "2243. Calculate Digit Sum of a String\n",
    "User Accepted:7924\n",
    "User Tried:8377\n",
    "Total Accepted:8098\n",
    "Total Submissions:13099\n",
    "Difficulty:Easy\n",
    "You are given a string s consisting of digits and an integer k.\n",
    "\n",
    "A round can be completed if the length of s is greater than k. In one round, do the following:\n",
    "\n",
    "Divide s into consecutive groups of size k such that the first k characters are in the first group, the next k characters are in the second group, and so on. Note that the size of the last group can be smaller than k.\n",
    "Replace each group of s with a string representing the sum of all its digits. For example, \"346\" is replaced with \"13\" because 3 + 4 + 6 = 13.\n",
    "Merge consecutive groups together to form a new string. If the length of the string is greater than k, repeat from step 1.\n",
    "Return s after all rounds have been completed.\n",
    "\n",
    " \n",
    "\n",
    "Example 1:\n",
    "\n",
    "Input: s = \"11111222223\", k = 3\n",
    "Output: \"135\"\n",
    "Explanation: \n",
    "- For the first round, we divide s into groups of size 3: \"111\", \"112\", \"222\", and \"23\".\n",
    "  ​​​​​Then we calculate the digit sum of each group: 1 + 1 + 1 = 3, 1 + 1 + 2 = 4, 2 + 2 + 2 = 6, and 2 + 3 = 5. \n",
    "  So, s becomes \"3\" + \"4\" + \"6\" + \"5\" = \"3465\" after the first round.\n",
    "- For the second round, we divide s into \"346\" and \"5\".\n",
    "  Then we calculate the digit sum of each group: 3 + 4 + 6 = 13, 5 = 5. \n",
    "  So, s becomes \"13\" + \"5\" = \"135\" after second round. \n",
    "Now, s.length <= k, so we return \"135\" as the answer.\n",
    "Example 2:\n",
    "\n",
    "Input: s = \"00000000\", k = 3\n",
    "Output: \"000\"\n",
    "Explanation: \n",
    "We divide s into \"000\", \"000\", and \"00\".\n",
    "Then we calculate the digit sum of each group: 0 + 0 + 0 = 0, 0 + 0 + 0 = 0, and 0 + 0 = 0. \n",
    "s becomes \"0\" + \"0\" + \"0\" = \"000\", whose length is equal to k, so we return \"000\".\n",
    " \n",
    "\n",
    "Constraints:\n",
    "\n",
    "1 <= s.length <= 100\n",
    "2 <= k <= 100\n",
    "s consists of digits only."
   ]
  },
  {
   "cell_type": "code",
   "execution_count": null,
   "id": "still-customs",
   "metadata": {},
   "outputs": [],
   "source": [
    "class Solution:\n",
    "    def digitSum(self, s: str, k: int) -> str:\n",
    "        temp = s\n",
    "        ##slice the string into size of k\n",
    "        while len(temp) > k:\n",
    "            sub = [temp[i:i+k] for i in range(0,len(temp), k)]\n",
    "            \n",
    "            #print(sub)\n",
    "            \n",
    "            total = 0\n",
    "            sub_total = ''\n",
    "            temp = ''\n",
    "            \n",
    "            #print(\"total = \", total)\n",
    "            #print(\"sub_total = \", sub_total)\n",
    "            #print(\"temp = \", temp)\n",
    "            \n",
    "            for j in sub:\n",
    "                num = [int(k) for k in j]\n",
    "                #print(num)\n",
    "                \n",
    "                sum_l = 0\n",
    "                \n",
    "                for l in num:\n",
    "                    sum_l += l\n",
    "                    \n",
    "                sub_total += str(sum_l)   \n",
    "                #rint(sub_total)  \n",
    "                    \n",
    "            temp += str(sub_total)\n",
    "                \n",
    "            #print(type(temp))\n",
    "            \n",
    "        return temp"
   ]
  },
  {
   "cell_type": "markdown",
   "id": "naval-plymouth",
   "metadata": {},
   "source": [
    "2244. Minimum Rounds to Complete All Tasks\n",
    "User Accepted:7073\n",
    "User Tried:8059\n",
    "Total Accepted:7250\n",
    "Total Submissions:15225\n",
    "Difficulty:Medium\n",
    "You are given a 0-indexed integer array tasks, where tasks[i] represents the difficulty level of a task. In each round, you can complete either 2 or 3 tasks of the same difficulty level.\n",
    "\n",
    "Return the minimum rounds required to complete all the tasks, or -1 if it is not possible to complete all the tasks.\n",
    "\n",
    " \n",
    "\n",
    "Example 1:\n",
    "\n",
    "Input: tasks = [2,2,3,3,2,4,4,4,4,4]\n",
    "Output: 4\n",
    "Explanation: To complete all the tasks, a possible plan is:\n",
    "- In the first round, you complete 3 tasks of difficulty level 2. \n",
    "- In the second round, you complete 2 tasks of difficulty level 3. \n",
    "- In the third round, you complete 3 tasks of difficulty level 4. \n",
    "- In the fourth round, you complete 2 tasks of difficulty level 4.  \n",
    "It can be shown that all the tasks cannot be completed in fewer than 4 rounds, so the answer is 4.\n",
    "Example 2:\n",
    "\n",
    "Input: tasks = [2,3,3]\n",
    "Output: -1\n",
    "Explanation: There is only 1 task of difficulty level 2, but in each round, you can only complete either 2 or 3 tasks of the same difficulty level. Hence, you cannot complete all the tasks, and the answer is -1.\n"
   ]
  },
  {
   "cell_type": "code",
   "execution_count": 12,
   "id": "common-catch",
   "metadata": {},
   "outputs": [],
   "source": [
    "class Solution:\n",
    "    def minimumRounds(self, tasks: list[int]) -> int:\n",
    "        tasks.sort()\n",
    "        \n",
    "        dic = {x:tasks.count(x) for x in set(tasks)}\n",
    "        \n",
    "        counter = 0\n",
    "        \n",
    "        #Check if the value is the sum of combination of 2 or 3\n",
    "        for key, value in dic.items():\n",
    "            if value == 1: \n",
    "                return -1\n",
    "            else:\n",
    "#                 if (value%3 == 0):\n",
    "#                     counter += value//3\n",
    "#                 else (value % 3) > 0:\n",
    "#                     counter += (value//3 +1)\n",
    "                counter += (value + 2) // 3\n",
    "                    \n",
    "            print(key, value, counter)\n",
    "        return counter"
   ]
  },
  {
   "cell_type": "code",
   "execution_count": 13,
   "id": "regional-zealand",
   "metadata": {},
   "outputs": [
    {
     "name": "stdout",
     "output_type": "stream",
     "text": [
      "2 3 1\n",
      "3 2 2\n",
      "4 5 4\n"
     ]
    },
    {
     "data": {
      "text/plain": [
       "4"
      ]
     },
     "execution_count": 13,
     "metadata": {},
     "output_type": "execute_result"
    }
   ],
   "source": [
    "s = Solution()\n",
    "l = [2,2,3,3,2,4,4,4,4,4]\n",
    "s.minimumRounds(l)"
   ]
  },
  {
   "cell_type": "code",
   "execution_count": 20,
   "id": "monthly-burner",
   "metadata": {},
   "outputs": [],
   "source": [
    "from collections import Counter\n",
    "class Solution:\n",
    "    def minimumRounds(self,tasks: list[int]) -> int:\n",
    "        freq = Counter(tasks).values()\n",
    "        print(type(freq))\n",
    "        counter = 0\n",
    "        for i in freq: \n",
    "            counter += freq()\n",
    "        "
   ]
  },
  {
   "cell_type": "code",
   "execution_count": 21,
   "id": "opposed-doctor",
   "metadata": {},
   "outputs": [
    {
     "name": "stdout",
     "output_type": "stream",
     "text": [
      "dict_values([3, 2, 5])\n"
     ]
    }
   ],
   "source": [
    "s = Solution()\n",
    "l = [2,2,3,3,2,4,4,4,4,4]\n",
    "s.minimumRounds(l)"
   ]
  },
  {
   "cell_type": "markdown",
   "id": "cognitive-pattern",
   "metadata": {},
   "source": [
    "2248. Intersection of Multiple Arrays\n",
    "User Accepted:8247\n",
    "User Tried:8525\n",
    "Total Accepted:8450\n",
    "Total Submissions:12757\n",
    "Difficulty:Easy\n",
    "Given a 2D integer array nums where nums[i] is a non-empty array of distinct positive integers, return the list of integers that are present in each array of nums sorted in ascending order.\n",
    " \n",
    "\n",
    "Example 1:\n",
    "\n",
    "Input: nums = [[3,1,2,4,5],[1,2,3,4],[3,4,5,6]]\n",
    "Output: [3,4]\n",
    "Explanation: \n",
    "The only integers present in each of nums[0] = [3,1,2,4,5], nums[1] = [1,2,3,4], and nums[2] = [3,4,5,6] are 3 and 4, so we return [3,4].\n",
    "Example 2:\n",
    "\n",
    "Input: nums = [[1,2,3],[4,5,6]]\n",
    "Output: []\n",
    "Explanation: \n",
    "There does not exist any integer present both in nums[0] and nums[1], so we return an empty list []."
   ]
  },
  {
   "cell_type": "code",
   "execution_count": null,
   "id": "induced-longitude",
   "metadata": {},
   "outputs": [],
   "source": []
  },
  {
   "cell_type": "code",
   "execution_count": null,
   "id": "parliamentary-africa",
   "metadata": {},
   "outputs": [],
   "source": []
  },
  {
   "cell_type": "code",
   "execution_count": null,
   "id": "nuclear-printer",
   "metadata": {},
   "outputs": [],
   "source": []
  },
  {
   "cell_type": "code",
   "execution_count": null,
   "id": "bigger-introduction",
   "metadata": {},
   "outputs": [],
   "source": []
  },
  {
   "cell_type": "code",
   "execution_count": null,
   "id": "preliminary-plane",
   "metadata": {},
   "outputs": [],
   "source": [
    "class Solution:\n",
    "    def intersection(self, nums: List[List[int]]) -> List[int]:\n",
    "        temp = nums[0]\n",
    "        temp.sort()\n",
    "        for i in range(1,len(nums)):\n",
    "            temp =  [element for element in temp if element in nums[i]]\n",
    "            temp.sort()\n",
    "            print(temp)\n",
    "            \n",
    "        return temp"
   ]
  },
  {
   "cell_type": "code",
   "execution_count": null,
   "id": "female-thriller",
   "metadata": {},
   "outputs": [],
   "source": []
  },
  {
   "cell_type": "code",
   "execution_count": null,
   "id": "joined-mystery",
   "metadata": {},
   "outputs": [],
   "source": []
  },
  {
   "cell_type": "code",
   "execution_count": null,
   "id": "contemporary-doctor",
   "metadata": {},
   "outputs": [],
   "source": []
  },
  {
   "cell_type": "markdown",
   "id": "fifty-yacht",
   "metadata": {},
   "source": [
    "2259. Remove Digit From Number to Maximize Result\n",
    "User Accepted:7290\n",
    "User Tried:8673\n",
    "Total Accepted:7478\n",
    "Total Submissions:18729\n",
    "Difficulty:Easy\n",
    "You are given a string number representing a positive integer and a character digit.\n",
    "\n",
    "Return the resulting string after removing exactly one occurrence of digit from number such that the value of the resulting string in decimal form is maximized. The test cases are generated such that digit occurs at least once in number.\n",
    "\n",
    " \n",
    "\n",
    "Example 1:\n",
    "\n",
    "Input: number = \"123\", digit = \"3\"\n",
    "Output: \"12\"\n",
    "Explanation: There is only one '3' in \"123\". After removing '3', the result is \"12\".\n",
    "Example 2:\n",
    "\n",
    "Input: number = \"1231\", digit = \"1\"\n",
    "Output: \"231\"\n",
    "Explanation: We can remove the first '1' to get \"231\" or remove the second '1' to get \"123\".\n",
    "Since 231 > 123, we return \"231\".\n",
    "Example 3:\n",
    "\n",
    "Input: number = \"551\", digit = \"5\"\n",
    "Output: \"51\"\n",
    "Explanation: We can remove either the first or second '5' from \"551\".\n",
    "Both result in the string \"51\"."
   ]
  },
  {
   "cell_type": "code",
   "execution_count": 38,
   "id": "extensive-providence",
   "metadata": {},
   "outputs": [],
   "source": [
    "class Solution:\n",
    "    def removeDigit(self, number: str, digit: str) -> str:\n",
    "        st = [i for i in number]\n",
    "        \n",
    "        indexes = [i for i in range(len(number)) if number[i] == digit]\n",
    "        print(indexes)\n",
    "        candidates = []\n",
    "        for i in indexes:\n",
    "            temp = st.copy()\n",
    "            temp.pop(i)\n",
    "            candidates.append(''.join(temp))\n",
    "        result = str(max([int(i) for i in candidates]))\n",
    "        return(result)\n",
    "            "
   ]
  },
  {
   "cell_type": "code",
   "execution_count": 39,
   "id": "applied-anniversary",
   "metadata": {},
   "outputs": [
    {
     "name": "stdout",
     "output_type": "stream",
     "text": [
      "[0, 3]\n"
     ]
    },
    {
     "data": {
      "text/plain": [
       "'231'"
      ]
     },
     "execution_count": 39,
     "metadata": {},
     "output_type": "execute_result"
    }
   ],
   "source": [
    "s = Solution()\n",
    "number = '1231'\n",
    "digit = '1'\n",
    "s.removeDigit(number, digit)"
   ]
  },
  {
   "cell_type": "markdown",
   "id": "radical-audio",
   "metadata": {},
   "source": [
    "Longest Common Subsquence (LCS): \n",
    "\n",
    "Given two strings, S1 and S2, the task is to find the length of the longest subsequence present in both of the strings. \n",
    "\n",
    "Note: A subsequence of a string is a sequence that is generated by deleting some characters (possibly 0) from the string without altering the order of the remaining characters. For example, “abc”, “abg”, “bdf”, “aeg”, ‘”acefg”, etc are subsequences of the string “abcdefg”."
   ]
  },
  {
   "cell_type": "code",
   "execution_count": 2,
   "id": "active-enough",
   "metadata": {},
   "outputs": [
    {
     "name": "stdout",
     "output_type": "stream",
     "text": [
      "Length of LCS is 4\n"
     ]
    }
   ],
   "source": [
    "def lcs(X , Y, m, n):     \n",
    " \n",
    "    # Declaring the array for storing the dp values\n",
    "    L = [[None]*(n+1) for i in range(m+1)]\n",
    " \n",
    "    # Following steps build L[m+1][n+1] in bottom up fashion\n",
    "    # Note: L[i][j] contains length of LCS of X[0..i-1]\n",
    "    # and Y[0..j-1]\n",
    "    for i in range(m+1):\n",
    "        for j in range(n+1):\n",
    "            if i == 0 or j == 0 :\n",
    "                L[i][j] = 0\n",
    "            elif X[i-1] == Y[j-1]:\n",
    "                L[i][j] = L[i-1][j-1]+1\n",
    "            else:\n",
    "                L[i][j] = max(L[i-1][j] , L[i][j-1])\n",
    " \n",
    "    # L[m][n] contains the length of LCS of X[0..n-1] & Y[0..m-1]\n",
    "    return L[m][n]\n",
    " \n",
    " \n",
    "# Driver code\n",
    "if __name__ == '__main__':\n",
    "    S1 = \"AGGTAB\"\n",
    "    S2 = \"GXTXAYB\"\n",
    "    m = len(S1)\n",
    "    n = len(S2)\n",
    "    print (\"Length of LCS is\", lcs(S1, S2, m, n) )"
   ]
  },
  {
   "cell_type": "markdown",
   "id": "english-judge",
   "metadata": {},
   "source": [
    "1143. \n",
    "\n",
    "Given two strings text1 and text2, return the length of their longest common subsequence. If there is no common subsequence, return 0.\n",
    "\n",
    "A subsequence of a string is a new string generated from the original string with some characters (can be none) deleted without changing the relative order of the remaining characters.\n",
    "\n",
    "For example, \"ace\" is a subsequence of \"abcde\".\n",
    "A common subsequence of two strings is a subsequence that is common to both strings.\n",
    "\n",
    " \n",
    "\n",
    "Example 1:\n",
    "Input: text1 = \"abcde\", text2 = \"ace\" \n",
    "Output: 3  \n",
    "Explanation: The longest common subsequence is \"ace\" and its length is 3.\n",
    "\n",
    "Example 2: Input: text1 = \"abc\", text2 = \"abc\"\n",
    "Output: 3\n",
    "Explanation: The longest common subsequence is \"abc\" and its length is 3.\n",
    "\n",
    "Example 3: \n",
    "Input: text1 = \"abc\", text2 = \"def\"\n",
    "Output: 0\n",
    "Explanation: There is no such common subsequence, so the result is 0.\n"
   ]
  },
  {
   "cell_type": "code",
   "execution_count": 27,
   "id": "super-counter",
   "metadata": {},
   "outputs": [],
   "source": [
    "class Solution:\n",
    "    def longestCommonSubsequence(self, text1: str, text2: str) -> int:\n",
    "        # get lengths strings\n",
    "        m = len(text1)\n",
    "        n = len(text2)\n",
    "        # Build empty 2-D array\n",
    "\n",
    "        L = [ [None] * (n+1) for i in range(m+1) ]\n",
    "\n",
    "        for i in range(m+1): \n",
    "            for j in range(n+1):\n",
    "                if i == 0 or j == 0: \n",
    "                    L[i][j] = 0\n",
    "                elif text1[i-1] == text2[j-1]: \n",
    "                    L[i][j] = L[i-1][j-1] + 1\n",
    "                else: \n",
    "                    L[i][j] = max(L[i-1][j], L[i][j-1])\n",
    "        \n",
    "        return L[m][n]"
   ]
  },
  {
   "cell_type": "code",
   "execution_count": 28,
   "id": "laden-organization",
   "metadata": {},
   "outputs": [],
   "source": [
    "class Solution:\n",
    "    def longestCommonSubsequence(self, text1: str, text2: str) -> int:\n",
    "        \n",
    "        m = len(text1)\n",
    "        n = len(text2)\n",
    "\n",
    "        # define a m x n two-D empty list: \n",
    "        res = [[None] * (n + 1) for i in range(m+1)] \n",
    "\n",
    "        for i in range(m + 1):\n",
    "            for j in range(n + 1):\n",
    "                if i == 0 or j == 0: \n",
    "                    res[i][j] = 0\n",
    "                elif text1[i - 1] == text2[j - 1]:\n",
    "                    res[i][j] = res[i - 1][j - 1] + 1\n",
    "                else:\n",
    "                    res[i][j] = max(res[i - 1][j], res[i][j - 1])\n",
    "            print(res[i])\n",
    "        \n",
    "        return res[m][n]"
   ]
  },
  {
   "cell_type": "code",
   "execution_count": 29,
   "id": "unauthorized-provision",
   "metadata": {},
   "outputs": [
    {
     "name": "stdout",
     "output_type": "stream",
     "text": [
      "[0, 0, 0, 0, 0, 0, 0, 0]\n",
      "[0, 1, 1, 1, 1, 1, 1, 1]\n",
      "[0, 1, 2, 2, 2, 2, 2, 2]\n",
      "[0, 1, 2, 3, 3, 3, 3, 3]\n",
      "[0, 1, 2, 3, 4, 4, 4, 4]\n",
      "[0, 1, 2, 3, 4, 4, 4, 5]\n"
     ]
    },
    {
     "data": {
      "text/plain": [
       "5"
      ]
     },
     "execution_count": 29,
     "metadata": {},
     "output_type": "execute_result"
    }
   ],
   "source": [
    "s = Solution()\n",
    "s.longestCommonSubsequence('abcba', 'abcbcba')\n"
   ]
  },
  {
   "cell_type": "markdown",
   "id": "incredible-insight",
   "metadata": {},
   "source": [
    "Example 4: 392. Is Subsequence.\n",
    "\n",
    "Given two strings s and t, return true if s is a subsequence of t, or false otherwise.\n",
    "\n",
    "A subsequence of a string is a new string that is formed from the original string by deleting some (can be none) of the characters without disturbing the relative positions of the remaining characters. (i.e., \"ace\" is a subsequence of \"abcde\" while \"aec\" is not)."
   ]
  },
  {
   "cell_type": "code",
   "execution_count": 7,
   "id": "historical-lawrence",
   "metadata": {},
   "outputs": [],
   "source": [
    "class solution: \n",
    "    def subsequence(self, s: str, t: str) -> bool:\n",
    "        i = j = 0\n",
    "        while i < len(s) and j < len(t):\n",
    "            if s[i] == t[j]:\n",
    "                i += 1\n",
    "            j += 1 \n",
    "        return i == len(s)"
   ]
  },
  {
   "cell_type": "code",
   "execution_count": 8,
   "id": "experienced-worship",
   "metadata": {},
   "outputs": [
    {
     "name": "stdout",
     "output_type": "stream",
     "text": [
      "True\n"
     ]
    }
   ],
   "source": [
    "s = solution()\n",
    "\n",
    "print( s.subsequence('abc', 'axbycf') ) \n"
   ]
  },
  {
   "cell_type": "code",
   "execution_count": null,
   "id": "resistant-campus",
   "metadata": {},
   "outputs": [],
   "source": []
  },
  {
   "cell_type": "code",
   "execution_count": null,
   "id": "foreign-mission",
   "metadata": {},
   "outputs": [],
   "source": [
    "class Solution:\n",
    "    def sortedSquares(self, nums: List[int]) -> List[int]:\n",
    "        i = 0\n",
    "        j = current = len(nums) - 1\n",
    "        res = [0 * len(nums)]\n",
    "       \n",
    "        while i < j:\n",
    "            i_square = nums[i] * nums[i]\n",
    "            j_square = nums[j] * nums[j]\n",
    "            \n",
    "            if j_square >= i_square:\n",
    "                res[current] = j_square\n",
    "                j -= 1\n",
    "                \n",
    "            else:\n",
    "                res[current] = i_square\n",
    "                i += 1\n",
    "                \n",
    "            current -= 1\n",
    "            \n",
    "        res[current] = max(ij_square\n",
    "        \n",
    "        \n",
    "        return res"
   ]
  },
  {
   "cell_type": "code",
   "execution_count": 25,
   "id": "chemical-frost",
   "metadata": {},
   "outputs": [],
   "source": [
    "class Solution:\n",
    "    def sortedSquares(self, nums: list[int]) -> list[int]:\n",
    "        left = 0 \n",
    "        right = len(nums) - 1\n",
    "        res = [None] * len(nums)\n",
    "        for i in range(len(nums)-1, -1, -1):\n",
    "            select = 0\n",
    "            if abs(nums[left]) < abs(nums[right]):\n",
    "                select = nums[right]\n",
    "                right -= 1\n",
    "            else:\n",
    "                select = nums[left]\n",
    "                left += 1\n",
    "            res[i] = select * select\n",
    "            print(res[i])\n",
    "        return res\n",
    "            "
   ]
  },
  {
   "cell_type": "code",
   "execution_count": 26,
   "id": "transparent-pregnancy",
   "metadata": {},
   "outputs": [
    {
     "name": "stdout",
     "output_type": "stream",
     "text": [
      "100\n",
      "16\n",
      "9\n",
      "1\n",
      "0\n",
      "[0, 1, 9, 16, 100]\n"
     ]
    }
   ],
   "source": [
    "nums = [-4,-1,0,3,10]\n",
    "s = Solution()\n",
    "print(s.sortedSquares(nums))\n",
    "\n"
   ]
  },
  {
   "cell_type": "code",
   "execution_count": 14,
   "id": "acceptable-awareness",
   "metadata": {},
   "outputs": [
    {
     "name": "stdout",
     "output_type": "stream",
     "text": [
      "[5, 4, 3, 2, 1, 0]\n"
     ]
    }
   ],
   "source": [
    "print([i for i in range(5, -1, -1)])"
   ]
  },
  {
   "cell_type": "code",
   "execution_count": 22,
   "id": "banner-police",
   "metadata": {},
   "outputs": [
    {
     "name": "stdout",
     "output_type": "stream",
     "text": [
      "[0, 0, 0, 0, 0, 0]\n"
     ]
    }
   ],
   "source": [
    "print(  [0] * 6)"
   ]
  },
  {
   "cell_type": "code",
   "execution_count": null,
   "id": "alike-eugene",
   "metadata": {},
   "outputs": [],
   "source": [
    "CREATE FUNCTION getNthHighestSalary(@N INT) RETURNS INT AS\n",
    "BEGIN\n",
    "\n",
    "RETURN(\n",
    "\n",
    "select top 1 salary \n",
    "    from (\n",
    "    \n",
    "        select *, dense_rank() over (order by salary desc) as rnk\n",
    "        from Employee    \n",
    "    \n",
    "    ) as a\n",
    "    \n",
    "    where rnk = @N\n",
    "\n",
    ")\n",
    "\n",
    "\n",
    "\n",
    "END"
   ]
  },
  {
   "cell_type": "code",
   "execution_count": null,
   "id": "recognized-boating",
   "metadata": {},
   "outputs": [],
   "source": []
  },
  {
   "cell_type": "code",
   "execution_count": null,
   "id": "joint-wheel",
   "metadata": {},
   "outputs": [],
   "source": []
  },
  {
   "cell_type": "code",
   "execution_count": null,
   "id": "lasting-peeing",
   "metadata": {},
   "outputs": [],
   "source": []
  },
  {
   "cell_type": "code",
   "execution_count": null,
   "id": "nearby-local",
   "metadata": {},
   "outputs": [],
   "source": []
  },
  {
   "cell_type": "code",
   "execution_count": null,
   "id": "threatened-script",
   "metadata": {},
   "outputs": [],
   "source": []
  },
  {
   "cell_type": "code",
   "execution_count": null,
   "id": "verbal-broadcasting",
   "metadata": {},
   "outputs": [],
   "source": []
  }
 ],
 "metadata": {
  "kernelspec": {
   "display_name": "Python 3",
   "language": "python",
   "name": "python3"
  },
  "language_info": {
   "codemirror_mode": {
    "name": "ipython",
    "version": 3
   },
   "file_extension": ".py",
   "mimetype": "text/x-python",
   "name": "python",
   "nbconvert_exporter": "python",
   "pygments_lexer": "ipython3",
   "version": "3.9.2"
  }
 },
 "nbformat": 4,
 "nbformat_minor": 5
}
