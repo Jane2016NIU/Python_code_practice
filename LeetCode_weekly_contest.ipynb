{
 "cells": [
  {
   "cell_type": "code",
   "execution_count": 24,
   "id": "copyrighted-counter",
   "metadata": {},
   "outputs": [],
   "source": [
    "class Solution:\n",
    "    def targetIndices(self, nums: list[int], target: int) -> list[int]:\n",
    "        # sort nums list\n",
    "        list1 = nums\n",
    "        list1.sort()\n",
    "        result = []\n",
    "        for i in range(len(nums)):\n",
    "            if list1[i] == target:\n",
    "                result.append(i)\n",
    "        return result"
   ]
  },
  {
   "cell_type": "code",
   "execution_count": 25,
   "id": "functioning-kenya",
   "metadata": {},
   "outputs": [],
   "source": [
    "s = Solution()"
   ]
  },
  {
   "cell_type": "code",
   "execution_count": 26,
   "id": "metallic-brick",
   "metadata": {},
   "outputs": [],
   "source": [
    "L1 = [1,2,5,2,3]"
   ]
  },
  {
   "cell_type": "code",
   "execution_count": 27,
   "id": "upset-shame",
   "metadata": {},
   "outputs": [],
   "source": [
    "li = L1.sort()"
   ]
  },
  {
   "cell_type": "code",
   "execution_count": 28,
   "id": "precise-worker",
   "metadata": {},
   "outputs": [
    {
     "data": {
      "text/plain": [
       "NoneType"
      ]
     },
     "execution_count": 28,
     "metadata": {},
     "output_type": "execute_result"
    }
   ],
   "source": [
    "type(li)"
   ]
  },
  {
   "cell_type": "code",
   "execution_count": 29,
   "id": "guilty-discipline",
   "metadata": {},
   "outputs": [
    {
     "name": "stdout",
     "output_type": "stream",
     "text": [
      "1, 2, 2, 3, 5\n"
     ]
    }
   ],
   "source": [
    "print(str(L1)[1:-1])"
   ]
  },
  {
   "cell_type": "code",
   "execution_count": 30,
   "id": "beneficial-humanitarian",
   "metadata": {},
   "outputs": [],
   "source": [
    "target = 2"
   ]
  },
  {
   "cell_type": "code",
   "execution_count": 31,
   "id": "posted-silly",
   "metadata": {},
   "outputs": [
    {
     "name": "stdout",
     "output_type": "stream",
     "text": [
      "0\n",
      "1, 2, 2, 3, 5\n",
      "1\n",
      "1, 2, 2, 3, 5\n",
      "2\n",
      "1, 2, 2, 3, 5\n",
      "3\n",
      "1, 2, 2, 3, 5\n",
      "4\n",
      "1, 2, 2, 3, 5\n"
     ]
    }
   ],
   "source": [
    "re = s.targetIndices(L1,2)"
   ]
  },
  {
   "cell_type": "code",
   "execution_count": null,
   "id": "arbitrary-glenn",
   "metadata": {},
   "outputs": [],
   "source": [
    "print(str(re)[1:-1])"
   ]
  },
  {
   "cell_type": "markdown",
   "id": "suffering-letter",
   "metadata": {},
   "source": [
    "2090. K Radius Subarray Averages\n",
    "You are given a 0-indexed array nums of n integers, and an integer k.\n",
    "\n",
    "The k-radius average for a subarray of nums centered at some index i with the radius k is the average of all elements in nums between the indices i - k and i + k (inclusive). If there are less than k elements before or after the index i, then the k-radius average is -1.\n",
    "\n",
    "Build and return an array avgs of length n where avgs[i] is the k-radius average for the subarray centered at index i.\n",
    "\n",
    "The average of x elements is the sum of the x elements divided by x, using integer division. The integer division truncates toward zero, which means losing its fractional part.\n",
    "\n",
    "For example, the average of four elements 2, 3, 1, and 5 is (2 + 3 + 1 + 5) / 4 = 11 / 4 = 2.75, which truncates to 2.\n",
    "Link: https://leetcode.com/problems/k-radius-subarray-averages/"
   ]
  },
  {
   "cell_type": "code",
   "execution_count": null,
   "id": "native-airfare",
   "metadata": {},
   "outputs": [],
   "source": [
    "#solution didn't pass bulk testing because of efficiency.\n",
    "class Solution:\n",
    "    def getAverages(self, nums: List[int], k: int) -> List[int]:\n",
    "        result = []\n",
    "        length = len(nums)\n",
    "        # k element logic:\n",
    "        if k == 0: \n",
    "            result = nums\n",
    "        else:\n",
    "            for i in range(length):\n",
    "                total = 0\n",
    "                if i < k:\n",
    "                    result.append(-1)\n",
    "                elif length - i -1 < k: \n",
    "                    result.append(-1)\n",
    "                else:\n",
    "                    for j in range(i - k, i + k + 1):\n",
    "                        total += nums[j]\n",
    "                    result.append( total // (2 * k + 1)) \n",
    "        return result"
   ]
  },
  {
   "cell_type": "code",
   "execution_count": null,
   "id": "subsequent-sessions",
   "metadata": {},
   "outputs": [],
   "source": [
    "# n-sized sliding window"
   ]
  },
  {
   "cell_type": "code",
   "execution_count": null,
   "id": "conventional-stadium",
   "metadata": {},
   "outputs": [],
   "source": [
    "class Solution:\n",
    "    def getAverages(self, nums: List[int], k: int) -> List[int]:\n",
    "        \n",
    "        length = len(nums)\n",
    "        result = [-1] * length\n",
    "        size = 2 * k + 1\n",
    "        \n",
    "        # define total for the temp result of adding elements\n",
    "        total = 0\n",
    "        for i in range(length):\n",
    "            total += nums[i]\n",
    "            if i - size >= 0: \n",
    "                total -= nums[i - size]\n",
    "            if i - 2 * k >= 0:\n",
    "                result[i - k] = total // size\n",
    "        return result"
   ]
  }
 ],
 "metadata": {
  "kernelspec": {
   "display_name": "Python 3",
   "language": "python",
   "name": "python3"
  },
  "language_info": {
   "codemirror_mode": {
    "name": "ipython",
    "version": 3
   },
   "file_extension": ".py",
   "mimetype": "text/x-python",
   "name": "python",
   "nbconvert_exporter": "python",
   "pygments_lexer": "ipython3",
   "version": "3.9.2"
  }
 },
 "nbformat": 4,
 "nbformat_minor": 5
}
