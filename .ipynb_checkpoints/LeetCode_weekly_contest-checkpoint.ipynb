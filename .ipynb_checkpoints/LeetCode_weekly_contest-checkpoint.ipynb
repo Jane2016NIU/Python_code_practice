{
 "cells": [
  {
   "cell_type": "code",
   "execution_count": 24,
   "id": "authorized-material",
   "metadata": {},
   "outputs": [],
   "source": [
    "class Solution:\n",
    "    def targetIndices(self, nums: list[int], target: int) -> list[int]:\n",
    "        # sort nums list\n",
    "        list1 = nums\n",
    "        list1.sort()\n",
    "        result = []\n",
    "        for i in range(len(nums)):\n",
    "            if list1[i] == target:\n",
    "                result.append(i)\n",
    "        return result"
   ]
  },
  {
   "cell_type": "code",
   "execution_count": null,
   "id": "fifty-angola",
   "metadata": {},
   "outputs": [],
   "source": []
  },
  {
   "cell_type": "code",
   "execution_count": null,
   "id": "limited-assist",
   "metadata": {},
   "outputs": [],
   "source": []
  },
  {
   "cell_type": "code",
   "execution_count": null,
   "id": "multiple-catering",
   "metadata": {},
   "outputs": [],
   "source": []
  },
  {
   "cell_type": "code",
   "execution_count": null,
   "id": "noble-violence",
   "metadata": {},
   "outputs": [],
   "source": []
  },
  {
   "cell_type": "code",
   "execution_count": null,
   "id": "smaller-power",
   "metadata": {},
   "outputs": [],
   "source": []
  },
  {
   "cell_type": "code",
   "execution_count": null,
   "id": "constitutional-trauma",
   "metadata": {},
   "outputs": [],
   "source": []
  },
  {
   "cell_type": "code",
   "execution_count": 25,
   "id": "superior-protein",
   "metadata": {},
   "outputs": [],
   "source": [
    "s = Solution()"
   ]
  },
  {
   "cell_type": "code",
   "execution_count": 26,
   "id": "introductory-courtesy",
   "metadata": {},
   "outputs": [],
   "source": [
    "L1 = [1,2,5,2,3]"
   ]
  },
  {
   "cell_type": "code",
   "execution_count": 27,
   "id": "solved-supervisor",
   "metadata": {},
   "outputs": [],
   "source": [
    "li = L1.sort()"
   ]
  },
  {
   "cell_type": "code",
   "execution_count": 28,
   "id": "million-belly",
   "metadata": {},
   "outputs": [
    {
     "data": {
      "text/plain": [
       "NoneType"
      ]
     },
     "execution_count": 28,
     "metadata": {},
     "output_type": "execute_result"
    }
   ],
   "source": [
    "type(li)"
   ]
  },
  {
   "cell_type": "code",
   "execution_count": 29,
   "id": "banner-surgery",
   "metadata": {},
   "outputs": [
    {
     "name": "stdout",
     "output_type": "stream",
     "text": [
      "1, 2, 2, 3, 5\n"
     ]
    }
   ],
   "source": [
    "print(str(L1)[1:-1])"
   ]
  },
  {
   "cell_type": "code",
   "execution_count": 30,
   "id": "supported-outside",
   "metadata": {},
   "outputs": [],
   "source": [
    "target = 2"
   ]
  },
  {
   "cell_type": "code",
   "execution_count": 31,
   "id": "atmospheric-screen",
   "metadata": {},
   "outputs": [
    {
     "name": "stdout",
     "output_type": "stream",
     "text": [
      "0\n",
      "1, 2, 2, 3, 5\n",
      "1\n",
      "1, 2, 2, 3, 5\n",
      "2\n",
      "1, 2, 2, 3, 5\n",
      "3\n",
      "1, 2, 2, 3, 5\n",
      "4\n",
      "1, 2, 2, 3, 5\n"
     ]
    }
   ],
   "source": [
    "re = s.targetIndices(L1,2)"
   ]
  },
  {
   "cell_type": "code",
   "execution_count": null,
   "id": "handmade-joshua",
   "metadata": {},
   "outputs": [],
   "source": [
    "print(str(re)[1:-1])"
   ]
  },
  {
   "cell_type": "markdown",
   "id": "stuck-posting",
   "metadata": {},
   "source": [
    "2090. K Radius Subarray Averages\n",
    "You are given a 0-indexed array nums of n integers, and an integer k.\n",
    "\n",
    "The k-radius average for a subarray of nums centered at some index i with the radius k is the average of all elements in nums between the indices i - k and i + k (inclusive). If there are less than k elements before or after the index i, then the k-radius average is -1.\n",
    "\n",
    "Build and return an array avgs of length n where avgs[i] is the k-radius average for the subarray centered at index i.\n",
    "\n",
    "The average of x elements is the sum of the x elements divided by x, using integer division. The integer division truncates toward zero, which means losing its fractional part.\n",
    "\n",
    "For example, the average of four elements 2, 3, 1, and 5 is (2 + 3 + 1 + 5) / 4 = 11 / 4 = 2.75, which truncates to 2.\n",
    "Link: https://leetcode.com/problems/k-radius-subarray-averages/"
   ]
  },
  {
   "cell_type": "code",
   "execution_count": null,
   "id": "hawaiian-abortion",
   "metadata": {},
   "outputs": [],
   "source": [
    "#solution didn't pass bulk testing because of efficiency.\n",
    "class Solution:\n",
    "    def getAverages(self, nums: List[int], k: int) -> List[int]:\n",
    "        result = []\n",
    "        length = len(nums)\n",
    "        # k element logic:\n",
    "        if k == 0: \n",
    "            result = nums\n",
    "        else:\n",
    "            for i in range(length):\n",
    "                total = 0\n",
    "                if i < k:\n",
    "                    result.append(-1)\n",
    "                elif length - i -1 < k: \n",
    "                    result.append(-1)\n",
    "                else:\n",
    "                    for j in range(i - k, i + k + 1):\n",
    "                        total += nums[j]\n",
    "                    result.append( total // (2 * k + 1)) \n",
    "        return result"
   ]
  },
  {
   "cell_type": "code",
   "execution_count": null,
   "id": "brown-bundle",
   "metadata": {},
   "outputs": [],
   "source": [
    "# n-sized sliding window"
   ]
  },
  {
   "cell_type": "code",
   "execution_count": null,
   "id": "polyphonic-serial",
   "metadata": {},
   "outputs": [],
   "source": [
    "class Solution:\n",
    "    def getAverages(self, nums: List[int], k: int) -> List[int]:\n",
    "        \n",
    "        length = len(nums)\n",
    "        result = [-1] * length\n",
    "        size = 2 * k + 1\n",
    "        \n",
    "        # define total for the temp result of adding elements\n",
    "        total = 0\n",
    "        for i in range(length):\n",
    "            total += nums[i]\n",
    "            if i - size >= 0: \n",
    "                total -= nums[i - size]\n",
    "            if i - 2 * k >= 0:\n",
    "                result[i - k] = total // size\n",
    "        return result"
   ]
  },
  {
   "cell_type": "markdown",
   "id": "hourly-short",
   "metadata": {},
   "source": [
    "2021-12-4 Question (1)\n",
    "\n",
    "2094. Finding 3-Digit Even Numbers\n",
    "\n",
    "You are given an integer array digits, where each element is a digit. The array may contain duplicates.\n",
    "\n",
    "You need to find all the unique integers that follow the given requirements:\n",
    "\n",
    "The integer consists of the concatenation of three elements from digits in any arbitrary order.\n",
    "The integer does not have leading zeros.\n",
    "The integer is even.\n",
    "For example, if the given digits were [1, 2, 3], integers 132 and 312 follow the requirements.\n",
    "\n",
    "Return a sorted array of the unique integers.\n"
   ]
  },
  {
   "cell_type": "code",
   "execution_count": null,
   "id": "polish-partnership",
   "metadata": {},
   "outputs": [],
   "source": [
    "class Solution:\n",
    "    def findEvenNumbers(self, digits: List[int]) -> List[int]:\n",
    "        li = digits\n",
    "        li.sort()\n",
    "        \n",
    "        result = set()\n",
    "        \n",
    "        for i in range(len(li)):\n",
    "            if li[i] == 0:\n",
    "                continue\n",
    "            temp = li.copy()\n",
    "            temp.pop(i)\n",
    "            for j in range(len(temp)): \n",
    "                temp1=temp.copy()\n",
    "                temp1.pop(j)\n",
    "                for k in temp1: \n",
    "                    \n",
    "                    if (k % 2 == 0):\n",
    "                        result.add(li[i] * 100 + temp[j] * 10 + k)\n",
    "        result = list(result)\n",
    "        result.sort()               \n",
    "        return result"
   ]
  },
  {
   "cell_type": "markdown",
   "id": "breeding-kernel",
   "metadata": {},
   "source": [
    "2021-12-4 Question(2)\n",
    "\n",
    "You are given the head of a linked list. Delete the middle node, and return the head of the modified linked list.\n",
    "\n",
    "The middle node of a linked list of size n is the ⌊n / 2⌋th node from the start using 0-based indexing, where ⌊x⌋ denotes the largest integer less than or equal to x.\n",
    "\n",
    "For n = 1, 2, 3, 4, and 5, the middle nodes are 0, 1, 1, 2, and 2, respectively."
   ]
  },
  {
   "cell_type": "code",
   "execution_count": null,
   "id": "documentary-layout",
   "metadata": {},
   "outputs": [],
   "source": [
    "# Definition for singly-linked list.\n",
    "# class ListNode:\n",
    "#     def __init__(self, val=0, next=None):\n",
    "#         self.val = val\n",
    "#         self.next = next\n",
    "class Solution:\n",
    "    def deleteMiddle(self, head: Optional[ListNode]) -> Optional[ListNode]:\n",
    "        if not head: return head\n",
    "        if head and head.next == None: return None\n",
    "        \n",
    "        slow_slow = slow = fast = head\n",
    "        \n",
    "        while fast and fast.next:\n",
    "            slow_slow = slow\n",
    "            slow = slow.next\n",
    "            fast = fast.next.next\n",
    "        \n",
    "        slow_slow.next = slow.next\n",
    "        return head"
   ]
  },
  {
   "cell_type": "code",
   "execution_count": null,
   "id": "hearing-metallic",
   "metadata": {},
   "outputs": [],
   "source": []
  },
  {
   "cell_type": "code",
   "execution_count": null,
   "id": "broadband-factory",
   "metadata": {},
   "outputs": [],
   "source": [
    "test case: \n",
    "[1,3,4,7,1,2,6]\n",
    "[1,2,3,4]\n",
    "[2,1]\n",
    "\n",
    "expect:\n",
    "[1,3,4,1,2,6]\n",
    "[1,2,4]\n",
    "[2]"
   ]
  },
  {
   "cell_type": "markdown",
   "id": "sound-lighter",
   "metadata": {},
   "source": [
    "2096. Step-By-Step Directions From a Binary Tree Node to Another\n",
    "You are given the root of a binary tree with n nodes. Each node is uniquely assigned a value from 1 to n. You are also given an integer startValue representing the value of the start node s, and a different integer destValue representing the value of the destination node t.\n",
    "\n",
    "Find the shortest path starting from node s and ending at node t. Generate step-by-step directions of such path as a string consisting of only the uppercase letters 'L', 'R', and 'U'. Each letter indicates a specific direction:\n",
    "\n",
    "'L' means to go from a node to its left child node.\n",
    "'R' means to go from a node to its right child node.\n",
    "'U' means to go from a node to its parent node.\n",
    "Return the step-by-step directions of the shortest path from node s to node t.\n",
    "\n"
   ]
  },
  {
   "cell_type": "markdown",
   "id": "pleased-austin",
   "metadata": {},
   "source": [
    "#12-11-2021\n",
    "5952. Rings and Rods\n",
    "User Accepted:3873\n",
    "User Tried:4022\n",
    "Total Accepted:3922\n",
    "Total Submissions:4600\n",
    "Difficulty:Easy\n",
    "There are n rings and each ring is either red, green, or blue. The rings are distributed across ten rods labeled from 0 to 9.\n",
    "\n",
    "You are given a string rings of length 2n that describes the n rings that are placed onto the rods. Every two characters in rings forms a color-position pair that is used to describe each ring where:\n",
    "\n",
    "The first character of the ith pair denotes the ith ring's color ('R', 'G', 'B').\n",
    "The second character of the ith pair denotes the rod that the ith ring is placed on ('0' to '9').\n",
    "For example, \"R3G2B1\" describes n == 3 rings: a red ring placed onto the rod labeled 3, a green ring placed onto the rod labeled 2, and a blue ring placed onto the rod labeled 1.\n",
    "\n",
    "Return the number of rods that have all three colors of rings on them."
   ]
  },
  {
   "cell_type": "code",
   "execution_count": null,
   "id": "variable-degree",
   "metadata": {},
   "outputs": [],
   "source": [
    "class Solution:\n",
    "    def countPoints(self, rings: str) -> int:\n",
    "        # color set ('R','G','B')\n",
    "        # list to have all 3 colors\n",
    "        result ={}\n",
    "        for i in range(len(rings)//2):\n",
    "            ran"
   ]
  },
  {
   "cell_type": "code",
   "execution_count": 4,
   "id": "equipped-stationery",
   "metadata": {},
   "outputs": [
    {
     "name": "stdout",
     "output_type": "stream",
     "text": [
      "['A', 'BC', 'DEF']\n"
     ]
    }
   ],
   "source": [
    "def breakRNA(seqRNA, *breakPoint):\n",
    "    seqRNAList = []\n",
    "    noOfBreakPoints = len(breakPoint)\n",
    "    for breakPt in range(noOfBreakPoints):\n",
    "        for index in breakPoint:\n",
    "            seqRNAList.append(seqRNA[:index])\n",
    "            seqRNA = seqRNA[index:]\n",
    "        break\n",
    "    return seqRNAList\n",
    "\n",
    "test = breakRNA('ABCDEFGHIJKTTTTTGGGGGGGGCCCCCCCCCC', 1, 2, 3)\n",
    "print(test)\n"
   ]
  },
  {
   "cell_type": "markdown",
   "id": "suffering-array",
   "metadata": {},
   "source": [
    "2109. Adding Spaces to a String\n",
    "User Accepted:5379\n",
    "User Tried:6178\n",
    "Total Accepted:5497\n",
    "Total Submissions:10559\n",
    "Difficulty:Medium\n",
    "You are given a 0-indexed string s and a 0-indexed integer array spaces that describes the indices in the original string where spaces will be added. Each space should be inserted before the character at the given index.\n",
    "\n",
    "For example, given s = \"EnjoyYourCoffee\" and spaces = [5, 9], we place spaces before 'Y' and 'C', which are at indices 5 and 9 respectively. Thus, we obtain \"Enjoy Your Coffee\".\n",
    "Return the modified string after the spaces have been added.\n",
    "\n"
   ]
  },
  {
   "cell_type": "code",
   "execution_count": 19,
   "id": "square-madonna",
   "metadata": {},
   "outputs": [],
   "source": [
    "class Solution:\n",
    "    def addSpaces(self, s: str, spaces: list[int]) -> str:\n",
    "        strList = []\n",
    "        start = 0\n",
    "        for i in spaces:\n",
    "            substr = s[start:i]\n",
    "\n",
    "            strList.append(substr)\n",
    "            start = i\n",
    "        \n",
    "        return \" \".join(strList)"
   ]
  },
  {
   "cell_type": "code",
   "execution_count": 20,
   "id": "diverse-directive",
   "metadata": {},
   "outputs": [],
   "source": [
    "s=\"LeetcodeHelpsMeLearn\"\n",
    "spaces = [8,13,15]"
   ]
  },
  {
   "cell_type": "code",
   "execution_count": 21,
   "id": "olympic-tonight",
   "metadata": {},
   "outputs": [
    {
     "data": {
      "text/plain": [
       "'Leetcode Helps Me'"
      ]
     },
     "execution_count": 21,
     "metadata": {},
     "output_type": "execute_result"
    }
   ],
   "source": [
    "solu= Solution()\n",
    "solu.addSpaces(s,spaces)"
   ]
  },
  {
   "cell_type": "markdown",
   "id": "advised-southeast",
   "metadata": {},
   "source": [
    "https://leetcode.com/contest/weekly-contest-271/problems/rings-and-rods/\n",
    "\n",
    "5952. Rings and Rods\n",
    "User Accepted:3873\n",
    "User Tried:4022\n",
    "Total Accepted:3922\n",
    "Total Submissions:4600\n",
    "Difficulty:Easy\n",
    "There are n rings and each ring is either red, green, or blue. The rings are distributed across ten rods labeled from 0 to 9.\n",
    "\n",
    "You are given a string rings of length 2n that describes the n rings that are placed onto the rods. Every two characters in rings forms a color-position pair that is used to describe each ring where:\n",
    "\n",
    "The first character of the ith pair denotes the ith ring's color ('R', 'G', 'B').\n",
    "The second character of the ith pair denotes the rod that the ith ring is placed on ('0' to '9').\n",
    "For example, \"R3G2B1\" describes n == 3 rings: a red ring placed onto the rod labeled 3, a green ring placed onto the rod labeled 2, and a blue ring placed onto the rod labeled 1.\n",
    "\n",
    "Return the number of rods that have all three colors of rings on them.\n",
    "\n",
    " \n",
    "\n",
    "Example 1:\n",
    "\n"
   ]
  },
  {
   "cell_type": "markdown",
   "id": "alert-advice",
   "metadata": {},
   "source": [
    "My solution: is very slow takes 50 ms to run only faster than 12% other programs\n"
   ]
  },
  {
   "cell_type": "code",
   "execution_count": null,
   "id": "satisfied-backing",
   "metadata": {},
   "outputs": [],
   "source": []
  },
  {
   "cell_type": "code",
   "execution_count": null,
   "id": "governing-elite",
   "metadata": {},
   "outputs": [],
   "source": [
    "class Solution:\n",
    "    def countPoints(self, rings: str) -> int:\n",
    "        # color set ('R','G','B')\n",
    "        # list to have all 3 colors\n",
    "        # with format: key: value from 0 - 9\n",
    "        result ={}\n",
    "        for i in range(10):\n",
    "            result[i] = set()\n",
    "        count = 0\n",
    "        #key->0-9 value is a set ()\n",
    "        # get color and put it to right position: \n",
    "        for i in range(len(rings)//2):\n",
    "            \n",
    "            position = int(rings[2 * i + 1])\n",
    "            result[position].add(rings[2 * i])\n",
    "            \n",
    "        for i in range(10):\n",
    "            if len(result[i]) == 3:\n",
    "                count += 1\n",
    "        return count\n",
    "            "
   ]
  },
  {
   "cell_type": "markdown",
   "id": "consolidated-split",
   "metadata": {},
   "source": [
    "Biweekly:\n",
    "    5946. Maximum Number of Words Found in Sentences\n",
    "User Accepted:0\n",
    "User Tried:0\n",
    "Total Accepted:0\n",
    "Total Submissions:0\n",
    "Difficulty:Easy\n",
    "A sentence is a list of words that are separated by a single space with no leading or trailing spaces.\n",
    "\n",
    "You are given an array of strings sentences, where each sentences[i] represents a single sentence.\n",
    "\n",
    "Return the maximum number of words that appear in a single sentence."
   ]
  },
  {
   "cell_type": "code",
   "execution_count": null,
   "id": "second-juice",
   "metadata": {},
   "outputs": [],
   "source": [
    "class Solution:\n",
    "    def countPoints(self, rings: str) -> int:\n",
    "        # color set ('R','G','B')\n",
    "        # list to have all 3 colors\n",
    "        # with format: key: value from 0 - 9\n",
    "        result ={}\n",
    "        for i in range(10):\n",
    "            result[i] = set()\n",
    "        count = 0\n",
    "        #key->0-9 value is a set ()\n",
    "        # get color and put it to right position: \n",
    "        for i in range(len(rings)//2):\n",
    "            \n",
    "            position = int(rings[2 * i + 1])\n",
    "            result[position].add(rings[2 * i])\n",
    "            \n",
    "        for i in range(10):\n",
    "            if len(result[i]) == 3:\n",
    "                count += 1\n",
    "        return count\n",
    "            "
   ]
  },
  {
   "cell_type": "markdown",
   "id": "gorgeous-plumbing",
   "metadata": {},
   "source": [
    "5976. Check if Every Row and Column Contains All Numbers (Jan. 8, 2022)\n",
    "User Accepted:14\n",
    "User Tried:23\n",
    "Total Accepted:14\n",
    "Total Submissions:23\n",
    "Difficulty:Easy\n",
    "An n x n matrix is valid if every row and every column contains all the integers from 1 to n (inclusive).\n",
    "\n",
    "Given an n x n integer matrix matrix, return true if the matrix is valid. Otherwise, return false.\n",
    "\n",
    "Input: matrix = [[1,2,3],[3,1,2],[2,3,1]]\n",
    "Output: true\n",
    "Explanation: In this case, n = 3, and every row and column contains the numbers 1, 2, and 3.\n",
    "Hence, we return true."
   ]
  },
  {
   "cell_type": "code",
   "execution_count": null,
   "id": "played-stephen",
   "metadata": {},
   "outputs": [],
   "source": [
    "class Solution:\n",
    "    def column(self, matrix: List[List[int]], i: int) -> List[int]:\n",
    "        return [row[i] for row in matrix]\n",
    "    \n",
    "    def checkValid(self, matrix: List[List[int]]) -> bool:\n",
    "        # make sure all numbers are included that means count unique is n \n",
    "        # check all row:\n",
    "        for i in matrix: \n",
    "            if len(list(set(i))) != len(i): \n",
    "                return False\n",
    "        for i in range(len(matrix[0])):\n",
    "            temp = self.column(matrix, i)\n",
    "            if len(temp) != len(list(set(temp))):\n",
    "                return False\n",
    "        return True"
   ]
  },
  {
   "cell_type": "code",
   "execution_count": null,
   "id": "paperback-formula",
   "metadata": {},
   "outputs": [],
   "source": [
    "5977. Minimum Swaps to Group All 1's Together II\n",
    "User Accepted:982\n",
    "User Tried:1689\n",
    "Total Accepted:985\n",
    "Total Submissions:2476\n",
    "Difficulty:Medium\n",
    "A swap is defined as taking two distinct positions in an array and swapping the values in them.\n",
    "\n",
    "A circular array is defined as an array where we consider the first element and the last element to be adjacent.\n",
    "\n",
    "Given a binary circular array nums, return the minimum number of swaps required to group all 1's present in the array together at any location."
   ]
  },
  {
   "cell_type": "code",
   "execution_count": null,
   "id": "negative-toolbox",
   "metadata": {},
   "outputs": [],
   "source": [
    "5980. Divide a String Into Groups of Size k\n",
    "User Accepted:196\n",
    "User Tried:222\n",
    "Total Accepted:197\n",
    "Total Submissions:237\n",
    "Difficulty:Easy\n",
    "A string s can be partitioned into groups of size k using the following procedure:\n",
    "\n",
    "The first group consists of the first k characters of the string, the second group consists of the next k characters of the string, and so on. Each character can be a part of exactly one group.\n",
    "For the last group, if the string does not have k characters remaining, a character fill is used to complete the group.\n",
    "Note that the partition is done so that after removing the fill character from the last group (if it exists) and concatenating all the groups in order, the resultant string should be s.\n",
    "\n",
    "Given the string s, the size of each group k and the character fill, return a string array denoting the composition of every group s has been divided into, using the above procedure."
   ]
  },
  {
   "cell_type": "code",
   "execution_count": 20,
   "id": "retained-norway",
   "metadata": {},
   "outputs": [],
   "source": [
    "class Solution:\n",
    "    def divideString(self, s: str, k: int, fill: str) -> list[str]:\n",
    "        i = 0\n",
    "        arr = []\n",
    "        while i + k -1 < len(s):\n",
    "            arr.append(s[i:i+k])\n",
    "            i += k\n",
    "            print(i)\n",
    "        if i != len(s):\n",
    "            substring_last = s[i:]\n",
    "            \n",
    "            for j in range(k - (len(s) - i)):\n",
    "                substring_last += fill\n",
    "                print(j)\n",
    "            arr.append(substring_last)\n",
    "        return arr"
   ]
  },
  {
   "cell_type": "code",
   "execution_count": 21,
   "id": "organized-foundation",
   "metadata": {},
   "outputs": [],
   "source": [
    "s = \"abcdefghij\"\n",
    "k=3\n",
    "fill = 'x'"
   ]
  },
  {
   "cell_type": "code",
   "execution_count": 22,
   "id": "advanced-abuse",
   "metadata": {},
   "outputs": [],
   "source": [
    "solu = Solution()"
   ]
  },
  {
   "cell_type": "code",
   "execution_count": 23,
   "id": "interstate-muslim",
   "metadata": {},
   "outputs": [
    {
     "name": "stdout",
     "output_type": "stream",
     "text": [
      "3\n",
      "6\n",
      "9\n",
      "0\n",
      "1\n"
     ]
    },
    {
     "data": {
      "text/plain": [
       "['abc', 'def', 'ghi', 'jxx']"
      ]
     },
     "execution_count": 23,
     "metadata": {},
     "output_type": "execute_result"
    }
   ],
   "source": [
    "solu.divideString(s,k,fill)"
   ]
  },
  {
   "cell_type": "code",
   "execution_count": null,
   "id": "upset-citizen",
   "metadata": {},
   "outputs": [],
   "source": []
  },
  {
   "cell_type": "code",
   "execution_count": null,
   "id": "owned-compensation",
   "metadata": {},
   "outputs": [],
   "source": [
    "class Solution:\n",
    "    def minimumCost(self, cost: list[int]) -> int:\n",
    "        \n",
    "        total = 0\n",
    "        cost.sort()\n",
    "        length = len(cost)\n",
    "#         print (cost)\n",
    "        def cal_total_evenly_divided_by_3 (num: list[int]):\n",
    "            result = 0\n",
    "            for i in range(len(num)//3): \n",
    "                result += num[i * 3 + 1] + num[i * 3 + 2]\n",
    "#                 print(num[i*3+1], num[i*3+2], result)\n",
    "            return result\n",
    "                \n",
    "        if length < 3:\n",
    "            for i in cost:\n",
    "                total += i\n",
    "            return total\n",
    "        \n",
    "        elif (length % 3) == 0:\n",
    "            total = cal_total_evenly_divided_by_3(cost)\n",
    "            return total\n",
    "        else:\n",
    "            multiple = length // 3\n",
    "            temp = cost[length - 1:]\n",
    "            total += cal_total_evenlyA_divided_by_3(temp)\n",
    "            for i in range(length - multiple):\n",
    "                total += cost[i]\n",
    "            return total\n",
    "                "
   ]
  },
  {
   "cell_type": "code",
   "execution_count": null,
   "id": "essential-still",
   "metadata": {},
   "outputs": [],
   "source": [
    "s = Solution()"
   ]
  },
  {
   "cell_type": "code",
   "execution_count": null,
   "id": "transsexual-heaven",
   "metadata": {},
   "outputs": [],
   "source": [
    "# cost = [1,2,3]\n",
    "cost = [10,5,9,4,1,9,10,2,10,8]\n",
    "# cost = [6,5,7,9,2,2]\n",
    "print (s.minimumCost(cost))"
   ]
  },
  {
   "cell_type": "code",
   "execution_count": null,
   "id": "middle-albuquerque",
   "metadata": {},
   "outputs": [],
   "source": [
    "# cost = [6,5,7,9,2,2]\n",
    "# cost = [5, 5]"
   ]
  },
  {
   "cell_type": "markdown",
   "id": "august-purse",
   "metadata": {},
   "source": [
    "week 1-29-2022\n",
    "5993. Keep Multiplying Found Values by Two\n",
    "User Accepted:8203\n",
    "User Tried:8560\n",
    "Total Accepted:8331\n",
    "Total Submissions:10987\n",
    "Difficulty:Easy\n",
    "You are given an array of integers nums. You are also given an integer original which is the first number that needs to be searched for in nums.\n",
    "\n",
    "You then do the following steps:\n",
    "\n",
    "If original is found in nums, multiply it by two (i.e., set original = 2 * original).\n",
    "Otherwise, stop the process.\n",
    "Repeat this process with the new number as long as you keep finding the number.\n",
    "Return the final value of original.\n",
    "\n",
    "Input: nums = [5,3,6,1,12], original = 3\n",
    "Output: 24\n",
    "Explanation: \n",
    "- 3 is found in nums. 3 is multiplied by 2 to obtain 6.\n",
    "- 6 is found in nums. 6 is multiplied by 2 to obtain 12.\n",
    "- 12 is found in nums. 12 is multiplied by 2 to obtain 24.\n",
    "- 24 is not found in nums. Thus, 24 is returned.\n",
    "\n",
    "Input: nums = [2,7,9], original = 4\n",
    "Output: 4\n",
    "Explanation:\n",
    "- 4 is not found in nums. Thus, 4 is returned."
   ]
  },
  {
   "cell_type": "code",
   "execution_count": 36,
   "id": "expressed-stadium",
   "metadata": {},
   "outputs": [],
   "source": [
    "class Solution:\n",
    "    def findFinalValue(self, nums: list[int], original: int) -> int:\n",
    "        \n",
    "        looking = original\n",
    "        flag = True\n",
    "        while flag:\n",
    "            try:\n",
    "                if nums.index(looking): \n",
    "#                     print(looking)\n",
    "                    looking = 2 * looking\n",
    "#                     print(looking)\n",
    "\n",
    "            except ValueError:\n",
    "                flag = False\n",
    "        return looking\n",
    "        "
   ]
  },
  {
   "cell_type": "code",
   "execution_count": 37,
   "id": "governing-heavy",
   "metadata": {},
   "outputs": [],
   "source": [
    "s = Solution()\n",
    "nums = [5,3,6,1,12]\n",
    "original = 3\n",
    "# [2,7,9]\n",
    "# 4"
   ]
  },
  {
   "cell_type": "code",
   "execution_count": 38,
   "id": "existing-thomson",
   "metadata": {},
   "outputs": [
    {
     "name": "stdout",
     "output_type": "stream",
     "text": [
      "24\n"
     ]
    }
   ],
   "source": [
    "print(s.findFinalValue(nums, original))"
   ]
  },
  {
   "cell_type": "code",
   "execution_count": null,
   "id": "quiet-speed",
   "metadata": {},
   "outputs": [
    {
     "name": "stdin",
     "output_type": "stream",
     "text": [
      "Please enter a number:  ss\n"
     ]
    },
    {
     "name": "stdout",
     "output_type": "stream",
     "text": [
      "Oops!  That was no valid number.  Try again...\n"
     ]
    }
   ],
   "source": [
    "while True:\n",
    "    try:\n",
    "        x = int(input(\"Please enter a number: \"))\n",
    "        break\n",
    "    except ValueError:\n",
    "        print(\"Oops!  That was no valid number.  Try again...\")\n"
   ]
  },
  {
   "cell_type": "markdown",
   "id": "industrial-admission",
   "metadata": {},
   "source": [
    "Sort Even and Odd Indices Independently\n",
    "\n",
    "You are given a 0-indexed integer array nums. Rearrange the values of nums according to the following rules:\n",
    "\n",
    "Sort the values at odd indices of nums in non-increasing order.\n",
    "For example, if nums = [4,1,2,3] before this step, it becomes [4,3,2,1] after. The values at odd indices 1 and 3 are sorted in non-increasing order.\n",
    "Sort the values at even indices of nums in non-decreasing order.\n",
    "For example, if nums = [4,1,2,3] before this step, it becomes [2,1,4,3] after. The values at even indices 0 and 2 are sorted in non-decreasing order.\n",
    "Return the array formed after rearranging the values of nums."
   ]
  },
  {
   "cell_type": "code",
   "execution_count": null,
   "id": "colonial-combining",
   "metadata": {},
   "outputs": [],
   "source": [
    "class Solution:\n",
    "    def sortEvenOdd(self, nums: List[int]) -> List[int]:\n",
    "        odd = [nums[i] for i in range(1,len(nums),2)]\n",
    "        even = [nums[i] for i in range(0,len(nums),2)]\n",
    "        # print(odd, even)\n",
    "        odd.sort()\n",
    "        even.sort()\n",
    "        result = list()\n",
    "        for i in range(len(nums)):\n",
    "            if not (i%2):\n",
    "                result.append(even[i//2])\n",
    "            else:\n",
    "                result.append(odd[i//2 - 1])\n",
    "        return result"
   ]
  },
  {
   "cell_type": "markdown",
   "id": "burning-major",
   "metadata": {},
   "source": [
    "Smallest Value of the Rearranged Number\n",
    "User Accepted:5347\n",
    "User Tried:6058\n",
    "Total Accepted:5456\n",
    "Total Submissions:10302\n",
    "Difficulty:Medium\n",
    "You are given an integer num. Rearrange the digits of num such that its value is minimized and it does not contain any leading zeros.\n",
    "\n",
    "Return the rearranged number with minimal value.\n",
    "\n",
    "Note that the sign of the number does not change after rearranging the digits."
   ]
  },
  {
   "cell_type": "markdown",
   "id": "impressive-vessel",
   "metadata": {},
   "source": [
    "Input: num = 310\n",
    "Output: 103\n",
    "Explanation: The possible arrangements for the digits of 310 are 013, 031, 103, 130, 301, 310. \n",
    "The arrangement with the smallest value that does not contain any leading zeros is 103.\n"
   ]
  },
  {
   "cell_type": "markdown",
   "id": "eleven-wheel",
   "metadata": {},
   "source": [
    "Input: num = -7605\n",
    "Output: -7650\n",
    "Explanation: Some possible arrangements for the digits of -7605 are -7650, -6705, -5076, -0567.\n",
    "The arrangement with the smallest value that does not contain any leading zeros is -7650.\n"
   ]
  },
  {
   "cell_type": "code",
   "execution_count": 1,
   "id": "downtown-duplicate",
   "metadata": {},
   "outputs": [],
   "source": [
    "class Solution:\n",
    "    def smallestNumber(self, num: int) -> int:\n",
    "        result = 0\n",
    "        # if the number > 0 then it will sort by numbers, put 0 after non-zero number\n",
    "        if num > 0:\n",
    "            temp = [int(i) for i in str(num)]\n",
    "            \n",
    "            temp.sort()\n",
    "            \n",
    "            if temp[0] > 0:\n",
    "                for i in range(len(temp)):\n",
    "                    result += temp[i] * 10**(len(temp) - i - 1)\n",
    "            else:\n",
    "                index = temp.index(next(filter(lambda x: x != 0,temp)))\n",
    "                temp[0], temp[index] = temp[index], temp[0]\n",
    "                for i in range(len(temp)):\n",
    "                    result += temp[i] * 10**(len(temp) - i -1)\n",
    "                \n",
    "            return result   \n",
    "            \n",
    "            # if zero in the beginning then swap zero with first non zero number then done\n",
    "\n",
    " \n",
    "        \n",
    "        # if number < 0 same put 0 after non-zero number and put the number from big to small \n",
    "        \n",
    "        elif num == 0: \n",
    "            return num\n",
    "        else: \n",
    "            \n",
    "            temp = [int(i) for i in str(abs(num))]\n",
    "            \n",
    "            temp.sort(reverse = True) \n",
    "            \n",
    "            for i in range(len(temp)):\n",
    "                result += temp[i] * 10**(len(temp) - i - 1)\n",
    "\n",
    "            return result*(-1)"
   ]
  },
  {
   "cell_type": "code",
   "execution_count": 3,
   "id": "destroyed-italic",
   "metadata": {},
   "outputs": [
    {
     "data": {
      "text/plain": [
       "103"
      ]
     },
     "execution_count": 3,
     "metadata": {},
     "output_type": "execute_result"
    }
   ],
   "source": [
    "s= Solution()\n",
    "num = 310 #-7605\n",
    "s.smallestNumber(num)"
   ]
  },
  {
   "cell_type": "markdown",
   "id": "durable-backup",
   "metadata": {},
   "source": [
    "6005. Minimum Operations to Make the Array Alternating\n",
    "User Accepted:2235\n",
    "User Tried:4904\n",
    "Total Accepted:2250\n",
    "Total Submissions:9579\n",
    "Difficulty:Medium\n",
    "You are given a 0-indexed array nums consisting of n positive integers.\n",
    "\n",
    "The array nums is called alternating if:\n",
    "\n",
    "nums[i - 2] == nums[i], where 2 <= i <= n - 1.\n",
    "nums[i - 1] != nums[i], where 1 <= i <= n - 1.\n",
    "In one operation, you can choose an index i and change nums[i] into any positive integer.\n",
    "\n",
    "Return the minimum number of operations required to make the array alternating.\n",
    "\n",
    "Example 1:\n",
    "Input: nums = [3,1,3,2,4,3]\n",
    "Output: 3\n",
    "Explanation:\n",
    "One way to make the array alternating is by converting it to [3,1,3,1,3,1].\n",
    "The number of operations required in this case is 3.\n",
    "It can be proven that it is not possible to make the array alternating in less than 3 operations. \n",
    "\n",
    "Example 2:\n",
    "Input: nums = [1,2,2,2,2]\n",
    "Output: 2\n",
    "Explanation:\n",
    "One way to make the array alternating is by converting it to [1,2,1,2,1].\n",
    "The number of operations required in this case is 2.\n",
    "Note that the array cannot be converted to [2,2,2,2,2] because in this case nums[0] == nums[1] which violates the conditions of an alternating array."
   ]
  },
  {
   "cell_type": "markdown",
   "id": "actual-anxiety",
   "metadata": {},
   "source": [
    "6012. Count Integers With Even Digit Sum\n",
    "User Accepted:7829\n",
    "User Tried:8520\n",
    "Total Accepted:7941\n",
    "Total Submissions:11501\n",
    "Difficulty:Easy\n",
    "Given a positive integer num, return the number of positive integers less than or equal to num whose digit sums are even.\n",
    "\n",
    "The digit sum of a positive integer is the sum of all its digits.\n",
    "\n",
    " Example 1:\n",
    " Input: num = 4\n",
    "Output: 2\n",
    "Explanation:\n",
    "The only integers less than or equal to 4 whose digit sums are even are 2 and 4.    \n",
    "Example 2:\n",
    "Input: num = 30\n",
    "Output: 14\n",
    "Explanation:\n",
    "The 14 integers less than or equal to 30 whose digit sums are even are\n",
    "2, 4, 6, 8, 11, 13, 15, 17, 19, 20, 22, 24, 26, and 28."
   ]
  },
  {
   "cell_type": "code",
   "execution_count": null,
   "id": "concrete-employee",
   "metadata": {},
   "outputs": [],
   "source": []
  },
  {
   "cell_type": "code",
   "execution_count": null,
   "id": "concerned-lodging",
   "metadata": {},
   "outputs": [],
   "source": []
  },
  {
   "cell_type": "markdown",
   "id": "comic-clinton",
   "metadata": {},
   "source": [
    "2185. Counting Words With a Given Prefix\n",
    "You are given an array of strings words and a string pref.\n",
    "Return the number of strings in words that contain pref as a prefix.\n",
    "A prefix of a string s is any leading contiguous substring of s.\n",
    "\n",
    "Example 1:\n",
    "    Input: words = [\"pay\",\"attention\",\"practice\",\"attend\"], pref = \"at\"\n",
    "Output: 2\n",
    "Explanation: The 2 strings that contain \"at\" as a prefix are: \"attention\" and \"attend\".\n",
    "\n",
    "Example 2:\n",
    "    Input: words = [\"leetcode\",\"win\",\"loops\",\"success\"], pref = \"code\"\n",
    "Output: 0\n",
    "Explanation: There are no strings that contain \"code\" as a prefix."
   ]
  },
  {
   "cell_type": "code",
   "execution_count": null,
   "id": "played-notebook",
   "metadata": {},
   "outputs": [],
   "source": []
  },
  {
   "cell_type": "markdown",
   "id": "coupled-england",
   "metadata": {},
   "source": [
    "6055. Minimum Number of Operations to Convert Time\n",
    "User Accepted:0\n",
    "User Tried:0\n",
    "Total Accepted:0\n",
    "Total Submissions:0\n",
    "Difficulty:Easy\n",
    "You are given two strings current and correct representing two 24-hour times.\n",
    "\n",
    "24-hour times are formatted as \"HH:MM\", where HH is between 00 and 23, and MM is between 00 and 59. The earliest 24-hour time is 00:00, and the latest is 23:59.\n",
    "\n",
    "In one operation you can increase the time current by 1, 5, 15, or 60 minutes. You can perform this operation any number of times.\n",
    "\n",
    "Return the minimum number of operations needed to convert current to correct.\n",
    "\n",
    " "
   ]
  },
  {
   "cell_type": "markdown",
   "id": "black-newspaper",
   "metadata": {},
   "source": [
    "6037. Largest Number After Digit Swaps by Parity\n",
    "User Accepted:0\n",
    "User Tried:0\n",
    "Total Accepted:0\n",
    "Total Submissions:0\n",
    "Difficulty:Easy\n",
    "You are given a positive integer num. You may swap any two digits of num that have the same parity (i.e. both odd digits or both even digits).\n",
    "\n",
    "Return the largest possible value of num after any number of swaps.\n",
    "Example 1:\n",
    "\n",
    "Input: num = 1234\n",
    "Output: 3412\n",
    "Explanation: Swap the digit 3 with the digit 1, this results in the number 3214.\n",
    "Swap the digit 2 with the digit 4, this results in the number 3412.\n",
    "Note that there may be other sequences of swaps but it can be shown that 3412 is the largest possible number.\n",
    "Also note that we may not swap the digit 4 with the digit 1 since they are of different parities.\n",
    "Example 2:\n",
    "\n",
    "Input: num = 65875\n",
    "Output: 87655\n",
    "Explanation: Swap the digit 8 with the digit 6, this results in the number 85675.\n",
    "Swap the first digit 5 with the digit 7, this results in the number 87655.\n",
    "Note that there may be other sequences of swaps but it can be shown that 87655 is the largest possible number."
   ]
  },
  {
   "cell_type": "code",
   "execution_count": 1,
   "id": "pediatric-fellow",
   "metadata": {},
   "outputs": [],
   "source": [
    "class Solution:\n",
    "    def largestInteger(self, num: int) -> int:\n",
    "        # check if even, then put smallest even number on the digit \n",
    "        is_even = True if num % 2 == 0 else False\n",
    "        print(is_even)\n",
    "        li = [int(a) for a in str(num)]\n",
    "        print(li)\n",
    "        # find smallest even number and put it in the last\n",
    "        \n",
    "        even = []\n",
    "        odd = []\n",
    "        last_digit = 0\n",
    "        \n",
    "        new_li = []\n",
    "        \n",
    "        for i in li: \n",
    "            if i % 2 == 0:\n",
    "                even.append(i)\n",
    "            else:\n",
    "                odd.append(i)\n",
    "        print(even)\n",
    "        print(odd)\n",
    "        if is_even == True:\n",
    "            even.sort()\n",
    "            \n",
    "            last_digit = even[0]\n",
    "            \n",
    "            even.pop(0)\n",
    "            new_li = even + odd\n",
    "        else:\n",
    "            odd.sort()\n",
    "            last_digit = odd[0]\n",
    "            odd.pop(0)\n",
    "            new_li = even + odd\n",
    "        print(even)\n",
    "        print(odd)\n",
    "        print(last_digit)\n",
    "        \n",
    "        new_li.sort(reverse = True)\n",
    "        \n",
    "        string_temp = ''\n",
    "        \n",
    "        for i in new_li:\n",
    "            string_temp += str(i)\n",
    "        \n",
    "        result = int(string_temp) * 10 + last_digit\n",
    "        return result\n",
    "            "
   ]
  },
  {
   "cell_type": "code",
   "execution_count": 2,
   "id": "renewable-packing",
   "metadata": {},
   "outputs": [
    {
     "name": "stdout",
     "output_type": "stream",
     "text": [
      "True\n",
      "[1, 2, 3, 4]\n",
      "[2, 4]\n",
      "[1, 3]\n",
      "[4]\n",
      "[1, 3]\n",
      "2\n"
     ]
    }
   ],
   "source": [
    "s = Solution()\n",
    "r = s.largestInteger(1234)"
   ]
  },
  {
   "cell_type": "code",
   "execution_count": 3,
   "id": "answering-series",
   "metadata": {},
   "outputs": [
    {
     "name": "stdout",
     "output_type": "stream",
     "text": [
      "4312\n"
     ]
    }
   ],
   "source": [
    "print(r)"
   ]
  },
  {
   "cell_type": "code",
   "execution_count": 4,
   "id": "private-partner",
   "metadata": {},
   "outputs": [],
   "source": [
    "class Solution:\n",
    "    def largestInteger(self, num: int) -> int:\n",
    "        \n",
    "        li = [int(a) for a in str(num)]\n",
    "        \n",
    "        # put index as key and number as value\n",
    "        dic = {}\n",
    "        \n",
    "        for i in range(len(li)):\n",
    "            \n",
    "            dic[i] = li[i]\n",
    "        \n",
    "        # for all even digit sort them and put them in specific index\n",
    "        print(dic)\n",
    "        \n",
    "        even_dic = {}\n",
    "        odd_dic  = {}\n",
    "        \n",
    "        for key, value in dic.items():\n",
    "            \n",
    "            if value %2 == 0:\n",
    "                even_dic[key] = value\n",
    "            else:\n",
    "                odd_dic[key] = value\n",
    "        print(even_dic, odd_dic)\n",
    "        \n",
    "        #put value in desc and key in aesc\n",
    "        even_key = list(even_dic.keys())\n",
    "        even_value = list(even_dic.values())\n",
    "        even_value.sort(reverse = True)\n",
    "        \n",
    "        odd_key = list(odd_dic.keys())\n",
    "        odd_value = list(odd_dic.values())\n",
    "        odd_value.sort(reverse = True)\n",
    "        \n",
    "        even_dic = {}\n",
    "        odd_dic = {}\n",
    "        \n",
    "        for i in range(len(even_key)):\n",
    "            even_dic[even_key[i]] = even_value[i]\n",
    "        print(even_dic)\n",
    "        \n",
    "        for i in range(len(odd_key)):\n",
    "            odd_dic[odd_key[i]] = odd_value[i]\n",
    "        print(odd_dic)\n",
    "        \n",
    "        res_dic = even_dic | odd_dic\n",
    "        print(res_dic)\n",
    "        \n",
    "        result = []\n",
    "        for i in sorted(res_dic):\n",
    "            result.append(res_dic[i])\n",
    "        string_result = ''\n",
    "        for i in result:\n",
    "            string_result += str(i)\n",
    "            \n",
    "        print(string_result)\n",
    "        \n",
    "        return int(string_result)\n",
    "            \n",
    "        \n",
    "        \n",
    "            "
   ]
  },
  {
   "cell_type": "code",
   "execution_count": 5,
   "id": "classical-label",
   "metadata": {},
   "outputs": [
    {
     "name": "stdout",
     "output_type": "stream",
     "text": [
      "{0: 1, 1: 2, 2: 3, 3: 4}\n",
      "{1: 2, 3: 4} {0: 1, 2: 3}\n",
      "{1: 4, 3: 2}\n",
      "{0: 3, 2: 1}\n",
      "{1: 4, 3: 2, 0: 3, 2: 1}\n",
      "3412\n",
      "{0: 6, 1: 5, 2: 8, 3: 7, 4: 5}\n",
      "{0: 6, 2: 8} {1: 5, 3: 7, 4: 5}\n",
      "{0: 8, 2: 6}\n",
      "{1: 7, 3: 5, 4: 5}\n",
      "{0: 8, 2: 6, 1: 7, 3: 5, 4: 5}\n",
      "87655\n"
     ]
    }
   ],
   "source": [
    "s = Solution()\n",
    "r = s.largestInteger(1234)\n",
    "t = s.largestInteger(65875)"
   ]
  },
  {
   "cell_type": "code",
   "execution_count": 6,
   "id": "single-arabic",
   "metadata": {},
   "outputs": [
    {
     "name": "stdout",
     "output_type": "stream",
     "text": [
      "1234 3412\n",
      "65875 87655\n"
     ]
    }
   ],
   "source": [
    "print(1234, r)\n",
    "print(65875, t)"
   ]
  },
  {
   "cell_type": "markdown",
   "id": "smooth-compression",
   "metadata": {},
   "source": [
    "2243. Calculate Digit Sum of a String\n",
    "User Accepted:7924\n",
    "User Tried:8377\n",
    "Total Accepted:8098\n",
    "Total Submissions:13099\n",
    "Difficulty:Easy\n",
    "You are given a string s consisting of digits and an integer k.\n",
    "\n",
    "A round can be completed if the length of s is greater than k. In one round, do the following:\n",
    "\n",
    "Divide s into consecutive groups of size k such that the first k characters are in the first group, the next k characters are in the second group, and so on. Note that the size of the last group can be smaller than k.\n",
    "Replace each group of s with a string representing the sum of all its digits. For example, \"346\" is replaced with \"13\" because 3 + 4 + 6 = 13.\n",
    "Merge consecutive groups together to form a new string. If the length of the string is greater than k, repeat from step 1.\n",
    "Return s after all rounds have been completed.\n",
    "\n",
    " \n",
    "\n",
    "Example 1:\n",
    "\n",
    "Input: s = \"11111222223\", k = 3\n",
    "Output: \"135\"\n",
    "Explanation: \n",
    "- For the first round, we divide s into groups of size 3: \"111\", \"112\", \"222\", and \"23\".\n",
    "  ​​​​​Then we calculate the digit sum of each group: 1 + 1 + 1 = 3, 1 + 1 + 2 = 4, 2 + 2 + 2 = 6, and 2 + 3 = 5. \n",
    "  So, s becomes \"3\" + \"4\" + \"6\" + \"5\" = \"3465\" after the first round.\n",
    "- For the second round, we divide s into \"346\" and \"5\".\n",
    "  Then we calculate the digit sum of each group: 3 + 4 + 6 = 13, 5 = 5. \n",
    "  So, s becomes \"13\" + \"5\" = \"135\" after second round. \n",
    "Now, s.length <= k, so we return \"135\" as the answer.\n",
    "Example 2:\n",
    "\n",
    "Input: s = \"00000000\", k = 3\n",
    "Output: \"000\"\n",
    "Explanation: \n",
    "We divide s into \"000\", \"000\", and \"00\".\n",
    "Then we calculate the digit sum of each group: 0 + 0 + 0 = 0, 0 + 0 + 0 = 0, and 0 + 0 = 0. \n",
    "s becomes \"0\" + \"0\" + \"0\" = \"000\", whose length is equal to k, so we return \"000\".\n",
    " \n",
    "\n",
    "Constraints:\n",
    "\n",
    "1 <= s.length <= 100\n",
    "2 <= k <= 100\n",
    "s consists of digits only."
   ]
  },
  {
   "cell_type": "code",
   "execution_count": null,
   "id": "rough-geology",
   "metadata": {},
   "outputs": [],
   "source": [
    "class Solution:\n",
    "    def digitSum(self, s: str, k: int) -> str:\n",
    "        temp = s\n",
    "        ##slice the string into size of k\n",
    "        while len(temp) > k:\n",
    "            sub = [temp[i:i+k] for i in range(0,len(temp), k)]\n",
    "            \n",
    "            #print(sub)\n",
    "            \n",
    "            total = 0\n",
    "            sub_total = ''\n",
    "            temp = ''\n",
    "            \n",
    "            #print(\"total = \", total)\n",
    "            #print(\"sub_total = \", sub_total)\n",
    "            #print(\"temp = \", temp)\n",
    "            \n",
    "            for j in sub:\n",
    "                num = [int(k) for k in j]\n",
    "                #print(num)\n",
    "                \n",
    "                sum_l = 0\n",
    "                \n",
    "                for l in num:\n",
    "                    sum_l += l\n",
    "                    \n",
    "                sub_total += str(sum_l)   \n",
    "                #rint(sub_total)  \n",
    "                    \n",
    "            temp += str(sub_total)\n",
    "                \n",
    "            #print(type(temp))\n",
    "            \n",
    "        return temp"
   ]
  }
 ],
 "metadata": {
  "kernelspec": {
   "display_name": "Python 3",
   "language": "python",
   "name": "python3"
  },
  "language_info": {
   "codemirror_mode": {
    "name": "ipython",
    "version": 3
   },
   "file_extension": ".py",
   "mimetype": "text/x-python",
   "name": "python",
   "nbconvert_exporter": "python",
   "pygments_lexer": "ipython3",
   "version": "3.9.2"
  }
 },
 "nbformat": 4,
 "nbformat_minor": 5
}
