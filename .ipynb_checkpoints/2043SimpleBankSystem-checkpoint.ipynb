{
 "cells": [
  {
   "cell_type": "code",
   "execution_count": null,
   "id": "humanitarian-holmes",
   "metadata": {},
   "outputs": [],
   "source": [
    "class Bank:\n",
    "\n",
    "    def __init__(self, balance: List[int]):\n",
    "        self.balance = balance\n",
    "\n",
    "    def transfer(self, account1: int, account2: int, money: int) -> bool:\n",
    "        if self.withdraw(self, account1):\n",
    "            if self.deposit(self, account2):\n",
    "                return True\n",
    "            return Flase\n",
    "\n",
    "    def deposit(self, account: int, money: int) -> bool:\n",
    "        if account < 1 or account > len(self.balance): \n",
    "            return False\n",
    "        self.balance[account - 1] += money\n",
    "        return True\n",
    "    \n",
    "    def withdraw(self, account: int, money: int) -> bool:\n",
    "#         if 1 <= account <= len(self.balance): \n",
    "#             self.balance[account-1] += money\n",
    "#             return True \n",
    "        \n",
    "        if (0 < account) and (len(self.balance) > account) and (self.balance[account - 1] >= money):\n",
    "            self.balance[account - 1] -= money\n",
    "            return True\n",
    "        \n",
    "        return False"
   ]
  }
 ],
 "metadata": {
  "kernelspec": {
   "display_name": "Python 3",
   "language": "python",
   "name": "python3"
  },
  "language_info": {
   "codemirror_mode": {
    "name": "ipython",
    "version": 3
   },
   "file_extension": ".py",
   "mimetype": "text/x-python",
   "name": "python",
   "nbconvert_exporter": "python",
   "pygments_lexer": "ipython3",
   "version": "3.9.2"
  }
 },
 "nbformat": 4,
 "nbformat_minor": 5
}
