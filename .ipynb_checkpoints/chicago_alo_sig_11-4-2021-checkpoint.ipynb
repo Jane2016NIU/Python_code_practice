{
 "cells": [
  {
   "cell_type": "markdown",
   "id": "9f0cb92d",
   "metadata": {},
   "source": [
    "Merge Intervals\n",
    "Nov 4, 2021\n",
    "Description\n",
    "Given an array of intervals where intervals[i] = [starti, endi], merge all overlapping intervals, and return an array of the non-overlapping intervals that cover all the intervals in the input.\n",
    "\n",
    "Example\n",
    "\n",
    "# Example 1\n",
    "intervals = [[1,3],[2,6],[8,10],[15,18]]  # Input\n",
    "[[1,6],[8,10],[15,18]]                    # Output\n",
    "# Explanation: Since intervals [1,3] and [2,6] overlaps, merge them into [1,6].\n",
    "\n",
    "# Example 2\n",
    "intervals = [[1,4],[4,5]]  # Input\n",
    "[[1,5]]                    # Output\n",
    "# Explanation: Intervals [1,4] and [4,5] are considered overlapping.\n",
    "\n",
    "Solution\n",
    "def merge(intervals):\n",
    "    new_intervals = []\n",
    "    # INSERT CODE HERE\n",
    "    return new_intervals"
   ]
  },
  {
   "cell_type": "code",
   "execution_count": null,
   "id": "a3f6492a",
   "metadata": {},
   "outputs": [],
   "source": [
    "class Solution:\n",
    "def merge(intervals):\n",
    "    new_intervals = []\n",
    "    # compare every interval with other intervals, replace the original internal with combined interval \n",
    "    return new_intervals"
   ]
  }
 ],
 "metadata": {
  "kernelspec": {
   "display_name": "Python 3 (ipykernel)",
   "language": "python",
   "name": "python3"
  },
  "language_info": {
   "codemirror_mode": {
    "name": "ipython",
    "version": 3
   },
   "file_extension": ".py",
   "mimetype": "text/x-python",
   "name": "python",
   "nbconvert_exporter": "python",
   "pygments_lexer": "ipython3",
   "version": "3.7.9"
  }
 },
 "nbformat": 4,
 "nbformat_minor": 5
}
