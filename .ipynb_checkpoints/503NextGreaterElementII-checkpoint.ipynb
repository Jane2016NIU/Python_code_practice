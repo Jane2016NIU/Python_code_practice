{
 "cells": [
  {
   "cell_type": "code",
   "execution_count": 2,
   "id": "external-present",
   "metadata": {},
   "outputs": [],
   "source": [
    "class Solution:\n",
    "    def nextGreaterElements(self, nums: list[int]) -> list[int]:\n",
    "        n = len(nums)\n",
    "        ans = [-1] * n\n",
    "        stack = nums[0 : n - 1][::-1]\n",
    "        for i in range(n - 1, -1, -1):\n",
    "            while stack and stack[-1] <= nums[i]:\n",
    "                stack.pop()\n",
    "            if stack:\n",
    "                ans[i] = stack[-1]\n",
    "            stack.append(nums[i])\n",
    "        return ans\n"
   ]
  },
  {
   "cell_type": "code",
   "execution_count": 3,
   "id": "potential-mistake",
   "metadata": {},
   "outputs": [],
   "source": [
    "s = Solution()"
   ]
  },
  {
   "cell_type": "code",
   "execution_count": null,
   "id": "ancient-hardwood",
   "metadata": {},
   "outputs": [],
   "source": [
    "# this is wrong answer since the question need next big number in cyler array. for example for [5,4,3,2,1] output array should be [-1,5,5,5,5]\n",
    "class Solution:\n",
    "    def nextGreaterElements(self, nums: List[int]) -> List[int]:\n",
    "        # to get next great number means to sort by number \n",
    "        ordered_set = set()\n",
    "        for i in sorted(nums):\n",
    "            ordered_set.add(i)\n",
    "        ordered_lst = list(ordered_set) \n",
    "        \n",
    "        #print(ordered_set)\n",
    "        output = []\n",
    "        # for nums list find every index of the value in ordered set\n",
    "        for item in nums:\n",
    "            idx = ordered_lst.index(item)\n",
    "            if idx == len(ordered_lst) - 1:\n",
    "                output.append(-1)\n",
    "                    \n",
    "            else:\n",
    "                output.append(ordered_lst[idx+1])\n",
    "                    \n",
    "        return output\n",
    "            "
   ]
  },
  {
   "cell_type": "code",
   "execution_count": 4,
   "id": "exotic-pastor",
   "metadata": {},
   "outputs": [],
   "source": [
    "class Solution:\n",
    "    def nextGreaterElements(self, nums: list[int]) -> list[int]:\n",
    "        output = []\n",
    "        new_nums = nums + nums\n",
    "        maxv = max(nums)\n",
    "        for i in range(len(nums)): \n",
    "            if nums[i] == maxv:\n",
    "                output.append(-1)\n",
    "            else:\n",
    "                for j in range(i,i+len(nums)):\n",
    "                    if nums[i] < new_nums[j+1]:\n",
    "                        output.append(new_nums[j+1])\n",
    "                        break\n",
    "        return output\n",
    "            "
   ]
  },
  {
   "cell_type": "code",
   "execution_count": 5,
   "id": "analyzed-salem",
   "metadata": {},
   "outputs": [],
   "source": [
    "s = Solution()"
   ]
  },
  {
   "cell_type": "code",
   "execution_count": 6,
   "id": "purple-equivalent",
   "metadata": {},
   "outputs": [],
   "source": [
    "nums = [1,2,3,4,3]"
   ]
  },
  {
   "cell_type": "code",
   "execution_count": 7,
   "id": "hungarian-specialist",
   "metadata": {},
   "outputs": [
    {
     "name": "stdout",
     "output_type": "stream",
     "text": [
      "[2, 3, 4, -1, 4]\n"
     ]
    }
   ],
   "source": [
    "print(s.nextGreaterElements(nums))"
   ]
  },
  {
   "cell_type": "code",
   "execution_count": null,
   "id": "faced-instrument",
   "metadata": {},
   "outputs": [],
   "source": []
  },
  {
   "cell_type": "code",
   "execution_count": null,
   "id": "current-former",
   "metadata": {},
   "outputs": [],
   "source": []
  },
  {
   "cell_type": "code",
   "execution_count": null,
   "id": "greater-finder",
   "metadata": {},
   "outputs": [],
   "source": []
  }
 ],
 "metadata": {
  "kernelspec": {
   "display_name": "Python 3",
   "language": "python",
   "name": "python3"
  },
  "language_info": {
   "codemirror_mode": {
    "name": "ipython",
    "version": 3
   },
   "file_extension": ".py",
   "mimetype": "text/x-python",
   "name": "python",
   "nbconvert_exporter": "python",
   "pygments_lexer": "ipython3",
   "version": "3.9.2"
  }
 },
 "nbformat": 4,
 "nbformat_minor": 5
}
