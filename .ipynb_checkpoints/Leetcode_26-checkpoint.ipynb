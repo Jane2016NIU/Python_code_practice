{
 "cells": [
  {
   "cell_type": "markdown",
   "id": "martial-chocolate",
   "metadata": {},
   "source": [
    "26. Remove Duplicates from Sorted Array\n",
    "\n",
    "https://leetcode.com/problems/remove-duplicates-from-sorted-array/\n",
    "\n",
    "Given an integer array nums sorted in non-decreasing order, remove the duplicates in-place such that each unique element appears only once. The relative order of the elements should be kept the same.\n",
    "\n",
    "Since it is impossible to change the length of the array in some languages, you must instead have the result be placed in the first part of the array nums. More formally, if there are k elements after removing the duplicates, then the first k elements of nums should hold the final result. It does not matter what you leave beyond the first k elements.\n",
    "\n",
    "Return k after placing the final result in the first k slots of nums.\n",
    "\n",
    "Do not allocate extra space for another array. You must do this by modifying the input array in-place with O(1) extra memory."
   ]
  },
  {
   "cell_type": "code",
   "execution_count": 9,
   "id": "naked-token",
   "metadata": {},
   "outputs": [],
   "source": [
    "class Solution:\n",
    "    def removeDuplicates(self, nums: list[int]) -> int:\n",
    "        # i, j point to nums array \n",
    "        i,j = 0,1\n",
    "        \n",
    "        while j < len(nums):\n",
    "            if nums[i] == nums[j]:\n",
    "                nums.pop(i)\n",
    "\n",
    "            else:\n",
    "                i = j\n",
    "                j += 1\n",
    "\n",
    "        return len(nums)"
   ]
  },
  {
   "cell_type": "code",
   "execution_count": 10,
   "id": "native-mozambique",
   "metadata": {},
   "outputs": [],
   "source": [
    "num = [1,1,2]"
   ]
  },
  {
   "cell_type": "code",
   "execution_count": 11,
   "id": "frequent-stress",
   "metadata": {},
   "outputs": [],
   "source": [
    "a = Solution()"
   ]
  },
  {
   "cell_type": "code",
   "execution_count": 12,
   "id": "hydraulic-commodity",
   "metadata": {},
   "outputs": [],
   "source": [
    "l = a.removeDuplicates(num)"
   ]
  },
  {
   "cell_type": "code",
   "execution_count": 14,
   "id": "greater-mustang",
   "metadata": {},
   "outputs": [
    {
     "data": {
      "text/plain": [
       "list"
      ]
     },
     "execution_count": 14,
     "metadata": {},
     "output_type": "execute_result"
    }
   ],
   "source": [
    "type(l)"
   ]
  },
  {
   "cell_type": "code",
   "execution_count": 11,
   "id": "herbal-runner",
   "metadata": {},
   "outputs": [],
   "source": [
    "class Solution:\n",
    "    def containsDuplicate(self, nums: list[int]) -> bool:\n",
    "        dic = {}\n",
    "        if len(nums) == 0:\n",
    "            return False\n",
    "        \n",
    "        for i in nums:\n",
    "            if i not in dic.keys():\n",
    "                dic[i] = 1\n",
    "                break\n",
    "            \n",
    "            dic[i] += 1\n",
    "            if dic[i] > 1:\n",
    "                return False\n",
    "            \n",
    "        return True"
   ]
  },
  {
   "cell_type": "code",
   "execution_count": 12,
   "id": "civic-conservation",
   "metadata": {},
   "outputs": [
    {
     "data": {
      "text/plain": [
       "True"
      ]
     },
     "execution_count": 12,
     "metadata": {},
     "output_type": "execute_result"
    }
   ],
   "source": [
    "s = Solution()\n",
    "nums = [1,2,3,4]\n",
    "s.containsDuplicate(nums)"
   ]
  },
  {
   "cell_type": "code",
   "execution_count": 7,
   "id": "better-copper",
   "metadata": {},
   "outputs": [
    {
     "name": "stdout",
     "output_type": "stream",
     "text": [
      "{1: 0}\n",
      "0\n"
     ]
    }
   ],
   "source": [
    "\n",
    "dic = {}\n",
    "dic[1] = 0\n",
    "print(dic)\n",
    "\n",
    "print(dic[1])"
   ]
  },
  {
   "cell_type": "code",
   "execution_count": null,
   "id": "under-assurance",
   "metadata": {},
   "outputs": [],
   "source": []
  }
 ],
 "metadata": {
  "kernelspec": {
   "display_name": "Python 3",
   "language": "python",
   "name": "python3"
  },
  "language_info": {
   "codemirror_mode": {
    "name": "ipython",
    "version": 3
   },
   "file_extension": ".py",
   "mimetype": "text/x-python",
   "name": "python",
   "nbconvert_exporter": "python",
   "pygments_lexer": "ipython3",
   "version": "3.9.2"
  }
 },
 "nbformat": 4,
 "nbformat_minor": 5
}
