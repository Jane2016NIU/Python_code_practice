{
 "cells": [
  {
   "cell_type": "code",
   "execution_count": 6,
   "id": "a6d00441",
   "metadata": {},
   "outputs": [],
   "source": [
    "import csv\n",
    "import os\n",
    "import glob\n",
    "\n",
    "os.chdir(\"F:/apps/Frac/Flare Data/2021 - Copy\")\n",
    "\n",
    "extension = 'CSV'\n",
    "all_filenames = [i for i in glob.glob('*.{}'.format(extension))]\n",
    "\n",
    "\n",
    "mergefile = 'Merge.csv'\n",
    "\n",
    "# create an empty csv file\n",
    "with open(mergefile, 'w') as merge_file:\n",
    "    pass\n",
    "\n",
    "for filename in all_filenames:\n",
    "    \n",
    "    with open(filename) as csvfile:\n",
    "        csv_reader = csv.reader(csvfile)\n",
    "        header = next(csv_reader)\n",
    "        with open(mergefile, 'a') as f:\n",
    "            \n",
    "            for line in csv_reader:\n",
    "                f.write(','.join(line) + '\\n')"
   ]
  },
  {
   "cell_type": "code",
   "execution_count": null,
   "id": "1f2e84fe",
   "metadata": {},
   "outputs": [],
   "source": [
    "pd.read_csv('Merge.csv').header()"
   ]
  },
  {
   "cell_type": "code",
   "execution_count": null,
   "id": "c99a94aa",
   "metadata": {},
   "outputs": [],
   "source": [
    "import csv\n",
    "with open('some.csv', 'w') as ff:\n",
    "    ff.write(\"this, is, a, string\")\n",
    "with open('some.csv', 'r') as f:\n",
    "    reader = csv.reader(f)\n",
    "    for row in reader:\n",
    "        print(row)"
   ]
  },
  {
   "cell_type": "code",
   "execution_count": 3,
   "id": "1111361a",
   "metadata": {},
   "outputs": [
    {
     "name": "stdout",
     "output_type": "stream",
     "text": [
      "this, is, a, string\n",
      "\n"
     ]
    }
   ],
   "source": [
    "import csv\n",
    "with open('some.csv', 'r') as csvfile:\n",
    "    spamreader = csv.reader(csvfile, delimiter=',', quotechar='|')\n",
    "    for row in spamreader:\n",
    "        print(','.join(row)+'\\n')"
   ]
  },
  {
   "cell_type": "code",
   "execution_count": 2,
   "id": "a4b61499",
   "metadata": {},
   "outputs": [],
   "source": [
    "import os\n",
    "import glob\n",
    "import pandas as pd\n",
    "os.chdir(\"F:/apps/Frac/Flare Data/2021 - Copy\")"
   ]
  },
  {
   "cell_type": "code",
   "execution_count": null,
   "id": "ff10ada0",
   "metadata": {},
   "outputs": [],
   "source": [
    "import os\n",
    "import glob\n",
    "import pandas as pd\n",
    "os.chdir(\"F:/apps/Frac/Flare Data/2021 - Copy\")\n",
    "\n",
    "extension = 'csv'\n",
    "all_filenames = [i for i in glob.glob('*.{}'.format(extension))]\n",
    "\n",
    "#combine all files in the list\n",
    "combined_csv = pd.concat([pd.read_csv(f, skiprows = 1) for f in all_filenames ])\n",
    "#export to csv\n",
    "combined_csv.to_csv( \"combined_csv.csv\", index=False, encoding='utf-8-sig')"
   ]
  },
  {
   "cell_type": "code",
   "execution_count": null,
   "id": "ee227f94",
   "metadata": {},
   "outputs": [],
   "source": [
    "pd.read_csv(\"combined_csv.csv\").head()\n"
   ]
  },
  {
   "cell_type": "code",
   "execution_count": null,
   "id": "59d531a2",
   "metadata": {},
   "outputs": [],
   "source": []
  }
 ],
 "metadata": {
  "kernelspec": {
   "display_name": "Python 3 (ipykernel)",
   "language": "python",
   "name": "python3"
  },
  "language_info": {
   "codemirror_mode": {
    "name": "ipython",
    "version": 3
   },
   "file_extension": ".py",
   "mimetype": "text/x-python",
   "name": "python",
   "nbconvert_exporter": "python",
   "pygments_lexer": "ipython3",
   "version": "3.7.9"
  }
 },
 "nbformat": 4,
 "nbformat_minor": 5
}
