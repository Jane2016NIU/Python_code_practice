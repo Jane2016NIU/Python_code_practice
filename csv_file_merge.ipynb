{
 "cells": [
  {
   "cell_type": "code",
   "execution_count": 6,
   "id": "0b5b496f",
   "metadata": {},
   "outputs": [],
   "source": [
    "import csv\n",
    "import os\n",
    "import glob\n",
    "\n",
    "os.chdir(\"F:/apps/Frac/Flare Data/2021 - Copy\")\n",
    "\n",
    "extension = 'CSV'\n",
    "all_filenames = [i for i in glob.glob('*.{}'.format(extension))]\n",
    "\n",
    "\n",
    "mergefile = 'Merge.csv'\n",
    "\n",
    "# create an empty csv file\n",
    "with open(mergefile, 'w') as merge_file:\n",
    "    pass\n",
    "\n",
    "for filename in all_filenames:\n",
    "    \n",
    "    with open(filename) as csvfile:\n",
    "        csv_reader = csv.reader(csvfile)\n",
    "        header = next(csv_reader)\n",
    "        with open(mergefile, 'a') as f:\n",
    "            \n",
    "            for line in csv_reader:\n",
    "                f.write(','.join(line) + '\\n')"
   ]
  },
  {
   "cell_type": "code",
   "execution_count": null,
   "id": "65ac9144",
   "metadata": {},
   "outputs": [],
   "source": [
    "pd.read_csv('Merge.csv').header()"
   ]
  },
  {
   "cell_type": "code",
   "execution_count": null,
   "id": "b3540712",
   "metadata": {},
   "outputs": [],
   "source": [
    "import csv\n",
    "with open('some.csv', 'w') as ff:\n",
    "    ff.write(\"this, is, a, string\")\n",
    "with open('some.csv', 'r') as f:\n",
    "    reader = csv.reader(f)\n",
    "    for row in reader:\n",
    "        print(row)"
   ]
  },
  {
   "cell_type": "code",
   "execution_count": 3,
   "id": "fb006077",
   "metadata": {},
   "outputs": [
    {
     "name": "stdout",
     "output_type": "stream",
     "text": [
      "this, is, a, string\n",
      "\n"
     ]
    }
   ],
   "source": [
    "import csv\n",
    "with open('some.csv', 'r') as csvfile:\n",
    "    spamreader = csv.reader(csvfile, delimiter=',', quotechar='|')\n",
    "    for row in spamreader:\n",
    "        print(','.join(row)+'\\n')"
   ]
  },
  {
   "cell_type": "code",
   "execution_count": 2,
   "id": "6f013a58",
   "metadata": {},
   "outputs": [],
   "source": [
    "import os\n",
    "import glob\n",
    "import pandas as pd\n",
    "os.chdir(\"F:/apps/Frac/Flare Data/2021 - Copy\")"
   ]
  },
  {
   "cell_type": "code",
   "execution_count": null,
   "id": "46aeb0d0",
   "metadata": {},
   "outputs": [],
   "source": [
    "import os\n",
    "import glob\n",
    "import pandas as pd\n",
    "os.chdir(\"F:/apps/Frac/Flare Data/2021 - Copy\")\n",
    "\n",
    "extension = 'csv'\n",
    "all_filenames = [i for i in glob.glob('*.{}'.format(extension))]\n",
    "\n",
    "#combine all files in the list\n",
    "combined_csv = pd.concat([pd.read_csv(f, skiprows = 1) for f in all_filenames ])\n",
    "#export to csv\n",
    "combined_csv.to_csv( \"combined_csv.csv\", index=False, encoding='utf-8-sig')"
   ]
  },
  {
   "cell_type": "code",
   "execution_count": null,
   "id": "0afbc110",
   "metadata": {},
   "outputs": [],
   "source": [
    "pd.read_csv(\"combined_csv.csv\").head()\n"
   ]
  },
  {
   "cell_type": "code",
   "execution_count": 4,
   "id": "6f8d9e8c",
   "metadata": {},
   "outputs": [],
   "source": [
    "##Below code is for count lines in every file from a folder and count total lines of records. (not include the first header line)\n",
    "\n",
    "import os\n",
    "import glob\n",
    "os.chdir(\"F:/apps/Frac/Flare Data/2021\")\n",
    "\n",
    "extension = 'CSV'\n",
    "all_filesnames = [i for i in glob.glob('*.{}'.format(extension))]\n",
    "total_num_lines = 0\n",
    "with open('lineNumber.txt', 'a') as output:\n",
    "    for i in all_filesnames:\n",
    "        num_lines = 0\n",
    "        with open(i,'r') as inputfile:\n",
    "            next(inputfile)\n",
    "            num_lines = sum(1 for line in inputfile)\n",
    "            output.write(i + ', ' + str(num_lines) + '\\n')\n",
    "        total_num_lines += num_lines\n",
    "    output.write('Total: ' + str(total_num_lines) + '\\n')"
   ]
  },
  {
   "cell_type": "code",
   "execution_count": 5,
   "id": "abcd8729",
   "metadata": {},
   "outputs": [],
   "source": [
    "import csv\n",
    "import datetime as dt\n",
    "import os\n"
   ]
  },
  {
   "cell_type": "code",
   "execution_count": 12,
   "id": "2b9dd603",
   "metadata": {},
   "outputs": [],
   "source": [
    "os.chdir(\"F:/apps/Frac/Flare Data/2021 - copy\")\n"
   ]
  },
  {
   "cell_type": "code",
   "execution_count": 28,
   "id": "970c246a",
   "metadata": {},
   "outputs": [
    {
     "name": "stdout",
     "output_type": "stream",
     "text": [
      "[datetime.datetime(2021, 1, 1, 0, 0), '1']\n",
      "[datetime.datetime(2021, 1, 1, 0, 0, 57), '1']\n",
      "[datetime.datetime(2021, 1, 1, 0, 1, 55), '1']\n",
      "[datetime.datetime(2021, 1, 1, 0, 2, 52), '1']\n",
      "[datetime.datetime(2021, 1, 1, 0, 3, 50), '1']\n",
      "[datetime.datetime(2021, 1, 1, 0, 4, 48), '1']\n",
      "[datetime.datetime(2021, 1, 1, 0, 5, 45), '1']\n",
      "[datetime.datetime(2021, 1, 1, 0, 6, 43), '1']\n",
      "[datetime.datetime(2021, 1, 1, 0, 7, 40), '1']\n",
      "[datetime.datetime(2021, 1, 1, 0, 8, 38), '1']\n",
      "[datetime.datetime(2021, 1, 1, 0, 9, 36), '1']\n",
      "[datetime.datetime(2021, 1, 1, 0, 10, 33), '1']\n",
      "[datetime.datetime(2021, 1, 1, 0, 11, 31), '1']\n",
      "[datetime.datetime(2021, 1, 1, 0, 12, 28), '1']\n",
      "[datetime.datetime(2021, 1, 1, 0, 13, 26), '1']\n",
      "[datetime.datetime(2021, 1, 1, 0, 14, 24), '1']\n",
      "[datetime.datetime(2021, 1, 1, 0, 15, 21), '1']\n",
      "[datetime.datetime(2021, 1, 1, 0, 16, 19), '1']\n",
      "[datetime.datetime(2021, 1, 1, 0, 17, 16), '1']\n",
      "[datetime.datetime(2021, 1, 1, 0, 18, 14), '1']\n",
      "[datetime.datetime(2021, 1, 1, 0, 19, 12), '1']\n",
      "[datetime.datetime(2021, 1, 1, 0, 20, 9), '1']\n",
      "[datetime.datetime(2021, 1, 1, 0, 21, 7), '1']\n",
      "[datetime.datetime(2021, 1, 1, 0, 22, 4), '1']\n",
      "[datetime.datetime(2021, 1, 1, 0, 23, 2), '1']\n",
      "[datetime.datetime(2021, 1, 1, 0, 24), '1']\n",
      "[datetime.datetime(2021, 1, 1, 0, 24, 57), '1']\n",
      "[datetime.datetime(2021, 1, 1, 0, 25, 55), '1']\n",
      "[datetime.datetime(2021, 1, 1, 0, 26, 52), '1']\n",
      "[datetime.datetime(2021, 1, 1, 0, 27, 50), '1']\n",
      "[datetime.datetime(2021, 1, 1, 0, 28, 48), '1']\n",
      "[datetime.datetime(2021, 1, 1, 0, 29, 45), '1']\n",
      "[datetime.datetime(2021, 1, 1, 0, 30, 43), '1']\n",
      "[datetime.datetime(2021, 1, 1, 0, 31, 40), '1']\n",
      "[datetime.datetime(2021, 1, 1, 0, 32, 38), '1']\n",
      "[datetime.datetime(2021, 1, 1, 0, 33, 36), '1']\n",
      "[datetime.datetime(2021, 1, 1, 0, 34, 33), '1']\n",
      "[datetime.datetime(2021, 1, 1, 0, 35, 31), '1']\n",
      "[datetime.datetime(2021, 1, 1, 0, 36, 28), '1']\n",
      "[datetime.datetime(2021, 1, 1, 0, 37, 26), '1']\n",
      "[datetime.datetime(2021, 1, 1, 0, 38, 24), '1']\n",
      "[datetime.datetime(2021, 1, 1, 0, 39, 21), '1']\n",
      "[datetime.datetime(2021, 1, 1, 0, 40, 19), '1']\n",
      "[datetime.datetime(2021, 1, 1, 0, 41, 16), '1']\n",
      "[datetime.datetime(2021, 1, 1, 0, 42, 14), '1']\n",
      "[datetime.datetime(2021, 1, 1, 0, 43, 12), '1']\n",
      "[datetime.datetime(2021, 1, 1, 0, 44, 9), '1']\n",
      "[datetime.datetime(2021, 1, 1, 0, 45, 7), '1']\n",
      "[datetime.datetime(2021, 1, 1, 0, 46, 4), '1']\n",
      "[datetime.datetime(2021, 1, 1, 0, 47, 2), '1']\n",
      "[datetime.datetime(2021, 1, 1, 0, 48), '1']\n",
      "[datetime.datetime(2021, 1, 1, 0, 48, 57), '1']\n",
      "[datetime.datetime(2021, 1, 1, 0, 49, 55), '1']\n",
      "[datetime.datetime(2021, 1, 1, 0, 50, 52), '1']\n",
      "[datetime.datetime(2021, 1, 1, 0, 51, 50), '1']\n",
      "[datetime.datetime(2021, 1, 1, 0, 52, 48), '1']\n",
      "[datetime.datetime(2021, 1, 1, 0, 53, 45), '1']\n",
      "[datetime.datetime(2021, 1, 1, 0, 54, 43), '1']\n",
      "[datetime.datetime(2021, 1, 1, 0, 55, 40), '1']\n",
      "[datetime.datetime(2021, 1, 1, 0, 56, 38), '1']\n",
      "[datetime.datetime(2021, 1, 1, 0, 57, 36), '1']\n",
      "[datetime.datetime(2021, 1, 1, 0, 58, 33), '1']\n",
      "[datetime.datetime(2021, 1, 1, 0, 59, 31), '1']\n",
      "[datetime.datetime(2021, 1, 1, 1, 0, 28), '1']\n",
      "[datetime.datetime(2021, 1, 1, 1, 1, 26), '1']\n",
      "[datetime.datetime(2021, 1, 1, 1, 2, 24), '1']\n",
      "[datetime.datetime(2021, 1, 1, 1, 3, 21), '1']\n",
      "[datetime.datetime(2021, 1, 1, 1, 4, 19), '1']\n",
      "[datetime.datetime(2021, 1, 1, 1, 5, 16), '1']\n",
      "[datetime.datetime(2021, 1, 1, 1, 6, 14), '1']\n",
      "[datetime.datetime(2021, 1, 1, 1, 7, 12), '1']\n",
      "[datetime.datetime(2021, 1, 1, 1, 8, 9), '1']\n",
      "[datetime.datetime(2021, 1, 1, 1, 9, 7), '1']\n",
      "[datetime.datetime(2021, 1, 1, 1, 10, 4), '1']\n",
      "[datetime.datetime(2021, 1, 1, 1, 11, 2), '1']\n",
      "[datetime.datetime(2021, 1, 1, 1, 12), '1']\n",
      "[datetime.datetime(2021, 1, 1, 1, 12, 57), '1']\n",
      "[datetime.datetime(2021, 1, 1, 1, 13, 55), '1']\n",
      "[datetime.datetime(2021, 1, 1, 1, 14, 52), '1']\n",
      "[datetime.datetime(2021, 1, 1, 1, 15, 50), '1']\n",
      "[datetime.datetime(2021, 1, 1, 1, 16, 48), '1']\n",
      "[datetime.datetime(2021, 1, 1, 1, 17, 45), '1']\n",
      "[datetime.datetime(2021, 1, 1, 1, 18, 43), '1']\n",
      "[datetime.datetime(2021, 1, 1, 1, 19, 40), '1']\n",
      "[datetime.datetime(2021, 1, 1, 1, 20, 38), '1']\n",
      "[datetime.datetime(2021, 1, 1, 1, 21, 36), '1']\n",
      "[datetime.datetime(2021, 1, 1, 1, 22, 33), '1']\n",
      "[datetime.datetime(2021, 1, 1, 1, 23, 31), '1']\n",
      "[datetime.datetime(2021, 1, 1, 1, 24, 28), '1']\n",
      "[datetime.datetime(2021, 1, 1, 1, 25, 26), '1']\n",
      "[datetime.datetime(2021, 1, 1, 1, 26, 24), '1']\n",
      "[datetime.datetime(2021, 1, 1, 1, 27, 21), '1']\n",
      "[datetime.datetime(2021, 1, 1, 1, 28, 19), '1']\n",
      "[datetime.datetime(2021, 1, 1, 1, 29, 16), '1']\n",
      "[datetime.datetime(2021, 1, 1, 1, 30, 14), '1']\n",
      "[datetime.datetime(2021, 1, 1, 1, 31, 12), '1']\n",
      "[datetime.datetime(2021, 1, 1, 1, 32, 9), '1']\n",
      "[datetime.datetime(2021, 1, 1, 1, 33, 7), '1']\n",
      "[datetime.datetime(2021, 1, 1, 1, 34, 4), '1']\n",
      "[datetime.datetime(2021, 1, 1, 1, 35, 2), '1']\n"
     ]
    }
   ],
   "source": [
    "# read each line of the merged file in to a list\n",
    "with open('Merge.csv', 'r') as f:\n",
    "    reader = csv.reader(f)\n",
    "#     total_num_of_lines = sum(1 for i in reader)\n",
    "#     print(\"total number of lines: \", total_num_of_lines)\n",
    "    data = list(filter(lambda x: x[2] == '1', reader))\n",
    "    time_total = 0\n",
    "    for i in range(len(data)):\n",
    "        del data[i][3:]\n",
    "        data[i][1] = dt.datetime.strptime(data[i][0] + ' ' + data[i][1], \"%m/%d/%y %H:%M:%S\")\n",
    "#     print(\"There are \" + str(len(data)) + \" records related to flare on\")\n",
    "        data[i].pop(0)\n",
    "        time_total = \n",
    "    for i in range(100):\n",
    "        print(data[i])\n",
    "    \n",
    "    \n",
    "        \n",
    "        \n",
    "    \n",
    "    \n",
    "    "
   ]
  },
  {
   "cell_type": "code",
   "execution_count": null,
   "id": "c58c4a3e",
   "metadata": {},
   "outputs": [],
   "source": []
  },
  {
   "cell_type": "code",
   "execution_count": 19,
   "id": "010120f4",
   "metadata": {},
   "outputs": [],
   "source": [
    "# # open file in write and read mode w+\n",
    "# with open(r'C:\\Users\\ljia\\Desktop\\work\\repo\\Python_code_practice\\test.txt', \"w+\") as fp:\n",
    "#     # add content\n",
    "#     fp.write('My First Line\\n')\n",
    "#     fp.write('My Second Line')\n",
    "#     # move pointer to the beginning\n",
    "    \n",
    "#     fp.seek(0)\n",
    "#     # read file\n",
    "#     print(fp.read())\n",
    "\n",
    "import csv\n",
    "with open(r'C:\\Users\\ljia\\Desktop\\work\\repo\\Python_code_practice\\test.txt', 'a+', newline='') as csvfile:\n",
    "    spamwriter = csv.writer(csvfile, delimiter=' ',\n",
    "                            quotechar='|', quoting=csv.QUOTE_MINIMAL)\n",
    "    spamwriter.writerow(['Spam'] * 5 + ['Baked Beans'])\n",
    "    spamwriter.writerow(['Spam', 'Lovely Spam', 'Wonderful Spam'])\n",
    "    \n",
    "    reader = csv.reader(csvfile, delimiter=',', quotechar='|')\n",
    "    for i in reader:\n",
    "        print(i)\n",
    "\n"
   ]
  },
  {
   "cell_type": "code",
   "execution_count": null,
   "id": "c54ed840",
   "metadata": {},
   "outputs": [],
   "source": []
  },
  {
   "cell_type": "code",
   "execution_count": null,
   "id": "e0e97994",
   "metadata": {},
   "outputs": [],
   "source": []
  },
  {
   "cell_type": "code",
   "execution_count": null,
   "id": "7426978d",
   "metadata": {},
   "outputs": [],
   "source": [
    "# filter out all 0 line"
   ]
  }
 ],
 "metadata": {
  "kernelspec": {
   "display_name": "Python 3 (ipykernel)",
   "language": "python",
   "name": "python3"
  },
  "language_info": {
   "codemirror_mode": {
    "name": "ipython",
    "version": 3
   },
   "file_extension": ".py",
   "mimetype": "text/x-python",
   "name": "python",
   "nbconvert_exporter": "python",
   "pygments_lexer": "ipython3",
   "version": "3.7.9"
  }
 },
 "nbformat": 4,
 "nbformat_minor": 5
}
