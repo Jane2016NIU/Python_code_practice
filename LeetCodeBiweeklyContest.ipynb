{
 "cells": [
  {
   "cell_type": "markdown",
   "id": "republican-episode",
   "metadata": {},
   "source": [
    "6104. Count Asterisks\n",
    "User Accepted:10044\n",
    "User Tried:10444\n",
    "Total Accepted:10312\n",
    "Total Submissions:12792\n",
    "Difficulty:Easy\n",
    "\n",
    "\n",
    "\n",
    "You are given a string s, where every two consecutive vertical bars '|' are grouped into a pair. In other words, the 1st and 2nd '|' make a pair, the 3rd and 4th '|' make a pair, and so forth.\n",
    "\n",
    "Return the number of '*' in s, excluding the '*' between each pair of '|'.\n",
    "\n",
    "Note that each '|' will belong to exactly one pair.\n",
    "\n",
    " \n",
    "\n",
    "Example 1:\n",
    "\n",
    "Input: s = \"l|*e*et|c**o|*de|\"\n",
    "Output: 2\n",
    "Explanation: The considered characters are underlined: \"l|*e*et|c**o|*de|\".\n",
    "The characters between the first and second '|' are excluded from the answer.\n",
    "Also, the characters between the third and fourth '|' are excluded from the answer.\n",
    "There are 2 asterisks considered. Therefore, we return 2.\n",
    "Example 2:\n",
    "\n",
    "Input: s = \"iamprogrammer\"\n",
    "Output: 0\n",
    "Explanation: In this example, there are no asterisks in s. Therefore, we return 0.\n",
    "Example 3:\n",
    "\n",
    "Input: s = \"yo|uar|e**|b|e***au|tifu|l\"\n",
    "Output: 5\n",
    "Explanation: The considered characters are underlined: \"yo|uar|e**|b|e***au|tifu|l\". There are 5 asterisks considered. Therefore, we return 5.\n"
   ]
  },
  {
   "cell_type": "code",
   "execution_count": null,
   "id": "congressional-clothing",
   "metadata": {},
   "outputs": [],
   "source": [
    "slice the string drop all even number string then count how many asterisk \n"
   ]
  },
  {
   "cell_type": "code",
   "execution_count": 31,
   "id": "adverse-vocabulary",
   "metadata": {},
   "outputs": [],
   "source": [
    "class Solution:\n",
    "    \"\"\"To calculate how many asterisks in a string are not skipped\"\"\"\n",
    "    def countAsterisks(self, s: str) -> int:\n",
    "        temp = s.split('|')\n",
    "        temp_1 = []\n",
    "        for i in range(len(temp)//2+1):\n",
    "            temp_1.append(temp[2*i])\n",
    "        print(temp_1)\n",
    "        return '_'.join(temp_1).count('*')"
   ]
  },
  {
   "cell_type": "code",
   "execution_count": 32,
   "id": "mighty-gravity",
   "metadata": {},
   "outputs": [
    {
     "name": "stdout",
     "output_type": "stream",
     "text": [
      "0\n",
      "l\n",
      "1\n",
      "c**o\n",
      "['l', 'c**o']\n"
     ]
    },
    {
     "data": {
      "text/plain": [
       "2"
      ]
     },
     "execution_count": 32,
     "metadata": {},
     "output_type": "execute_result"
    }
   ],
   "source": [
    "s = Solution()\n",
    "t = \"l|*e*et|c**o|*de|\"\n",
    "\"\"\"\n",
    "\"l|*e*et|c**o|*de|\"\n",
    "\"iamprogrammer\"\n",
    "\"yo|uar|e**|b|e***au|tifu|l\"\n",
    "\"*||||**||*||**|**||*|||**\"\n",
    "\"\"\"\n",
    "s.countAsterisks(t) "
   ]
  },
  {
   "cell_type": "code",
   "execution_count": null,
   "id": "interstate-nelson",
   "metadata": {},
   "outputs": [],
   "source": [
    "2379. Minimum Recolors to Get K Consecutive Black Blocks\n",
    "User Accepted:9754\n",
    "User Tried:11013\n",
    "Total Accepted:10164\n",
    "Total Submissions:20450\n",
    "Difficulty:Easy\n",
    "You are given a 0-indexed string blocks of length n, where blocks[i] is either 'W' or 'B', representing the color of the ith block. The characters 'W' and 'B' denote the colors white and black, respectively.\n",
    "\n",
    "You are also given an integer k, which is the desired number of consecutive black blocks.\n",
    "\n",
    "In one operation, you can recolor a white block such that it becomes a black block.\n",
    "\n",
    "Return the minimum number of operations needed such that there is at least one occurrence of k consecutive black blocks.\n",
    "\n",
    " Example 1:\n",
    "        Input: blocks = \"WBBWWBBWBW\", k = 7\n",
    "Output: 3\n",
    "Explanation:\n",
    "One way to achieve 7 consecutive black blocks is to recolor the 0th, 3rd, and 4th blocks\n",
    "so that blocks = \"BBBBBBBWBW\". \n",
    "It can be shown that there is no way to achieve 7 consecutive black blocks in less than 3 operations.\n",
    "Therefore, we return 3.\n",
    "\n",
    "Example 2:\n",
    "    Input: blocks = \"WBWBBBW\", k = 2\n",
    "Output: 0\n",
    "Explanation:\n",
    "No changes need to be made, since 2 consecutive black blocks already exist.\n",
    "Therefore, we return 0."
   ]
  },
  {
   "cell_type": "code",
   "execution_count": null,
   "id": "accepted-penguin",
   "metadata": {},
   "outputs": [],
   "source": []
  },
  {
   "cell_type": "code",
   "execution_count": null,
   "id": "comparable-highlight",
   "metadata": {},
   "outputs": [],
   "source": []
  }
 ],
 "metadata": {
  "kernelspec": {
   "display_name": "Python 3",
   "language": "python",
   "name": "python3"
  },
  "language_info": {
   "codemirror_mode": {
    "name": "ipython",
    "version": 3
   },
   "file_extension": ".py",
   "mimetype": "text/x-python",
   "name": "python",
   "nbconvert_exporter": "python",
   "pygments_lexer": "ipython3",
   "version": "3.9.2"
  }
 },
 "nbformat": 4,
 "nbformat_minor": 5
}
