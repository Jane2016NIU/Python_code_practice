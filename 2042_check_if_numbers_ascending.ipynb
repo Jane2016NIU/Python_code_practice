{
 "cells": [
  {
   "cell_type": "markdown",
   "id": "strange-blair",
   "metadata": {},
   "source": [
    "2042. Check if Numbers Are Ascending in a Sentence"
   ]
  },
  {
   "cell_type": "markdown",
   "id": "final-fellowship",
   "metadata": {},
   "source": [
    "A sentence is a list of tokens separated by a single space with no leading or trailing spaces. Every token is either a positive number consisting of digits 0-9 with no leading zeros, or a word consisting of lowercase English letters.\n",
    "\n",
    "For example, \"a puppy has 2 eyes 4 legs\" is a sentence with seven tokens: \"2\" and \"4\" are numbers and the other tokens such as \"puppy\" are words.\n",
    "Given a string s representing a sentence, you need to check if all the numbers in s are strictly increasing from left to right (i.e., other than the last number, each number is strictly smaller than the number on its right in s).\n",
    "\n",
    "Return true if so, or false otherwise."
   ]
  },
  {
   "cell_type": "code",
   "execution_count": 56,
   "id": "preceding-potential",
   "metadata": {},
   "outputs": [],
   "source": [
    "class Solution:\n",
    "    def areNumbersAscending(self, s: str) -> bool:\n",
    "        l = s.split(' ')\n",
    "        num = []\n",
    "        print(l)\n",
    "        for i in range(len(l)):\n",
    "            if l[i].isnumeric():\n",
    "                num.append(l[i])\n",
    "        print(num)\n",
    "        for j in range(len(num) - 1):\n",
    "            print(j, num[j], num[j+1], int(num[j])>int(num[j+1]))\n",
    "            \n",
    "            if (int(num[j]) > int(num[j+1])):\n",
    "                print(\"Get num[j] = \", num[j], \"num[j+1] = \", num[j+1])\n",
    "                return False\n",
    "        return True"
   ]
  },
  {
   "cell_type": "code",
   "execution_count": 57,
   "id": "extreme-heavy",
   "metadata": {},
   "outputs": [],
   "source": [
    "s = \"sunset is at 7 51 pm overnight lows will be in the low 50 and 60 s\""
   ]
  },
  {
   "cell_type": "code",
   "execution_count": 58,
   "id": "unusual-concept",
   "metadata": {},
   "outputs": [],
   "source": [
    "solution = Solution()\n"
   ]
  },
  {
   "cell_type": "code",
   "execution_count": 59,
   "id": "exotic-printing",
   "metadata": {},
   "outputs": [
    {
     "name": "stdout",
     "output_type": "stream",
     "text": [
      "['sunset', 'is', 'at', '7', '51', 'pm', 'overnight', 'lows', 'will', 'be', 'in', 'the', 'low', '50', 'and', '60', 's']\n",
      "['7', '51', '50', '60']\n",
      "0 7 51 False\n",
      "1 51 50 True\n",
      "Get num[j] =  51 num[j+1] =  50\n"
     ]
    },
    {
     "data": {
      "text/plain": [
       "False"
      ]
     },
     "execution_count": 59,
     "metadata": {},
     "output_type": "execute_result"
    }
   ],
   "source": [
    "solution.areNumbersAscending(s)"
   ]
  },
  {
   "cell_type": "code",
   "execution_count": null,
   "id": "chicken-turkey",
   "metadata": {},
   "outputs": [],
   "source": []
  }
 ],
 "metadata": {
  "kernelspec": {
   "display_name": "Python 3",
   "language": "python",
   "name": "python3"
  },
  "language_info": {
   "codemirror_mode": {
    "name": "ipython",
    "version": 3
   },
   "file_extension": ".py",
   "mimetype": "text/x-python",
   "name": "python",
   "nbconvert_exporter": "python",
   "pygments_lexer": "ipython3",
   "version": "3.9.2"
  }
 },
 "nbformat": 4,
 "nbformat_minor": 5
}
