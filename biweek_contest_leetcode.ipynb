{
 "cells": [
  {
   "cell_type": "code",
   "execution_count": null,
   "id": "elementary-pillow",
   "metadata": {},
   "outputs": [],
   "source": [
    "You are given a positive integer num consisting of exactly four digits. Split num into two new integers new1 and new2 by using the digits found in num. Leading zeros are allowed in new1 and new2, and all the digits found in num must be used.\n",
    "\n",
    "For example, given num = 2932, you have the following digits: two 2's, one 9 and one 3. Some of the possible pairs [new1, new2] are [22, 93], [23, 92], [223, 9] and [2, 329].\n",
    "Return the minimum possible sum of new1 and new2."
   ]
  },
  {
   "cell_type": "code",
   "execution_count": 27,
   "id": "closing-preserve",
   "metadata": {},
   "outputs": [],
   "source": [
    "class Solution:\n",
    "    def minimumSum(self, num: int) -> int:\n",
    "        # get all 4 digits \n",
    "\n",
    "        digits = [int(i) for i in str(num)]\n",
    "        print(digits)\n"
   ]
  },
  {
   "cell_type": "code",
   "execution_count": 28,
   "id": "hindu-hepatitis",
   "metadata": {},
   "outputs": [],
   "source": [
    "s = Solution()"
   ]
  },
  {
   "cell_type": "code",
   "execution_count": 30,
   "id": "intermediate-bidder",
   "metadata": {},
   "outputs": [
    {
     "name": "stdout",
     "output_type": "stream",
     "text": [
      "[5, 3, 2, 1]\n"
     ]
    }
   ],
   "source": [
    "s.minimumSum(5321)"
   ]
  },
  {
   "cell_type": "markdown",
   "id": "flush-sentence",
   "metadata": {},
   "source": [
    "6024. Most Frequent Number Following Key In an Array\n",
    "User Accepted:5670\n",
    "User Tried:6419\n",
    "Total Accepted:5748\n",
    "Total Submissions:8901\n",
    "Difficulty:Easy\n",
    "You are given a 0-indexed integer array nums. You are also given an integer key, which is present in nums.\n",
    "\n",
    "For every unique integer target in nums, count the number of times target immediately follows an occurrence of key in nums. In other words, count the number of indices i such that:\n",
    "\n",
    "0 <= i <= n - 2,\n",
    "nums[i] == key and,\n",
    "nums[i + 1] == target.\n",
    "Return the target with the maximum count. The test cases will be generated such that the target with maximum count is unique.\n",
    "\n",
    "\n",
    "Example 1:\n",
    "\n",
    "Input: nums = [1,100,200,1,100], key = 1\n",
    "Output: 100\n",
    "Explanation: For target = 100, there are 2 occurrences at indices 1 and 4 which follow an occurrence of key.\n",
    "No other integers follow an occurrence of key, so we return 100.\n",
    "\n",
    "Example 2:\n",
    "\n",
    "Input: nums = [2,2,2,2,3], key = 2\n",
    "Output: 2\n",
    "Explanation: For target = 2, there are 3 occurrences at indices 1, 2, and 3 which follow an occurrence of key.\n",
    "For target = 3, there is only one occurrence at index 4 which follows an occurrence of key.\n",
    "target = 2 has the maximum number of occurrences following an occurrence of key, so we return 2."
   ]
  },
  {
   "cell_type": "code",
   "execution_count": 2,
   "id": "intermediate-warner",
   "metadata": {},
   "outputs": [],
   "source": [
    "import operator\n",
    "class Solution:\n",
    "    def mostFrequent(self, nums: list[int], key: int) -> int:\n",
    "        # make an empty dict and make target is key and the frequency as value do a scan and and get a dictionary and then get the max value related the key in this dictionary \n",
    "        result_pairs = dict()\n",
    "        for i in range(len(nums)):\n",
    "            if nums[i] == key and i < len(nums) - 1:\n",
    "                if nums[i+1] in result_pairs.keys() :\n",
    "                    result_pairs[nums[i+1]] += 1\n",
    "                else: \n",
    "                    result_pairs[nums[i+1]] = 1\n",
    "        return max(result_pairs.items(), key=operator.itemgetter(1))[0]"
   ]
  },
  {
   "cell_type": "code",
   "execution_count": 5,
   "id": "funky-emphasis",
   "metadata": {},
   "outputs": [
    {
     "data": {
      "text/plain": [
       "2"
      ]
     },
     "execution_count": 5,
     "metadata": {},
     "output_type": "execute_result"
    }
   ],
   "source": [
    "s = Solution()\n",
    "nums = [2,2,2,2,3] \n",
    "#[1,100,200,1,100] \n",
    "# [2,2,2,2,3]\n",
    "key = 2\n",
    "s.mostFrequent(nums, key)"
   ]
  },
  {
   "cell_type": "markdown",
   "id": "indonesian-staff",
   "metadata": {},
   "source": [
    "2206. Divide Array Into Equal Pairs\n",
    "User Accepted:8388\n",
    "User Tried:8760\n",
    "Total Accepted:8722\n",
    "Total Submissions:11538\n",
    "Difficulty:Easy\n",
    "You are given an integer array nums consisting of 2 * n integers.\n",
    "\n",
    "You need to divide nums into n pairs such that:\n",
    "\n",
    "Each element belongs to exactly one pair.\n",
    "The elements present in a pair are equal.\n",
    "Return true if nums can be divided into n pairs, otherwise return false.\n",
    "\n"
   ]
  },
  {
   "cell_type": "code",
   "execution_count": null,
   "id": "comic-weather",
   "metadata": {},
   "outputs": [],
   "source": [
    "class Solution:\n",
    "    def divideArray(self, nums: List[int]) -> bool:\n",
    "        if len(nums)%2:\n",
    "            return false\n",
    "        nums.sort()\n",
    "        for i in range(len(nums)//2):\n",
    "            if nums[2*i] != nums[2*i+1]:\n",
    "                return False\n",
    "            \n",
    "        return True"
   ]
  },
  {
   "cell_type": "code",
   "execution_count": null,
   "id": "animated-officer",
   "metadata": {},
   "outputs": [],
   "source": []
  },
  {
   "cell_type": "code",
   "execution_count": null,
   "id": "pursuant-adoption",
   "metadata": {},
   "outputs": [],
   "source": []
  }
 ],
 "metadata": {
  "kernelspec": {
   "display_name": "Python 3",
   "language": "python",
   "name": "python3"
  },
  "language_info": {
   "codemirror_mode": {
    "name": "ipython",
    "version": 3
   },
   "file_extension": ".py",
   "mimetype": "text/x-python",
   "name": "python",
   "nbconvert_exporter": "python",
   "pygments_lexer": "ipython3",
   "version": "3.9.2"
  }
 },
 "nbformat": 4,
 "nbformat_minor": 5
}
