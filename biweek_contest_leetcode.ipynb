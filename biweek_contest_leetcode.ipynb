{
 "cells": [
  {
   "cell_type": "code",
   "execution_count": 27,
   "id": "uniform-batman",
   "metadata": {},
   "outputs": [],
   "source": [
    "class Solution:\n",
    "    def minimumSum(self, num: int) -> int:\n",
    "        # get all 4 digits \n",
    "\n",
    "        digits = [int(i) for i in str(num)]\n",
    "        print(digits)\n"
   ]
  },
  {
   "cell_type": "code",
   "execution_count": 28,
   "id": "specified-mandate",
   "metadata": {},
   "outputs": [],
   "source": [
    "s = Solution()"
   ]
  },
  {
   "cell_type": "code",
   "execution_count": 30,
   "id": "stylish-joint",
   "metadata": {},
   "outputs": [
    {
     "name": "stdout",
     "output_type": "stream",
     "text": [
      "[5, 3, 2, 1]\n"
     ]
    }
   ],
   "source": [
    "s.minimumSum(5321)"
   ]
  },
  {
   "cell_type": "code",
   "execution_count": null,
   "id": "opened-paradise",
   "metadata": {},
   "outputs": [],
   "source": []
  },
  {
   "cell_type": "code",
   "execution_count": null,
   "id": "charitable-aviation",
   "metadata": {},
   "outputs": [],
   "source": []
  }
 ],
 "metadata": {
  "kernelspec": {
   "display_name": "Python 3",
   "language": "python",
   "name": "python3"
  },
  "language_info": {
   "codemirror_mode": {
    "name": "ipython",
    "version": 3
   },
   "file_extension": ".py",
   "mimetype": "text/x-python",
   "name": "python",
   "nbconvert_exporter": "python",
   "pygments_lexer": "ipython3",
   "version": "3.9.2"
  }
 },
 "nbformat": 4,
 "nbformat_minor": 5
}
