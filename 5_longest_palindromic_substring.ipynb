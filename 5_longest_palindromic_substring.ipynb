{
 "cells": [
  {
   "cell_type": "markdown",
   "id": "fifty-amino",
   "metadata": {},
   "source": [
    "5. Longest Palindromic Substring\n",
    "\n",
    "Given a string s, return the longest palindromic substring in s.\n",
    "\n",
    "Example 1:\n",
    "Input: s = \"babad\"\n",
    "Output: \"bab\"\n",
    "Note: \"aba\" is also a valid answer."
   ]
  },
  {
   "cell_type": "code",
   "execution_count": null,
   "id": "cutting-cable",
   "metadata": {},
   "outputs": [],
   "source": [
    "class Solution:\n",
    "    def longestPalindrome(self, s: str) -> str:\n",
    "        res = \"\"\n",
    "        length = 0\n",
    "        # odd length string\n",
    "        if len(s) % 2 > 0:\n",
    "            for i in range(len(s)):\n",
    "                k, j = i, i\n",
    "                while k >= 0 and j < len(s) and s[k] == s[j] and j - k + 1 > length:\n",
    "                    res = s[k:j+1]\n",
    "                    length = j - k + 1\n",
    "                    k -= 1\n",
    "                    j += 1\n",
    "                             \n",
    "        # even length string\n",
    "        if len(s) % 2 == 0:\n",
    "            for i in range(len(s)):\n",
    "                k, j = i, i\n",
    "                while k >= 0 and j < len(s) and s[k] == s[j] and j - k + 1 > length: \n",
    "                    res = s[k:j+1]\n",
    "                    length = j - k + 1\n",
    "                    k -= 1 \n",
    "                    j += 1\n",
    "                    \n",
    "        return res\n",
    "                    \n",
    "                \n",
    "                    \n",
    "                \n",
    "                \n",
    "        # even length string"
   ]
  }
 ],
 "metadata": {
  "kernelspec": {
   "display_name": "Python 3",
   "language": "python",
   "name": "python3"
  },
  "language_info": {
   "codemirror_mode": {
    "name": "ipython",
    "version": 3
   },
   "file_extension": ".py",
   "mimetype": "text/x-python",
   "name": "python",
   "nbconvert_exporter": "python",
   "pygments_lexer": "ipython3",
   "version": "3.9.2"
  }
 },
 "nbformat": 4,
 "nbformat_minor": 5
}
