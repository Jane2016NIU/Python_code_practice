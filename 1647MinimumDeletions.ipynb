{
 "cells": [
  {
   "cell_type": "code",
   "execution_count": null,
   "id": "global-bowling",
   "metadata": {},
   "outputs": [],
   "source": [
    "1647. Minimum Deletions to Make Character Frequencies Unique"
   ]
  },
  {
   "cell_type": "code",
   "execution_count": 1,
   "id": "productive-excitement",
   "metadata": {},
   "outputs": [],
   "source": [
    "class Solution:\n",
    "    def minDeletions(self, s: str) -> int:\n",
    "        dt = {}\n",
    "        st = set()\n",
    "        cnt = 0\n",
    "        # build a dictionary hold key and count\n",
    "        for i in s:\n",
    "            if i not in dt:\n",
    "                dt[i] = 0\n",
    "            dt[i] += 1\n",
    "        print (dt)\n",
    "        # loop the dictionary build a set to hold all unique frequencies\n",
    "        for j,k in dt.items():\n",
    "            if k in st:\n",
    "                while k > 0 and k in st:\n",
    "                    k -= 1 \n",
    "                    cnt += 1\n",
    "            st.add(k)\n",
    "            \n",
    "        return cnt\n",
    "             "
   ]
  },
  {
   "cell_type": "code",
   "execution_count": 7,
   "id": "meaningful-official",
   "metadata": {},
   "outputs": [],
   "source": [
    "sol = Solution()"
   ]
  },
  {
   "cell_type": "code",
   "execution_count": 8,
   "id": "welcome-track",
   "metadata": {},
   "outputs": [],
   "source": [
    "s = \"asdddwwffaseaf\"\n"
   ]
  },
  {
   "cell_type": "code",
   "execution_count": 9,
   "id": "exclusive-documentary",
   "metadata": {},
   "outputs": [
    {
     "data": {
      "text/plain": [
       "8"
      ]
     },
     "execution_count": 9,
     "metadata": {},
     "output_type": "execute_result"
    }
   ],
   "source": [
    "sol.minDeletions(s)"
   ]
  },
  {
   "cell_type": "code",
   "execution_count": null,
   "id": "elegant-gross",
   "metadata": {},
   "outputs": [],
   "source": []
  }
 ],
 "metadata": {
  "kernelspec": {
   "display_name": "Python 3",
   "language": "python",
   "name": "python3"
  },
  "language_info": {
   "codemirror_mode": {
    "name": "ipython",
    "version": 3
   },
   "file_extension": ".py",
   "mimetype": "text/x-python",
   "name": "python",
   "nbconvert_exporter": "python",
   "pygments_lexer": "ipython3",
   "version": "3.9.2"
  }
 },
 "nbformat": 4,
 "nbformat_minor": 5
}
