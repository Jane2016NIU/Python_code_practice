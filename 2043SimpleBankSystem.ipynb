{
 "cells": [
  {
   "cell_type": "code",
   "execution_count": 2,
   "id": "wireless-tennis",
   "metadata": {},
   "outputs": [],
   "source": [
    "class Bank:\n",
    "\n",
    "    def __init__(self, balance: list[int]):\n",
    "        self.balance = balance\n",
    "\n",
    "    def transfer(self, account1: int, account2: int, money: int) -> bool:\n",
    "        if self.withdraw(self, account1):\n",
    "            if self.deposit(self, account2):\n",
    "                return True\n",
    "            return Flase\n",
    "\n",
    "    def deposit(self, account: int, money: int) -> bool:\n",
    "        if account < 1 or account > len(self.balance): \n",
    "            return False\n",
    "        self.balance[account - 1] += money\n",
    "        return True\n",
    "    \n",
    "    def withdraw(self, account: int, money: int) -> bool:\n",
    "#         if 1 <= account <= len(self.balance): \n",
    "#             self.balance[account-1] += money\n",
    "#             return True \n",
    "        \n",
    "        if (0 < account) and (len(self.balance) > account) and (self.balance[account - 1] >= money):\n",
    "            self.balance[account - 1] -= money\n",
    "            return True\n",
    "        \n",
    "        return False"
   ]
  },
  {
   "cell_type": "code",
   "execution_count": 3,
   "id": "massive-kansas",
   "metadata": {},
   "outputs": [],
   "source": [
    "bak = Bank([10, 100, 20, 50, 30])"
   ]
  },
  {
   "cell_type": "code",
   "execution_count": null,
   "id": "legal-curve",
   "metadata": {},
   "outputs": [],
   "source": []
  },
  {
   "cell_type": "code",
   "execution_count": 4,
   "id": "tropical-emperor",
   "metadata": {},
   "outputs": [
    {
     "data": {
      "text/plain": [
       "True"
      ]
     },
     "execution_count": 4,
     "metadata": {},
     "output_type": "execute_result"
    }
   ],
   "source": [
    "bak.withdraw(3,10)"
   ]
  },
  {
   "cell_type": "code",
   "execution_count": 5,
   "id": "ready-aluminum",
   "metadata": {},
   "outputs": [],
   "source": [
    "class Bank:\n",
    "\n",
    "    def __init__(self, balance: list[int]):\n",
    "        self.balance = balance\n",
    "    \n",
    "    def valid(self, account: int):\n",
    "        if(account > 0 and len(self.balance) >= account): \n",
    "            return True\n",
    "        return False\n",
    "\n",
    "    def transfer(self, account1: int, account2: int, money: int) -> bool:\n",
    "        if self.withdraw(self, account1):\n",
    "            if self.deposit(self, account2):\n",
    "                return True\n",
    "            return Flase\n",
    "\n",
    "    def deposit(self, account: int, money: int) -> bool:\n",
    "        if self.valid(account):\n",
    "            self.balance[account - 1] += money\n",
    "            return True\n",
    "        \n",
    "        return False\n",
    "    \n",
    "    def withdraw(self, account: int, money: int) -> bool:\n",
    "        if self.valid(account): \n",
    "            self.balance[account-1] += money\n",
    "            return True     \n",
    "        return False"
   ]
  },
  {
   "cell_type": "code",
   "execution_count": 6,
   "id": "beginning-balance",
   "metadata": {},
   "outputs": [],
   "source": [
    "bak = Bank([10, 100, 20, 50, 30])"
   ]
  },
  {
   "cell_type": "code",
   "execution_count": 7,
   "id": "silver-retirement",
   "metadata": {},
   "outputs": [
    {
     "data": {
      "text/plain": [
       "True"
      ]
     },
     "execution_count": 7,
     "metadata": {},
     "output_type": "execute_result"
    }
   ],
   "source": [
    "bak.withdraw(3,10)"
   ]
  },
  {
   "cell_type": "code",
   "execution_count": 9,
   "id": "unlike-humanitarian",
   "metadata": {},
   "outputs": [],
   "source": [
    "class Bank:\n",
    "\n",
    "    def __init__(self, balance: list[int]):\n",
    "        self.balance = balance\n",
    "    \n",
    "    def valid(self, account: int):\n",
    "        if account < 1 or account > len(self.balance): \n",
    "            return False\n",
    "        return True\n",
    "    \n",
    "    def transfer(self, account1: int, account2: int, money: int) -> bool:\n",
    "        if self.valid(account1) and self.valid(account2) and self.balance[account1-1] > money:\n",
    "            self.balance[account2 - 1] +=  money\n",
    "            self.balance[account1 - 1] -= money\n",
    "            return True\n",
    "        return False\n",
    "\n",
    "    def deposit(self, account: int, money: int) -> bool:\n",
    "        if self.valid(account): \n",
    "            self.balance[account - 1] += money\n",
    "            return True\n",
    "    \n",
    "    def withdraw(self, account: int, money: int) -> bool:\n",
    "        \n",
    "        if self.valid(account):\n",
    "            if self.balance[account - 1] > money:\n",
    "                self.balance[account - 1] -= money\n",
    "                return True\n",
    "            \n",
    "            return False\n",
    "        \n",
    "        "
   ]
  },
  {
   "cell_type": "code",
   "execution_count": 10,
   "id": "productive-reasoning",
   "metadata": {},
   "outputs": [],
   "source": [
    "bak = Bank([10, 100, 20, 50, 30])\n"
   ]
  },
  {
   "cell_type": "code",
   "execution_count": 11,
   "id": "basic-validation",
   "metadata": {},
   "outputs": [
    {
     "data": {
      "text/plain": [
       "True"
      ]
     },
     "execution_count": 11,
     "metadata": {},
     "output_type": "execute_result"
    }
   ],
   "source": [
    "bak.withdraw(3,10)"
   ]
  },
  {
   "cell_type": "code",
   "execution_count": null,
   "id": "attached-huntington",
   "metadata": {},
   "outputs": [],
   "source": []
  },
  {
   "cell_type": "code",
   "execution_count": null,
   "id": "stuffed-estimate",
   "metadata": {},
   "outputs": [],
   "source": []
  }
 ],
 "metadata": {
  "kernelspec": {
   "display_name": "Python 3",
   "language": "python",
   "name": "python3"
  },
  "language_info": {
   "codemirror_mode": {
    "name": "ipython",
    "version": 3
   },
   "file_extension": ".py",
   "mimetype": "text/x-python",
   "name": "python",
   "nbconvert_exporter": "python",
   "pygments_lexer": "ipython3",
   "version": "3.9.2"
  }
 },
 "nbformat": 4,
 "nbformat_minor": 5
}
