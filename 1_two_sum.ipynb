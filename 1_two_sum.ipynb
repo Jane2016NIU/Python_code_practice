{
 "cells": [
  {
   "cell_type": "markdown",
   "id": "9b73c913",
   "metadata": {},
   "source": [
    "* Two Sum:\n",
    "    * Given an array of integers nums and an integer target, return indices of the two numbers such that they add up to target.\n",
    "\n",
    "    * You may assume that each input would have exactly one solution, and you may not use the same element twice.\n",
    "\n",
    "    * You can return the answer in any order."
   ]
  },
  {
   "cell_type": "code",
   "execution_count": 1,
   "id": "c1642036",
   "metadata": {},
   "outputs": [],
   "source": [
    "class Solution:\n",
    "    def twoSum(slef, nums, target):\n",
    "        \"\"\"\n",
    "        :type nums: List[int]\n",
    "        :type target: int\n",
    "        :rtype: List[int]\n",
    "        \"\"\"\n",
    "        dic = {}\n",
    "        \n",
    "        for i in range(len(nums)):\n",
    "            # put (target - num[i]) as key and current index as value, this will save a second check \n",
    "            if nums[i] not in dic: \n",
    "                dic[target - nums[i]] = i\n",
    "            else:\n",
    "                return dic[nums[i]], i\n",
    "            \n",
    "        return False"
   ]
  },
  {
   "cell_type": "code",
   "execution_count": 2,
   "id": "9d0cf53d",
   "metadata": {},
   "outputs": [],
   "source": [
    "s = Solution()"
   ]
  },
  {
   "cell_type": "code",
   "execution_count": 3,
   "id": "d73d3bfb",
   "metadata": {},
   "outputs": [],
   "source": [
    "l = [2,3,3,15]\n",
    "target = 6"
   ]
  },
  {
   "cell_type": "code",
   "execution_count": 5,
   "id": "37d47260",
   "metadata": {},
   "outputs": [
    {
     "name": "stdout",
     "output_type": "stream",
     "text": [
      "(1, 2)\n"
     ]
    }
   ],
   "source": [
    "print(s.twoSum(l, target))"
   ]
  },
  {
   "cell_type": "code",
   "execution_count": 7,
   "id": "0eee4548",
   "metadata": {},
   "outputs": [],
   "source": [
    "class Solution:\n",
    "    def twoSum(self, nums: list[int], target: int) -> list[int]:\n",
    "        # number in list index: \n",
    "        # dictionary: num[i]\n",
    "        \n",
    "        dic = {}\n",
    "        for i in range(len(nums)):\n",
    "            dic[nums[i]] = i\n",
    "        for i in range(len(nums)):\n",
    "            res = target - nums[i]\n",
    "            if res in dic and dic[res] > i:\n",
    "                return [i, dic[res]]"
   ]
  },
  {
   "cell_type": "code",
   "execution_count": 8,
   "id": "35643831",
   "metadata": {},
   "outputs": [],
   "source": [
    "s = Solution()\n",
    "l = [2,3,3,15]\n",
    "target = 6"
   ]
  },
  {
   "cell_type": "code",
   "execution_count": 9,
   "id": "5aee5b88",
   "metadata": {},
   "outputs": [
    {
     "name": "stdout",
     "output_type": "stream",
     "text": [
      "[1, 2]\n"
     ]
    }
   ],
   "source": [
    "print(s.twoSum(l, target))"
   ]
  },
  {
   "cell_type": "code",
   "execution_count": null,
   "id": "21db23b8",
   "metadata": {},
   "outputs": [],
   "source": []
  }
 ],
 "metadata": {
  "kernelspec": {
   "display_name": "Python 3 (ipykernel)",
   "language": "python",
   "name": "python3"
  },
  "language_info": {
   "codemirror_mode": {
    "name": "ipython",
    "version": 3
   },
   "file_extension": ".py",
   "mimetype": "text/x-python",
   "name": "python",
   "nbconvert_exporter": "python",
   "pygments_lexer": "ipython3",
   "version": "3.7.9"
  }
 },
 "nbformat": 4,
 "nbformat_minor": 5
}
