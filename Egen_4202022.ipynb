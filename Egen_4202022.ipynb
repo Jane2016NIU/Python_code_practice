{
 "cells": [
  {
   "cell_type": "markdown",
   "id": "minimal-notebook",
   "metadata": {},
   "source": [
    "[12:27 PM] Sri Datla\n",
    "You are given an array prices where prices[i] is the price of a given stock on the ith day.\n",
    "You want to maximize your profit by choosing a single day to buy one stock and choosing a different day in the future to sell that stock.\n",
    "Return the maximum profit you can achieve from this transaction. If you cannot achieve any profit, return 0.\n",
    "Example:\n",
    "Input: prices = [7,1,5,3,6,4]\n",
    "Output: 5\n",
    "Explanation: Buy on day 2 (price = 1) and sell on day 5 (price = 6), profit = 6-1 = 5.\n",
    "Note that buying on day 2 and selling on day 1 is not allowed because you must buy before you sell.\n",
    "\n"
   ]
  },
  {
   "cell_type": "code",
   "execution_count": 12,
   "id": "affecting-ballot",
   "metadata": {},
   "outputs": [],
   "source": [
    "def strategy(prices):\n",
    "    start = prices.index(min(prices))\n",
    "    #print(start)\n",
    "    \n",
    "    #print(new_price)\n",
    "    end = prices.index(max(prices[start:]))\n",
    "    #print(end)\n",
    "    max_profit = new_price[end] - prices[start]\n",
    "    return max_profit\n",
    "\n"
   ]
  },
  {
   "cell_type": "code",
   "execution_count": 10,
   "id": "focused-alloy",
   "metadata": {},
   "outputs": [],
   "source": [
    "prices = [7,1,5,3,6,4]"
   ]
  },
  {
   "cell_type": "code",
   "execution_count": 11,
   "id": "another-proportion",
   "metadata": {},
   "outputs": [
    {
     "name": "stdout",
     "output_type": "stream",
     "text": [
      "1\n",
      "[1, 5, 3, 6, 4]\n",
      "3\n",
      "5\n"
     ]
    }
   ],
   "source": [
    "print(strategy(prices))"
   ]
  },
  {
   "cell_type": "code",
   "execution_count": null,
   "id": "latest-procurement",
   "metadata": {},
   "outputs": [],
   "source": [
    "Question:\n",
    "\n",
    "\n",
    "\n",
    "You are developing a new programming language and currently working on variable names. You have a list of words that you consider to be good and could be used for variable names. All the strings in words consist of lowercase English letters.\n",
    "\n",
    "\n",
    "\n",
    "A complex variable name is a combination (possibly with repetitions) of some strings from words, written in CamelCase. In other words, all the strings are written without spaces and each string (with the possible exception of the first one) starts with a capital letter.\n",
    "\n",
    "\n",
    "\n",
    "Your programming language should accept complex variable names only.\n",
    "\n",
    "\n",
    "\n",
    "You need to check if the variableName is accepted by your programming language.\n",
    "\n",
    "\n",
    "\n",
    "Example\n",
    "\n",
    "\n",
    "\n",
    "For words = [\"is\", \"valid\", \"right\"] and variableName = \"isValid\", the output should be solution(words, variableName) = true.\n",
    "\n",
    "\n",
    "\n",
    "As variableName consists of words \"is\" and \"valid\", and both of them are in words.\n",
    "\n",
    "\n",
    "\n",
    "For words = [\"is\", \"valid\", \"right\"] and variableName = \"IsValid\", the output should be solution(words, variableName) = true.\n",
    "\n",
    "\n",
    "\n",
    "Note that both variants: \"IsValid\" and \"isValid\" are valid in CamelCase.\n",
    "\n",
    "\n",
    "\n",
    "For words = [\"is\", \"valid\", \"right\"] and variableName = \"isValId\", the output should be solution(words, variableName) = false.\n",
    "\n",
    "\n",
    "\n",
    "variableName is separated to words \"is\", \"val\", \"id\", and not all words are in words."
   ]
  },
  {
   "cell_type": "code",
   "execution_count": 37,
   "id": "directed-appointment",
   "metadata": {},
   "outputs": [],
   "source": [
    "import re\n",
    "\n",
    "def judge(list1, variableName):\n",
    "    #variableName.split()\n",
    "    s = re.split('(?=[A-Z])',variableName)\n",
    "    \n",
    "    s = [i for i in s if i != '']\n",
    "         \n",
    "    y = [x.lower() for x in s]\n",
    "    print(y)\n",
    "    for i in y:\n",
    "        if i not in list1:\n",
    "            return False\n",
    "        \n",
    "    return True\n",
    "    "
   ]
  },
  {
   "cell_type": "code",
   "execution_count": 38,
   "id": "adopted-washington",
   "metadata": {},
   "outputs": [
    {
     "name": "stdout",
     "output_type": "stream",
     "text": [
      "['is', 'valid']\n"
     ]
    },
    {
     "data": {
      "text/plain": [
       "True"
      ]
     },
     "execution_count": 38,
     "metadata": {},
     "output_type": "execute_result"
    }
   ],
   "source": [
    "words = [\"is\", \"valid\", \"right\"]\n",
    "variableName = \"IsValid\"\n",
    "judge(words, variableName = \"IsValid\")"
   ]
  },
  {
   "cell_type": "code",
   "execution_count": null,
   "id": "stone-container",
   "metadata": {},
   "outputs": [],
   "source": []
  }
 ],
 "metadata": {
  "kernelspec": {
   "display_name": "Python 3",
   "language": "python",
   "name": "python3"
  },
  "language_info": {
   "codemirror_mode": {
    "name": "ipython",
    "version": 3
   },
   "file_extension": ".py",
   "mimetype": "text/x-python",
   "name": "python",
   "nbconvert_exporter": "python",
   "pygments_lexer": "ipython3",
   "version": "3.9.2"
  }
 },
 "nbformat": 4,
 "nbformat_minor": 5
}
